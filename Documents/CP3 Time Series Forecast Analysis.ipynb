{
 "cells": [
  {
   "cell_type": "code",
   "execution_count": 1,
   "id": "0f38081b",
   "metadata": {},
   "outputs": [],
   "source": [
    "import pandas as pd\n",
    "import numpy as np\n",
    "import seaborn as sns\n",
    "import matplotlib.pyplot as plt\n",
    "%matplotlib inline\n",
    "import pyarrow as pa\n",
    "import pyarrow.parquet as pq\n",
    "from pylab import rcParams\n",
    "import plotly.express as px\n",
    "import plotly.graph_objects as go\n",
    "from plotly.subplots import make_subplots\n",
    "import time\n",
    "\n",
    "# Import mean_squared_error and ARIMA\n",
    "from sklearn.metrics import mean_squared_error\n",
    "from statsmodels.tsa.arima.model import ARIMA\n",
    "from statsmodels.tsa.statespace.sarimax import SARIMAX\n",
    "from pmdarima import auto_arima # for determining ARIMA orders\n",
    "\n",
    "import warnings\n",
    "warnings.filterwarnings('ignore')"
   ]
  },
  {
   "cell_type": "code",
   "execution_count": 2,
   "id": "348161aa",
   "metadata": {},
   "outputs": [],
   "source": [
    "#load dataset\n",
    "df_crimes_summary = pd.read_csv('crimes_summary.csv', parse_dates=['occurred_date_time'])"
   ]
  },
  {
   "cell_type": "code",
   "execution_count": null,
   "id": "57880ccd",
   "metadata": {},
   "outputs": [],
   "source": [
    "#this dataframe list top ten crimes which occur in the zip code 78701 under census_tract 11 which falls under council_district 9.\n",
    "#Top ten crimes are : ASSAULT BY CONTACT,ASSAULT WITH INJURY,BURGLARY OF VEHICLE,CRIMINAL MISCHIEF,DISTURBANCE - OTHER,DWI,POSS OF DRUG PARAPHERNALIA,THEFT,VIOL CITY ORDINANCE - OTHER,WARRANT ARREST NON TRAFFIC"
   ]
  },
  {
   "cell_type": "code",
   "execution_count": 3,
   "id": "88f89346",
   "metadata": {},
   "outputs": [
    {
     "data": {
      "text/html": [
       "<div>\n",
       "<style scoped>\n",
       "    .dataframe tbody tr th:only-of-type {\n",
       "        vertical-align: middle;\n",
       "    }\n",
       "\n",
       "    .dataframe tbody tr th {\n",
       "        vertical-align: top;\n",
       "    }\n",
       "\n",
       "    .dataframe thead th {\n",
       "        text-align: right;\n",
       "    }\n",
       "</style>\n",
       "<table border=\"1\" class=\"dataframe\">\n",
       "  <thead>\n",
       "    <tr style=\"text-align: right;\">\n",
       "      <th></th>\n",
       "      <th>incident_report_number</th>\n",
       "      <th>crime_type</th>\n",
       "      <th>ucr_code</th>\n",
       "      <th>family_violence</th>\n",
       "      <th>location_type</th>\n",
       "      <th>address</th>\n",
       "      <th>zip_code</th>\n",
       "      <th>council_district</th>\n",
       "      <th>sector</th>\n",
       "      <th>district</th>\n",
       "      <th>...</th>\n",
       "      <th>clearance_status</th>\n",
       "      <th>clearance_date</th>\n",
       "      <th>occurred_date_time</th>\n",
       "      <th>reported_date_time</th>\n",
       "      <th>month</th>\n",
       "      <th>year</th>\n",
       "      <th>hour</th>\n",
       "      <th>year_month</th>\n",
       "      <th>occurred_day</th>\n",
       "      <th>cal_month</th>\n",
       "    </tr>\n",
       "  </thead>\n",
       "  <tbody>\n",
       "    <tr>\n",
       "      <th>0</th>\n",
       "      <td>20223650465</td>\n",
       "      <td>ASSAULT WITH INJURY</td>\n",
       "      <td>900</td>\n",
       "      <td>N</td>\n",
       "      <td>HWY / ROAD / ALLEY/ STREET/ SIDEWALK</td>\n",
       "      <td>700 BLOCK E 7TH ST</td>\n",
       "      <td>78701</td>\n",
       "      <td>9</td>\n",
       "      <td>GE</td>\n",
       "      <td>2</td>\n",
       "      <td>...</td>\n",
       "      <td>N</td>\n",
       "      <td>2023-01-03T00:00:00.000</td>\n",
       "      <td>2022-12-31 09:24:00</td>\n",
       "      <td>2022-12-31 09:24:00</td>\n",
       "      <td>December</td>\n",
       "      <td>2022</td>\n",
       "      <td>9</td>\n",
       "      <td>2022-12</td>\n",
       "      <td>31</td>\n",
       "      <td>12</td>\n",
       "    </tr>\n",
       "    <tr>\n",
       "      <th>1</th>\n",
       "      <td>20223650192</td>\n",
       "      <td>DWI</td>\n",
       "      <td>2100</td>\n",
       "      <td>N</td>\n",
       "      <td>HWY / ROAD / ALLEY/ STREET/ SIDEWALK</td>\n",
       "      <td>E 9TH ST / N IH 35 SVRD SB</td>\n",
       "      <td>78701</td>\n",
       "      <td>9</td>\n",
       "      <td>CH</td>\n",
       "      <td>2</td>\n",
       "      <td>...</td>\n",
       "      <td>C</td>\n",
       "      <td>2022-12-31T00:00:00.000</td>\n",
       "      <td>2022-12-31 02:39:00</td>\n",
       "      <td>2022-12-31 02:39:00</td>\n",
       "      <td>December</td>\n",
       "      <td>2022</td>\n",
       "      <td>2</td>\n",
       "      <td>2022-12</td>\n",
       "      <td>31</td>\n",
       "      <td>12</td>\n",
       "    </tr>\n",
       "    <tr>\n",
       "      <th>2</th>\n",
       "      <td>20223641477</td>\n",
       "      <td>ASSAULT BY CONTACT</td>\n",
       "      <td>902</td>\n",
       "      <td>N</td>\n",
       "      <td>HWY / ROAD / ALLEY/ STREET/ SIDEWALK</td>\n",
       "      <td>708 E 6TH ST</td>\n",
       "      <td>78701</td>\n",
       "      <td>9</td>\n",
       "      <td>GE</td>\n",
       "      <td>2</td>\n",
       "      <td>...</td>\n",
       "      <td>N</td>\n",
       "      <td>2023-01-03T00:00:00.000</td>\n",
       "      <td>2022-12-30 23:40:00</td>\n",
       "      <td>2022-12-30 23:40:00</td>\n",
       "      <td>December</td>\n",
       "      <td>2022</td>\n",
       "      <td>23</td>\n",
       "      <td>2022-12</td>\n",
       "      <td>30</td>\n",
       "      <td>12</td>\n",
       "    </tr>\n",
       "    <tr>\n",
       "      <th>3</th>\n",
       "      <td>20223641378</td>\n",
       "      <td>DISTURBANCE - OTHER</td>\n",
       "      <td>3401</td>\n",
       "      <td>N</td>\n",
       "      <td>RESTAURANT</td>\n",
       "      <td>414 E 6TH ST</td>\n",
       "      <td>78701</td>\n",
       "      <td>9</td>\n",
       "      <td>GE</td>\n",
       "      <td>2</td>\n",
       "      <td>...</td>\n",
       "      <td>NaN</td>\n",
       "      <td>NaN</td>\n",
       "      <td>2022-12-30 22:28:00</td>\n",
       "      <td>2022-12-30 23:01:00</td>\n",
       "      <td>December</td>\n",
       "      <td>2022</td>\n",
       "      <td>22</td>\n",
       "      <td>2022-12</td>\n",
       "      <td>30</td>\n",
       "      <td>12</td>\n",
       "    </tr>\n",
       "    <tr>\n",
       "      <th>4</th>\n",
       "      <td>20223640858</td>\n",
       "      <td>ASSAULT WITH INJURY</td>\n",
       "      <td>900</td>\n",
       "      <td>N</td>\n",
       "      <td>HWY / ROAD / ALLEY/ STREET/ SIDEWALK</td>\n",
       "      <td>400 E 8TH ST</td>\n",
       "      <td>78701</td>\n",
       "      <td>9</td>\n",
       "      <td>GE</td>\n",
       "      <td>1</td>\n",
       "      <td>...</td>\n",
       "      <td>N</td>\n",
       "      <td>2023-01-04T00:00:00.000</td>\n",
       "      <td>2022-12-30 15:55:00</td>\n",
       "      <td>2022-12-30 15:55:00</td>\n",
       "      <td>December</td>\n",
       "      <td>2022</td>\n",
       "      <td>15</td>\n",
       "      <td>2022-12</td>\n",
       "      <td>30</td>\n",
       "      <td>12</td>\n",
       "    </tr>\n",
       "  </tbody>\n",
       "</table>\n",
       "<p>5 rows × 27 columns</p>\n",
       "</div>"
      ],
      "text/plain": [
       "   incident_report_number           crime_type  ucr_code family_violence  \\\n",
       "0             20223650465  ASSAULT WITH INJURY       900               N   \n",
       "1             20223650192                  DWI      2100               N   \n",
       "2             20223641477   ASSAULT BY CONTACT       902               N   \n",
       "3             20223641378  DISTURBANCE - OTHER      3401               N   \n",
       "4             20223640858  ASSAULT WITH INJURY       900               N   \n",
       "\n",
       "                          location_type                     address  zip_code  \\\n",
       "0  HWY / ROAD / ALLEY/ STREET/ SIDEWALK          700 BLOCK E 7TH ST     78701   \n",
       "1  HWY / ROAD / ALLEY/ STREET/ SIDEWALK  E 9TH ST / N IH 35 SVRD SB     78701   \n",
       "2  HWY / ROAD / ALLEY/ STREET/ SIDEWALK                708 E 6TH ST     78701   \n",
       "3                            RESTAURANT                414 E 6TH ST     78701   \n",
       "4  HWY / ROAD / ALLEY/ STREET/ SIDEWALK                400 E 8TH ST     78701   \n",
       "\n",
       "   council_district sector  district  ...  clearance_status  \\\n",
       "0                 9     GE         2  ...                 N   \n",
       "1                 9     CH         2  ...                 C   \n",
       "2                 9     GE         2  ...                 N   \n",
       "3                 9     GE         2  ...               NaN   \n",
       "4                 9     GE         1  ...                 N   \n",
       "\n",
       "            clearance_date  occurred_date_time   reported_date_time     month  \\\n",
       "0  2023-01-03T00:00:00.000 2022-12-31 09:24:00  2022-12-31 09:24:00  December   \n",
       "1  2022-12-31T00:00:00.000 2022-12-31 02:39:00  2022-12-31 02:39:00  December   \n",
       "2  2023-01-03T00:00:00.000 2022-12-30 23:40:00  2022-12-30 23:40:00  December   \n",
       "3                      NaN 2022-12-30 22:28:00  2022-12-30 23:01:00  December   \n",
       "4  2023-01-04T00:00:00.000 2022-12-30 15:55:00  2022-12-30 15:55:00  December   \n",
       "\n",
       "   year hour year_month occurred_day cal_month  \n",
       "0  2022    9    2022-12           31        12  \n",
       "1  2022    2    2022-12           31        12  \n",
       "2  2022   23    2022-12           30        12  \n",
       "3  2022   22    2022-12           30        12  \n",
       "4  2022   15    2022-12           30        12  \n",
       "\n",
       "[5 rows x 27 columns]"
      ]
     },
     "execution_count": 3,
     "metadata": {},
     "output_type": "execute_result"
    }
   ],
   "source": [
    "df_crimes_summary.head()"
   ]
  },
  {
   "cell_type": "code",
   "execution_count": 4,
   "id": "6fdd1679",
   "metadata": {},
   "outputs": [],
   "source": [
    "df_crimes_types=df_crimes_summary[['occurred_date_time','crime_type','hour','occurred_day','cal_month','year_month','year']]"
   ]
  },
  {
   "cell_type": "code",
   "execution_count": 5,
   "id": "d5ec0dd4",
   "metadata": {},
   "outputs": [
    {
     "name": "stdout",
     "output_type": "stream",
     "text": [
      "<class 'pandas.core.frame.DataFrame'>\n",
      "RangeIndex: 30680 entries, 0 to 30679\n",
      "Data columns (total 7 columns):\n",
      " #   Column              Non-Null Count  Dtype         \n",
      "---  ------              --------------  -----         \n",
      " 0   occurred_date_time  30680 non-null  datetime64[ns]\n",
      " 1   crime_type          30680 non-null  object        \n",
      " 2   hour                30680 non-null  int64         \n",
      " 3   occurred_day        30680 non-null  int64         \n",
      " 4   cal_month           30680 non-null  int64         \n",
      " 5   year_month          30680 non-null  object        \n",
      " 6   year                30680 non-null  int64         \n",
      "dtypes: datetime64[ns](1), int64(4), object(2)\n",
      "memory usage: 1.6+ MB\n"
     ]
    }
   ],
   "source": [
    "df_crimes_types.info()"
   ]
  },
  {
   "cell_type": "code",
   "execution_count": 87,
   "id": "32da34bd",
   "metadata": {},
   "outputs": [],
   "source": [
    "\n",
    "df_burglary=df_crimes_types.loc[(df_crimes_types['crime_type'] == 'BURGLARY OF VEHICLE')]"
   ]
  },
  {
   "cell_type": "code",
   "execution_count": 88,
   "id": "40792c7f",
   "metadata": {},
   "outputs": [
    {
     "data": {
      "text/html": [
       "<div>\n",
       "<style scoped>\n",
       "    .dataframe tbody tr th:only-of-type {\n",
       "        vertical-align: middle;\n",
       "    }\n",
       "\n",
       "    .dataframe tbody tr th {\n",
       "        vertical-align: top;\n",
       "    }\n",
       "\n",
       "    .dataframe thead th {\n",
       "        text-align: right;\n",
       "    }\n",
       "</style>\n",
       "<table border=\"1\" class=\"dataframe\">\n",
       "  <thead>\n",
       "    <tr style=\"text-align: right;\">\n",
       "      <th></th>\n",
       "      <th>occurred_date_time</th>\n",
       "      <th>crime_type</th>\n",
       "      <th>hour</th>\n",
       "      <th>occurred_day</th>\n",
       "      <th>cal_month</th>\n",
       "      <th>year_month</th>\n",
       "      <th>year</th>\n",
       "    </tr>\n",
       "  </thead>\n",
       "  <tbody>\n",
       "    <tr>\n",
       "      <th>5</th>\n",
       "      <td>2022-12-30 00:00:00</td>\n",
       "      <td>BURGLARY OF VEHICLE</td>\n",
       "      <td>0</td>\n",
       "      <td>30</td>\n",
       "      <td>12</td>\n",
       "      <td>2022-12</td>\n",
       "      <td>2022</td>\n",
       "    </tr>\n",
       "    <tr>\n",
       "      <th>12</th>\n",
       "      <td>2022-12-27 17:00:00</td>\n",
       "      <td>BURGLARY OF VEHICLE</td>\n",
       "      <td>17</td>\n",
       "      <td>27</td>\n",
       "      <td>12</td>\n",
       "      <td>2022-12</td>\n",
       "      <td>2022</td>\n",
       "    </tr>\n",
       "    <tr>\n",
       "      <th>27</th>\n",
       "      <td>2022-12-21 16:35:00</td>\n",
       "      <td>BURGLARY OF VEHICLE</td>\n",
       "      <td>16</td>\n",
       "      <td>21</td>\n",
       "      <td>12</td>\n",
       "      <td>2022-12</td>\n",
       "      <td>2022</td>\n",
       "    </tr>\n",
       "    <tr>\n",
       "      <th>29</th>\n",
       "      <td>2022-12-21 02:00:00</td>\n",
       "      <td>BURGLARY OF VEHICLE</td>\n",
       "      <td>2</td>\n",
       "      <td>21</td>\n",
       "      <td>12</td>\n",
       "      <td>2022-12</td>\n",
       "      <td>2022</td>\n",
       "    </tr>\n",
       "    <tr>\n",
       "      <th>30</th>\n",
       "      <td>2022-12-19 08:46:00</td>\n",
       "      <td>BURGLARY OF VEHICLE</td>\n",
       "      <td>8</td>\n",
       "      <td>19</td>\n",
       "      <td>12</td>\n",
       "      <td>2022-12</td>\n",
       "      <td>2022</td>\n",
       "    </tr>\n",
       "  </tbody>\n",
       "</table>\n",
       "</div>"
      ],
      "text/plain": [
       "    occurred_date_time           crime_type  hour  occurred_day  cal_month  \\\n",
       "5  2022-12-30 00:00:00  BURGLARY OF VEHICLE     0            30         12   \n",
       "12 2022-12-27 17:00:00  BURGLARY OF VEHICLE    17            27         12   \n",
       "27 2022-12-21 16:35:00  BURGLARY OF VEHICLE    16            21         12   \n",
       "29 2022-12-21 02:00:00  BURGLARY OF VEHICLE     2            21         12   \n",
       "30 2022-12-19 08:46:00  BURGLARY OF VEHICLE     8            19         12   \n",
       "\n",
       "   year_month  year  \n",
       "5     2022-12  2022  \n",
       "12    2022-12  2022  \n",
       "27    2022-12  2022  \n",
       "29    2022-12  2022  \n",
       "30    2022-12  2022  "
      ]
     },
     "execution_count": 88,
     "metadata": {},
     "output_type": "execute_result"
    }
   ],
   "source": [
    "df_burglary.head(5)"
   ]
  },
  {
   "cell_type": "code",
   "execution_count": 89,
   "id": "7d304e18",
   "metadata": {},
   "outputs": [],
   "source": [
    "df_burglary['occurred_date'] = pd.to_datetime(df_burglary['occurred_date_time'], format='%Y-%m-%d').dt.floor('D')"
   ]
  },
  {
   "cell_type": "code",
   "execution_count": 90,
   "id": "dd98033f",
   "metadata": {},
   "outputs": [
    {
     "data": {
      "text/plain": [
       "occurred_date_time    datetime64[ns]\n",
       "crime_type                    object\n",
       "hour                           int64\n",
       "occurred_day                   int64\n",
       "cal_month                      int64\n",
       "year_month                    object\n",
       "year                           int64\n",
       "occurred_date         datetime64[ns]\n",
       "dtype: object"
      ]
     },
     "execution_count": 90,
     "metadata": {},
     "output_type": "execute_result"
    }
   ],
   "source": [
    "df_burglary.dtypes"
   ]
  },
  {
   "cell_type": "code",
   "execution_count": 91,
   "id": "0bd3fce3",
   "metadata": {},
   "outputs": [
    {
     "data": {
      "text/plain": [
       "(2963, 8)"
      ]
     },
     "execution_count": 91,
     "metadata": {},
     "output_type": "execute_result"
    }
   ],
   "source": [
    "df_burglary.shape"
   ]
  },
  {
   "cell_type": "code",
   "execution_count": 92,
   "id": "c00574e2",
   "metadata": {},
   "outputs": [],
   "source": [
    "df_burglary_gpby_date=df_burglary.groupby(['year_month']).agg(\n",
    "    burglary_count=('crime_type', 'count'),\n",
    "    \n",
    " ).reset_index()"
   ]
  },
  {
   "cell_type": "code",
   "execution_count": 94,
   "id": "d2669df1",
   "metadata": {},
   "outputs": [
    {
     "data": {
      "text/html": [
       "<div>\n",
       "<style scoped>\n",
       "    .dataframe tbody tr th:only-of-type {\n",
       "        vertical-align: middle;\n",
       "    }\n",
       "\n",
       "    .dataframe tbody tr th {\n",
       "        vertical-align: top;\n",
       "    }\n",
       "\n",
       "    .dataframe thead th {\n",
       "        text-align: right;\n",
       "    }\n",
       "</style>\n",
       "<table border=\"1\" class=\"dataframe\">\n",
       "  <thead>\n",
       "    <tr style=\"text-align: right;\">\n",
       "      <th></th>\n",
       "      <th>year_month</th>\n",
       "      <th>burglary_count</th>\n",
       "    </tr>\n",
       "  </thead>\n",
       "  <tbody>\n",
       "    <tr>\n",
       "      <th>0</th>\n",
       "      <td>2013-01</td>\n",
       "      <td>21</td>\n",
       "    </tr>\n",
       "    <tr>\n",
       "      <th>1</th>\n",
       "      <td>2013-02</td>\n",
       "      <td>19</td>\n",
       "    </tr>\n",
       "    <tr>\n",
       "      <th>2</th>\n",
       "      <td>2013-03</td>\n",
       "      <td>20</td>\n",
       "    </tr>\n",
       "    <tr>\n",
       "      <th>3</th>\n",
       "      <td>2013-04</td>\n",
       "      <td>14</td>\n",
       "    </tr>\n",
       "    <tr>\n",
       "      <th>4</th>\n",
       "      <td>2013-05</td>\n",
       "      <td>41</td>\n",
       "    </tr>\n",
       "    <tr>\n",
       "      <th>...</th>\n",
       "      <td>...</td>\n",
       "      <td>...</td>\n",
       "    </tr>\n",
       "    <tr>\n",
       "      <th>115</th>\n",
       "      <td>2022-08</td>\n",
       "      <td>26</td>\n",
       "    </tr>\n",
       "    <tr>\n",
       "      <th>116</th>\n",
       "      <td>2022-09</td>\n",
       "      <td>24</td>\n",
       "    </tr>\n",
       "    <tr>\n",
       "      <th>117</th>\n",
       "      <td>2022-10</td>\n",
       "      <td>32</td>\n",
       "    </tr>\n",
       "    <tr>\n",
       "      <th>118</th>\n",
       "      <td>2022-11</td>\n",
       "      <td>24</td>\n",
       "    </tr>\n",
       "    <tr>\n",
       "      <th>119</th>\n",
       "      <td>2022-12</td>\n",
       "      <td>14</td>\n",
       "    </tr>\n",
       "  </tbody>\n",
       "</table>\n",
       "<p>120 rows × 2 columns</p>\n",
       "</div>"
      ],
      "text/plain": [
       "    year_month  burglary_count\n",
       "0      2013-01              21\n",
       "1      2013-02              19\n",
       "2      2013-03              20\n",
       "3      2013-04              14\n",
       "4      2013-05              41\n",
       "..         ...             ...\n",
       "115    2022-08              26\n",
       "116    2022-09              24\n",
       "117    2022-10              32\n",
       "118    2022-11              24\n",
       "119    2022-12              14\n",
       "\n",
       "[120 rows x 2 columns]"
      ]
     },
     "execution_count": 94,
     "metadata": {},
     "output_type": "execute_result"
    }
   ],
   "source": [
    "df_burglary_gpby_date.sort_values(by = ['year_month'], ascending = [True])"
   ]
  },
  {
   "cell_type": "code",
   "execution_count": 95,
   "id": "a274bea4",
   "metadata": {},
   "outputs": [
    {
     "data": {
      "text/html": [
       "<div>\n",
       "<style scoped>\n",
       "    .dataframe tbody tr th:only-of-type {\n",
       "        vertical-align: middle;\n",
       "    }\n",
       "\n",
       "    .dataframe tbody tr th {\n",
       "        vertical-align: top;\n",
       "    }\n",
       "\n",
       "    .dataframe thead th {\n",
       "        text-align: right;\n",
       "    }\n",
       "</style>\n",
       "<table border=\"1\" class=\"dataframe\">\n",
       "  <thead>\n",
       "    <tr style=\"text-align: right;\">\n",
       "      <th></th>\n",
       "      <th>burglary_count</th>\n",
       "    </tr>\n",
       "  </thead>\n",
       "  <tbody>\n",
       "    <tr>\n",
       "      <th>count</th>\n",
       "      <td>120.000000</td>\n",
       "    </tr>\n",
       "    <tr>\n",
       "      <th>mean</th>\n",
       "      <td>24.691667</td>\n",
       "    </tr>\n",
       "    <tr>\n",
       "      <th>std</th>\n",
       "      <td>10.868036</td>\n",
       "    </tr>\n",
       "    <tr>\n",
       "      <th>min</th>\n",
       "      <td>9.000000</td>\n",
       "    </tr>\n",
       "    <tr>\n",
       "      <th>25%</th>\n",
       "      <td>17.000000</td>\n",
       "    </tr>\n",
       "    <tr>\n",
       "      <th>50%</th>\n",
       "      <td>22.500000</td>\n",
       "    </tr>\n",
       "    <tr>\n",
       "      <th>75%</th>\n",
       "      <td>31.000000</td>\n",
       "    </tr>\n",
       "    <tr>\n",
       "      <th>max</th>\n",
       "      <td>57.000000</td>\n",
       "    </tr>\n",
       "  </tbody>\n",
       "</table>\n",
       "</div>"
      ],
      "text/plain": [
       "       burglary_count\n",
       "count      120.000000\n",
       "mean        24.691667\n",
       "std         10.868036\n",
       "min          9.000000\n",
       "25%         17.000000\n",
       "50%         22.500000\n",
       "75%         31.000000\n",
       "max         57.000000"
      ]
     },
     "execution_count": 95,
     "metadata": {},
     "output_type": "execute_result"
    }
   ],
   "source": [
    "df_burglary_gpby_date.describe()"
   ]
  },
  {
   "cell_type": "code",
   "execution_count": 96,
   "id": "a99429c9",
   "metadata": {},
   "outputs": [
    {
     "data": {
      "application/vnd.plotly.v1+json": {
       "config": {
        "plotlyServerURL": "https://plot.ly"
       },
       "data": [
        {
         "hovertemplate": "year_month=%{x}<br>burglary_count=%{y}<extra></extra>",
         "legendgroup": "",
         "line": {
          "color": "#636efa",
          "dash": "solid"
         },
         "marker": {
          "symbol": "circle"
         },
         "mode": "lines",
         "name": "",
         "orientation": "v",
         "showlegend": false,
         "type": "scatter",
         "x": [
          "2013-01",
          "2013-02",
          "2013-03",
          "2013-04",
          "2013-05",
          "2013-06",
          "2013-07",
          "2013-08",
          "2013-09",
          "2013-10",
          "2013-11",
          "2013-12",
          "2014-01",
          "2014-02",
          "2014-03",
          "2014-04",
          "2014-05",
          "2014-06",
          "2014-07",
          "2014-08",
          "2014-09",
          "2014-10",
          "2014-11",
          "2014-12",
          "2015-01",
          "2015-02",
          "2015-03",
          "2015-04",
          "2015-05",
          "2015-06",
          "2015-07",
          "2015-08",
          "2015-09",
          "2015-10",
          "2015-11",
          "2015-12",
          "2016-01",
          "2016-02",
          "2016-03",
          "2016-04",
          "2016-05",
          "2016-06",
          "2016-07",
          "2016-08",
          "2016-09",
          "2016-10",
          "2016-11",
          "2016-12",
          "2017-01",
          "2017-02",
          "2017-03",
          "2017-04",
          "2017-05",
          "2017-06",
          "2017-07",
          "2017-08",
          "2017-09",
          "2017-10",
          "2017-11",
          "2017-12",
          "2018-01",
          "2018-02",
          "2018-03",
          "2018-04",
          "2018-05",
          "2018-06",
          "2018-07",
          "2018-08",
          "2018-09",
          "2018-10",
          "2018-11",
          "2018-12",
          "2019-01",
          "2019-02",
          "2019-03",
          "2019-04",
          "2019-05",
          "2019-06",
          "2019-07",
          "2019-08",
          "2019-09",
          "2019-10",
          "2019-11",
          "2019-12",
          "2020-01",
          "2020-02",
          "2020-03",
          "2020-04",
          "2020-05",
          "2020-06",
          "2020-07",
          "2020-08",
          "2020-09",
          "2020-10",
          "2020-11",
          "2020-12",
          "2021-01",
          "2021-02",
          "2021-03",
          "2021-04",
          "2021-05",
          "2021-06",
          "2021-07",
          "2021-08",
          "2021-09",
          "2021-10",
          "2021-11",
          "2021-12",
          "2022-01",
          "2022-02",
          "2022-03",
          "2022-04",
          "2022-05",
          "2022-06",
          "2022-07",
          "2022-08",
          "2022-09",
          "2022-10",
          "2022-11",
          "2022-12"
         ],
         "xaxis": "x",
         "y": [
          21,
          19,
          20,
          14,
          41,
          28,
          46,
          31,
          34,
          18,
          18,
          17,
          12,
          12,
          24,
          16,
          22,
          17,
          26,
          27,
          37,
          27,
          18,
          16,
          24,
          24,
          36,
          14,
          39,
          13,
          20,
          22,
          14,
          18,
          17,
          17,
          14,
          10,
          16,
          12,
          41,
          20,
          20,
          11,
          9,
          44,
          31,
          17,
          22,
          34,
          57,
          19,
          35,
          23,
          15,
          21,
          12,
          16,
          19,
          34,
          14,
          26,
          53,
          31,
          19,
          18,
          19,
          13,
          37,
          26,
          24,
          55,
          53,
          43,
          55,
          35,
          32,
          44,
          41,
          27,
          29,
          26,
          30,
          36,
          42,
          27,
          17,
          10,
          19,
          18,
          14,
          14,
          33,
          13,
          23,
          16,
          11,
          13,
          19,
          23,
          17,
          27,
          31,
          22,
          24,
          23,
          36,
          25,
          34,
          21,
          32,
          10,
          26,
          29,
          17,
          26,
          24,
          32,
          24,
          14
         ],
         "yaxis": "y"
        }
       ],
       "layout": {
        "legend": {
         "tracegroupgap": 0
        },
        "template": {
         "data": {
          "bar": [
           {
            "error_x": {
             "color": "#f2f5fa"
            },
            "error_y": {
             "color": "#f2f5fa"
            },
            "marker": {
             "line": {
              "color": "rgb(17,17,17)",
              "width": 0.5
             },
             "pattern": {
              "fillmode": "overlay",
              "size": 10,
              "solidity": 0.2
             }
            },
            "type": "bar"
           }
          ],
          "barpolar": [
           {
            "marker": {
             "line": {
              "color": "rgb(17,17,17)",
              "width": 0.5
             },
             "pattern": {
              "fillmode": "overlay",
              "size": 10,
              "solidity": 0.2
             }
            },
            "type": "barpolar"
           }
          ],
          "carpet": [
           {
            "aaxis": {
             "endlinecolor": "#A2B1C6",
             "gridcolor": "#506784",
             "linecolor": "#506784",
             "minorgridcolor": "#506784",
             "startlinecolor": "#A2B1C6"
            },
            "baxis": {
             "endlinecolor": "#A2B1C6",
             "gridcolor": "#506784",
             "linecolor": "#506784",
             "minorgridcolor": "#506784",
             "startlinecolor": "#A2B1C6"
            },
            "type": "carpet"
           }
          ],
          "choropleth": [
           {
            "colorbar": {
             "outlinewidth": 0,
             "ticks": ""
            },
            "type": "choropleth"
           }
          ],
          "contour": [
           {
            "colorbar": {
             "outlinewidth": 0,
             "ticks": ""
            },
            "colorscale": [
             [
              0,
              "#0d0887"
             ],
             [
              0.1111111111111111,
              "#46039f"
             ],
             [
              0.2222222222222222,
              "#7201a8"
             ],
             [
              0.3333333333333333,
              "#9c179e"
             ],
             [
              0.4444444444444444,
              "#bd3786"
             ],
             [
              0.5555555555555556,
              "#d8576b"
             ],
             [
              0.6666666666666666,
              "#ed7953"
             ],
             [
              0.7777777777777778,
              "#fb9f3a"
             ],
             [
              0.8888888888888888,
              "#fdca26"
             ],
             [
              1,
              "#f0f921"
             ]
            ],
            "type": "contour"
           }
          ],
          "contourcarpet": [
           {
            "colorbar": {
             "outlinewidth": 0,
             "ticks": ""
            },
            "type": "contourcarpet"
           }
          ],
          "heatmap": [
           {
            "colorbar": {
             "outlinewidth": 0,
             "ticks": ""
            },
            "colorscale": [
             [
              0,
              "#0d0887"
             ],
             [
              0.1111111111111111,
              "#46039f"
             ],
             [
              0.2222222222222222,
              "#7201a8"
             ],
             [
              0.3333333333333333,
              "#9c179e"
             ],
             [
              0.4444444444444444,
              "#bd3786"
             ],
             [
              0.5555555555555556,
              "#d8576b"
             ],
             [
              0.6666666666666666,
              "#ed7953"
             ],
             [
              0.7777777777777778,
              "#fb9f3a"
             ],
             [
              0.8888888888888888,
              "#fdca26"
             ],
             [
              1,
              "#f0f921"
             ]
            ],
            "type": "heatmap"
           }
          ],
          "heatmapgl": [
           {
            "colorbar": {
             "outlinewidth": 0,
             "ticks": ""
            },
            "colorscale": [
             [
              0,
              "#0d0887"
             ],
             [
              0.1111111111111111,
              "#46039f"
             ],
             [
              0.2222222222222222,
              "#7201a8"
             ],
             [
              0.3333333333333333,
              "#9c179e"
             ],
             [
              0.4444444444444444,
              "#bd3786"
             ],
             [
              0.5555555555555556,
              "#d8576b"
             ],
             [
              0.6666666666666666,
              "#ed7953"
             ],
             [
              0.7777777777777778,
              "#fb9f3a"
             ],
             [
              0.8888888888888888,
              "#fdca26"
             ],
             [
              1,
              "#f0f921"
             ]
            ],
            "type": "heatmapgl"
           }
          ],
          "histogram": [
           {
            "marker": {
             "pattern": {
              "fillmode": "overlay",
              "size": 10,
              "solidity": 0.2
             }
            },
            "type": "histogram"
           }
          ],
          "histogram2d": [
           {
            "colorbar": {
             "outlinewidth": 0,
             "ticks": ""
            },
            "colorscale": [
             [
              0,
              "#0d0887"
             ],
             [
              0.1111111111111111,
              "#46039f"
             ],
             [
              0.2222222222222222,
              "#7201a8"
             ],
             [
              0.3333333333333333,
              "#9c179e"
             ],
             [
              0.4444444444444444,
              "#bd3786"
             ],
             [
              0.5555555555555556,
              "#d8576b"
             ],
             [
              0.6666666666666666,
              "#ed7953"
             ],
             [
              0.7777777777777778,
              "#fb9f3a"
             ],
             [
              0.8888888888888888,
              "#fdca26"
             ],
             [
              1,
              "#f0f921"
             ]
            ],
            "type": "histogram2d"
           }
          ],
          "histogram2dcontour": [
           {
            "colorbar": {
             "outlinewidth": 0,
             "ticks": ""
            },
            "colorscale": [
             [
              0,
              "#0d0887"
             ],
             [
              0.1111111111111111,
              "#46039f"
             ],
             [
              0.2222222222222222,
              "#7201a8"
             ],
             [
              0.3333333333333333,
              "#9c179e"
             ],
             [
              0.4444444444444444,
              "#bd3786"
             ],
             [
              0.5555555555555556,
              "#d8576b"
             ],
             [
              0.6666666666666666,
              "#ed7953"
             ],
             [
              0.7777777777777778,
              "#fb9f3a"
             ],
             [
              0.8888888888888888,
              "#fdca26"
             ],
             [
              1,
              "#f0f921"
             ]
            ],
            "type": "histogram2dcontour"
           }
          ],
          "mesh3d": [
           {
            "colorbar": {
             "outlinewidth": 0,
             "ticks": ""
            },
            "type": "mesh3d"
           }
          ],
          "parcoords": [
           {
            "line": {
             "colorbar": {
              "outlinewidth": 0,
              "ticks": ""
             }
            },
            "type": "parcoords"
           }
          ],
          "pie": [
           {
            "automargin": true,
            "type": "pie"
           }
          ],
          "scatter": [
           {
            "marker": {
             "line": {
              "color": "#283442"
             }
            },
            "type": "scatter"
           }
          ],
          "scatter3d": [
           {
            "line": {
             "colorbar": {
              "outlinewidth": 0,
              "ticks": ""
             }
            },
            "marker": {
             "colorbar": {
              "outlinewidth": 0,
              "ticks": ""
             }
            },
            "type": "scatter3d"
           }
          ],
          "scattercarpet": [
           {
            "marker": {
             "colorbar": {
              "outlinewidth": 0,
              "ticks": ""
             }
            },
            "type": "scattercarpet"
           }
          ],
          "scattergeo": [
           {
            "marker": {
             "colorbar": {
              "outlinewidth": 0,
              "ticks": ""
             }
            },
            "type": "scattergeo"
           }
          ],
          "scattergl": [
           {
            "marker": {
             "line": {
              "color": "#283442"
             }
            },
            "type": "scattergl"
           }
          ],
          "scattermapbox": [
           {
            "marker": {
             "colorbar": {
              "outlinewidth": 0,
              "ticks": ""
             }
            },
            "type": "scattermapbox"
           }
          ],
          "scatterpolar": [
           {
            "marker": {
             "colorbar": {
              "outlinewidth": 0,
              "ticks": ""
             }
            },
            "type": "scatterpolar"
           }
          ],
          "scatterpolargl": [
           {
            "marker": {
             "colorbar": {
              "outlinewidth": 0,
              "ticks": ""
             }
            },
            "type": "scatterpolargl"
           }
          ],
          "scatterternary": [
           {
            "marker": {
             "colorbar": {
              "outlinewidth": 0,
              "ticks": ""
             }
            },
            "type": "scatterternary"
           }
          ],
          "surface": [
           {
            "colorbar": {
             "outlinewidth": 0,
             "ticks": ""
            },
            "colorscale": [
             [
              0,
              "#0d0887"
             ],
             [
              0.1111111111111111,
              "#46039f"
             ],
             [
              0.2222222222222222,
              "#7201a8"
             ],
             [
              0.3333333333333333,
              "#9c179e"
             ],
             [
              0.4444444444444444,
              "#bd3786"
             ],
             [
              0.5555555555555556,
              "#d8576b"
             ],
             [
              0.6666666666666666,
              "#ed7953"
             ],
             [
              0.7777777777777778,
              "#fb9f3a"
             ],
             [
              0.8888888888888888,
              "#fdca26"
             ],
             [
              1,
              "#f0f921"
             ]
            ],
            "type": "surface"
           }
          ],
          "table": [
           {
            "cells": {
             "fill": {
              "color": "#506784"
             },
             "line": {
              "color": "rgb(17,17,17)"
             }
            },
            "header": {
             "fill": {
              "color": "#2a3f5f"
             },
             "line": {
              "color": "rgb(17,17,17)"
             }
            },
            "type": "table"
           }
          ]
         },
         "layout": {
          "annotationdefaults": {
           "arrowcolor": "#f2f5fa",
           "arrowhead": 0,
           "arrowwidth": 1
          },
          "autotypenumbers": "strict",
          "coloraxis": {
           "colorbar": {
            "outlinewidth": 0,
            "ticks": ""
           }
          },
          "colorscale": {
           "diverging": [
            [
             0,
             "#8e0152"
            ],
            [
             0.1,
             "#c51b7d"
            ],
            [
             0.2,
             "#de77ae"
            ],
            [
             0.3,
             "#f1b6da"
            ],
            [
             0.4,
             "#fde0ef"
            ],
            [
             0.5,
             "#f7f7f7"
            ],
            [
             0.6,
             "#e6f5d0"
            ],
            [
             0.7,
             "#b8e186"
            ],
            [
             0.8,
             "#7fbc41"
            ],
            [
             0.9,
             "#4d9221"
            ],
            [
             1,
             "#276419"
            ]
           ],
           "sequential": [
            [
             0,
             "#0d0887"
            ],
            [
             0.1111111111111111,
             "#46039f"
            ],
            [
             0.2222222222222222,
             "#7201a8"
            ],
            [
             0.3333333333333333,
             "#9c179e"
            ],
            [
             0.4444444444444444,
             "#bd3786"
            ],
            [
             0.5555555555555556,
             "#d8576b"
            ],
            [
             0.6666666666666666,
             "#ed7953"
            ],
            [
             0.7777777777777778,
             "#fb9f3a"
            ],
            [
             0.8888888888888888,
             "#fdca26"
            ],
            [
             1,
             "#f0f921"
            ]
           ],
           "sequentialminus": [
            [
             0,
             "#0d0887"
            ],
            [
             0.1111111111111111,
             "#46039f"
            ],
            [
             0.2222222222222222,
             "#7201a8"
            ],
            [
             0.3333333333333333,
             "#9c179e"
            ],
            [
             0.4444444444444444,
             "#bd3786"
            ],
            [
             0.5555555555555556,
             "#d8576b"
            ],
            [
             0.6666666666666666,
             "#ed7953"
            ],
            [
             0.7777777777777778,
             "#fb9f3a"
            ],
            [
             0.8888888888888888,
             "#fdca26"
            ],
            [
             1,
             "#f0f921"
            ]
           ]
          },
          "colorway": [
           "#636efa",
           "#EF553B",
           "#00cc96",
           "#ab63fa",
           "#FFA15A",
           "#19d3f3",
           "#FF6692",
           "#B6E880",
           "#FF97FF",
           "#FECB52"
          ],
          "font": {
           "color": "#f2f5fa"
          },
          "geo": {
           "bgcolor": "rgb(17,17,17)",
           "lakecolor": "rgb(17,17,17)",
           "landcolor": "rgb(17,17,17)",
           "showlakes": true,
           "showland": true,
           "subunitcolor": "#506784"
          },
          "hoverlabel": {
           "align": "left"
          },
          "hovermode": "closest",
          "mapbox": {
           "style": "dark"
          },
          "paper_bgcolor": "rgb(17,17,17)",
          "plot_bgcolor": "rgb(17,17,17)",
          "polar": {
           "angularaxis": {
            "gridcolor": "#506784",
            "linecolor": "#506784",
            "ticks": ""
           },
           "bgcolor": "rgb(17,17,17)",
           "radialaxis": {
            "gridcolor": "#506784",
            "linecolor": "#506784",
            "ticks": ""
           }
          },
          "scene": {
           "xaxis": {
            "backgroundcolor": "rgb(17,17,17)",
            "gridcolor": "#506784",
            "gridwidth": 2,
            "linecolor": "#506784",
            "showbackground": true,
            "ticks": "",
            "zerolinecolor": "#C8D4E3"
           },
           "yaxis": {
            "backgroundcolor": "rgb(17,17,17)",
            "gridcolor": "#506784",
            "gridwidth": 2,
            "linecolor": "#506784",
            "showbackground": true,
            "ticks": "",
            "zerolinecolor": "#C8D4E3"
           },
           "zaxis": {
            "backgroundcolor": "rgb(17,17,17)",
            "gridcolor": "#506784",
            "gridwidth": 2,
            "linecolor": "#506784",
            "showbackground": true,
            "ticks": "",
            "zerolinecolor": "#C8D4E3"
           }
          },
          "shapedefaults": {
           "line": {
            "color": "#f2f5fa"
           }
          },
          "sliderdefaults": {
           "bgcolor": "#C8D4E3",
           "bordercolor": "rgb(17,17,17)",
           "borderwidth": 1,
           "tickwidth": 0
          },
          "ternary": {
           "aaxis": {
            "gridcolor": "#506784",
            "linecolor": "#506784",
            "ticks": ""
           },
           "baxis": {
            "gridcolor": "#506784",
            "linecolor": "#506784",
            "ticks": ""
           },
           "bgcolor": "rgb(17,17,17)",
           "caxis": {
            "gridcolor": "#506784",
            "linecolor": "#506784",
            "ticks": ""
           }
          },
          "title": {
           "x": 0.05
          },
          "updatemenudefaults": {
           "bgcolor": "#506784",
           "borderwidth": 0
          },
          "xaxis": {
           "automargin": true,
           "gridcolor": "#283442",
           "linecolor": "#506784",
           "ticks": "",
           "title": {
            "standoff": 15
           },
           "zerolinecolor": "#283442",
           "zerolinewidth": 2
          },
          "yaxis": {
           "automargin": true,
           "gridcolor": "#283442",
           "linecolor": "#506784",
           "ticks": "",
           "title": {
            "standoff": 15
           },
           "zerolinecolor": "#283442",
           "zerolinewidth": 2
          }
         }
        },
        "title": {
         "text": "Count of Burglary of Vehicles 2013-2022 for zipcode 78701"
        },
        "xaxis": {
         "anchor": "y",
         "domain": [
          0,
          1
         ],
         "title": {
          "text": "year_month"
         }
        },
        "yaxis": {
         "anchor": "x",
         "domain": [
          0,
          1
         ],
         "title": {
          "text": "burglary_count"
         }
        }
       }
      },
      "text/html": [
       "<div>                            <div id=\"5414fec3-9f57-4150-9629-618ed51f9d6a\" class=\"plotly-graph-div\" style=\"height:525px; width:100%;\"></div>            <script type=\"text/javascript\">                require([\"plotly\"], function(Plotly) {                    window.PLOTLYENV=window.PLOTLYENV || {};                                    if (document.getElementById(\"5414fec3-9f57-4150-9629-618ed51f9d6a\")) {                    Plotly.newPlot(                        \"5414fec3-9f57-4150-9629-618ed51f9d6a\",                        [{\"hovertemplate\":\"year_month=%{x}<br>burglary_count=%{y}<extra></extra>\",\"legendgroup\":\"\",\"line\":{\"color\":\"#636efa\",\"dash\":\"solid\"},\"marker\":{\"symbol\":\"circle\"},\"mode\":\"lines\",\"name\":\"\",\"orientation\":\"v\",\"showlegend\":false,\"x\":[\"2013-01\",\"2013-02\",\"2013-03\",\"2013-04\",\"2013-05\",\"2013-06\",\"2013-07\",\"2013-08\",\"2013-09\",\"2013-10\",\"2013-11\",\"2013-12\",\"2014-01\",\"2014-02\",\"2014-03\",\"2014-04\",\"2014-05\",\"2014-06\",\"2014-07\",\"2014-08\",\"2014-09\",\"2014-10\",\"2014-11\",\"2014-12\",\"2015-01\",\"2015-02\",\"2015-03\",\"2015-04\",\"2015-05\",\"2015-06\",\"2015-07\",\"2015-08\",\"2015-09\",\"2015-10\",\"2015-11\",\"2015-12\",\"2016-01\",\"2016-02\",\"2016-03\",\"2016-04\",\"2016-05\",\"2016-06\",\"2016-07\",\"2016-08\",\"2016-09\",\"2016-10\",\"2016-11\",\"2016-12\",\"2017-01\",\"2017-02\",\"2017-03\",\"2017-04\",\"2017-05\",\"2017-06\",\"2017-07\",\"2017-08\",\"2017-09\",\"2017-10\",\"2017-11\",\"2017-12\",\"2018-01\",\"2018-02\",\"2018-03\",\"2018-04\",\"2018-05\",\"2018-06\",\"2018-07\",\"2018-08\",\"2018-09\",\"2018-10\",\"2018-11\",\"2018-12\",\"2019-01\",\"2019-02\",\"2019-03\",\"2019-04\",\"2019-05\",\"2019-06\",\"2019-07\",\"2019-08\",\"2019-09\",\"2019-10\",\"2019-11\",\"2019-12\",\"2020-01\",\"2020-02\",\"2020-03\",\"2020-04\",\"2020-05\",\"2020-06\",\"2020-07\",\"2020-08\",\"2020-09\",\"2020-10\",\"2020-11\",\"2020-12\",\"2021-01\",\"2021-02\",\"2021-03\",\"2021-04\",\"2021-05\",\"2021-06\",\"2021-07\",\"2021-08\",\"2021-09\",\"2021-10\",\"2021-11\",\"2021-12\",\"2022-01\",\"2022-02\",\"2022-03\",\"2022-04\",\"2022-05\",\"2022-06\",\"2022-07\",\"2022-08\",\"2022-09\",\"2022-10\",\"2022-11\",\"2022-12\"],\"xaxis\":\"x\",\"y\":[21,19,20,14,41,28,46,31,34,18,18,17,12,12,24,16,22,17,26,27,37,27,18,16,24,24,36,14,39,13,20,22,14,18,17,17,14,10,16,12,41,20,20,11,9,44,31,17,22,34,57,19,35,23,15,21,12,16,19,34,14,26,53,31,19,18,19,13,37,26,24,55,53,43,55,35,32,44,41,27,29,26,30,36,42,27,17,10,19,18,14,14,33,13,23,16,11,13,19,23,17,27,31,22,24,23,36,25,34,21,32,10,26,29,17,26,24,32,24,14],\"yaxis\":\"y\",\"type\":\"scatter\"}],                        {\"template\":{\"data\":{\"barpolar\":[{\"marker\":{\"line\":{\"color\":\"rgb(17,17,17)\",\"width\":0.5},\"pattern\":{\"fillmode\":\"overlay\",\"size\":10,\"solidity\":0.2}},\"type\":\"barpolar\"}],\"bar\":[{\"error_x\":{\"color\":\"#f2f5fa\"},\"error_y\":{\"color\":\"#f2f5fa\"},\"marker\":{\"line\":{\"color\":\"rgb(17,17,17)\",\"width\":0.5},\"pattern\":{\"fillmode\":\"overlay\",\"size\":10,\"solidity\":0.2}},\"type\":\"bar\"}],\"carpet\":[{\"aaxis\":{\"endlinecolor\":\"#A2B1C6\",\"gridcolor\":\"#506784\",\"linecolor\":\"#506784\",\"minorgridcolor\":\"#506784\",\"startlinecolor\":\"#A2B1C6\"},\"baxis\":{\"endlinecolor\":\"#A2B1C6\",\"gridcolor\":\"#506784\",\"linecolor\":\"#506784\",\"minorgridcolor\":\"#506784\",\"startlinecolor\":\"#A2B1C6\"},\"type\":\"carpet\"}],\"choropleth\":[{\"colorbar\":{\"outlinewidth\":0,\"ticks\":\"\"},\"type\":\"choropleth\"}],\"contourcarpet\":[{\"colorbar\":{\"outlinewidth\":0,\"ticks\":\"\"},\"type\":\"contourcarpet\"}],\"contour\":[{\"colorbar\":{\"outlinewidth\":0,\"ticks\":\"\"},\"colorscale\":[[0.0,\"#0d0887\"],[0.1111111111111111,\"#46039f\"],[0.2222222222222222,\"#7201a8\"],[0.3333333333333333,\"#9c179e\"],[0.4444444444444444,\"#bd3786\"],[0.5555555555555556,\"#d8576b\"],[0.6666666666666666,\"#ed7953\"],[0.7777777777777778,\"#fb9f3a\"],[0.8888888888888888,\"#fdca26\"],[1.0,\"#f0f921\"]],\"type\":\"contour\"}],\"heatmapgl\":[{\"colorbar\":{\"outlinewidth\":0,\"ticks\":\"\"},\"colorscale\":[[0.0,\"#0d0887\"],[0.1111111111111111,\"#46039f\"],[0.2222222222222222,\"#7201a8\"],[0.3333333333333333,\"#9c179e\"],[0.4444444444444444,\"#bd3786\"],[0.5555555555555556,\"#d8576b\"],[0.6666666666666666,\"#ed7953\"],[0.7777777777777778,\"#fb9f3a\"],[0.8888888888888888,\"#fdca26\"],[1.0,\"#f0f921\"]],\"type\":\"heatmapgl\"}],\"heatmap\":[{\"colorbar\":{\"outlinewidth\":0,\"ticks\":\"\"},\"colorscale\":[[0.0,\"#0d0887\"],[0.1111111111111111,\"#46039f\"],[0.2222222222222222,\"#7201a8\"],[0.3333333333333333,\"#9c179e\"],[0.4444444444444444,\"#bd3786\"],[0.5555555555555556,\"#d8576b\"],[0.6666666666666666,\"#ed7953\"],[0.7777777777777778,\"#fb9f3a\"],[0.8888888888888888,\"#fdca26\"],[1.0,\"#f0f921\"]],\"type\":\"heatmap\"}],\"histogram2dcontour\":[{\"colorbar\":{\"outlinewidth\":0,\"ticks\":\"\"},\"colorscale\":[[0.0,\"#0d0887\"],[0.1111111111111111,\"#46039f\"],[0.2222222222222222,\"#7201a8\"],[0.3333333333333333,\"#9c179e\"],[0.4444444444444444,\"#bd3786\"],[0.5555555555555556,\"#d8576b\"],[0.6666666666666666,\"#ed7953\"],[0.7777777777777778,\"#fb9f3a\"],[0.8888888888888888,\"#fdca26\"],[1.0,\"#f0f921\"]],\"type\":\"histogram2dcontour\"}],\"histogram2d\":[{\"colorbar\":{\"outlinewidth\":0,\"ticks\":\"\"},\"colorscale\":[[0.0,\"#0d0887\"],[0.1111111111111111,\"#46039f\"],[0.2222222222222222,\"#7201a8\"],[0.3333333333333333,\"#9c179e\"],[0.4444444444444444,\"#bd3786\"],[0.5555555555555556,\"#d8576b\"],[0.6666666666666666,\"#ed7953\"],[0.7777777777777778,\"#fb9f3a\"],[0.8888888888888888,\"#fdca26\"],[1.0,\"#f0f921\"]],\"type\":\"histogram2d\"}],\"histogram\":[{\"marker\":{\"pattern\":{\"fillmode\":\"overlay\",\"size\":10,\"solidity\":0.2}},\"type\":\"histogram\"}],\"mesh3d\":[{\"colorbar\":{\"outlinewidth\":0,\"ticks\":\"\"},\"type\":\"mesh3d\"}],\"parcoords\":[{\"line\":{\"colorbar\":{\"outlinewidth\":0,\"ticks\":\"\"}},\"type\":\"parcoords\"}],\"pie\":[{\"automargin\":true,\"type\":\"pie\"}],\"scatter3d\":[{\"line\":{\"colorbar\":{\"outlinewidth\":0,\"ticks\":\"\"}},\"marker\":{\"colorbar\":{\"outlinewidth\":0,\"ticks\":\"\"}},\"type\":\"scatter3d\"}],\"scattercarpet\":[{\"marker\":{\"colorbar\":{\"outlinewidth\":0,\"ticks\":\"\"}},\"type\":\"scattercarpet\"}],\"scattergeo\":[{\"marker\":{\"colorbar\":{\"outlinewidth\":0,\"ticks\":\"\"}},\"type\":\"scattergeo\"}],\"scattergl\":[{\"marker\":{\"line\":{\"color\":\"#283442\"}},\"type\":\"scattergl\"}],\"scattermapbox\":[{\"marker\":{\"colorbar\":{\"outlinewidth\":0,\"ticks\":\"\"}},\"type\":\"scattermapbox\"}],\"scatterpolargl\":[{\"marker\":{\"colorbar\":{\"outlinewidth\":0,\"ticks\":\"\"}},\"type\":\"scatterpolargl\"}],\"scatterpolar\":[{\"marker\":{\"colorbar\":{\"outlinewidth\":0,\"ticks\":\"\"}},\"type\":\"scatterpolar\"}],\"scatter\":[{\"marker\":{\"line\":{\"color\":\"#283442\"}},\"type\":\"scatter\"}],\"scatterternary\":[{\"marker\":{\"colorbar\":{\"outlinewidth\":0,\"ticks\":\"\"}},\"type\":\"scatterternary\"}],\"surface\":[{\"colorbar\":{\"outlinewidth\":0,\"ticks\":\"\"},\"colorscale\":[[0.0,\"#0d0887\"],[0.1111111111111111,\"#46039f\"],[0.2222222222222222,\"#7201a8\"],[0.3333333333333333,\"#9c179e\"],[0.4444444444444444,\"#bd3786\"],[0.5555555555555556,\"#d8576b\"],[0.6666666666666666,\"#ed7953\"],[0.7777777777777778,\"#fb9f3a\"],[0.8888888888888888,\"#fdca26\"],[1.0,\"#f0f921\"]],\"type\":\"surface\"}],\"table\":[{\"cells\":{\"fill\":{\"color\":\"#506784\"},\"line\":{\"color\":\"rgb(17,17,17)\"}},\"header\":{\"fill\":{\"color\":\"#2a3f5f\"},\"line\":{\"color\":\"rgb(17,17,17)\"}},\"type\":\"table\"}]},\"layout\":{\"annotationdefaults\":{\"arrowcolor\":\"#f2f5fa\",\"arrowhead\":0,\"arrowwidth\":1},\"autotypenumbers\":\"strict\",\"coloraxis\":{\"colorbar\":{\"outlinewidth\":0,\"ticks\":\"\"}},\"colorscale\":{\"diverging\":[[0,\"#8e0152\"],[0.1,\"#c51b7d\"],[0.2,\"#de77ae\"],[0.3,\"#f1b6da\"],[0.4,\"#fde0ef\"],[0.5,\"#f7f7f7\"],[0.6,\"#e6f5d0\"],[0.7,\"#b8e186\"],[0.8,\"#7fbc41\"],[0.9,\"#4d9221\"],[1,\"#276419\"]],\"sequential\":[[0.0,\"#0d0887\"],[0.1111111111111111,\"#46039f\"],[0.2222222222222222,\"#7201a8\"],[0.3333333333333333,\"#9c179e\"],[0.4444444444444444,\"#bd3786\"],[0.5555555555555556,\"#d8576b\"],[0.6666666666666666,\"#ed7953\"],[0.7777777777777778,\"#fb9f3a\"],[0.8888888888888888,\"#fdca26\"],[1.0,\"#f0f921\"]],\"sequentialminus\":[[0.0,\"#0d0887\"],[0.1111111111111111,\"#46039f\"],[0.2222222222222222,\"#7201a8\"],[0.3333333333333333,\"#9c179e\"],[0.4444444444444444,\"#bd3786\"],[0.5555555555555556,\"#d8576b\"],[0.6666666666666666,\"#ed7953\"],[0.7777777777777778,\"#fb9f3a\"],[0.8888888888888888,\"#fdca26\"],[1.0,\"#f0f921\"]]},\"colorway\":[\"#636efa\",\"#EF553B\",\"#00cc96\",\"#ab63fa\",\"#FFA15A\",\"#19d3f3\",\"#FF6692\",\"#B6E880\",\"#FF97FF\",\"#FECB52\"],\"font\":{\"color\":\"#f2f5fa\"},\"geo\":{\"bgcolor\":\"rgb(17,17,17)\",\"lakecolor\":\"rgb(17,17,17)\",\"landcolor\":\"rgb(17,17,17)\",\"showlakes\":true,\"showland\":true,\"subunitcolor\":\"#506784\"},\"hoverlabel\":{\"align\":\"left\"},\"hovermode\":\"closest\",\"mapbox\":{\"style\":\"dark\"},\"paper_bgcolor\":\"rgb(17,17,17)\",\"plot_bgcolor\":\"rgb(17,17,17)\",\"polar\":{\"angularaxis\":{\"gridcolor\":\"#506784\",\"linecolor\":\"#506784\",\"ticks\":\"\"},\"bgcolor\":\"rgb(17,17,17)\",\"radialaxis\":{\"gridcolor\":\"#506784\",\"linecolor\":\"#506784\",\"ticks\":\"\"}},\"scene\":{\"xaxis\":{\"backgroundcolor\":\"rgb(17,17,17)\",\"gridcolor\":\"#506784\",\"gridwidth\":2,\"linecolor\":\"#506784\",\"showbackground\":true,\"ticks\":\"\",\"zerolinecolor\":\"#C8D4E3\"},\"yaxis\":{\"backgroundcolor\":\"rgb(17,17,17)\",\"gridcolor\":\"#506784\",\"gridwidth\":2,\"linecolor\":\"#506784\",\"showbackground\":true,\"ticks\":\"\",\"zerolinecolor\":\"#C8D4E3\"},\"zaxis\":{\"backgroundcolor\":\"rgb(17,17,17)\",\"gridcolor\":\"#506784\",\"gridwidth\":2,\"linecolor\":\"#506784\",\"showbackground\":true,\"ticks\":\"\",\"zerolinecolor\":\"#C8D4E3\"}},\"shapedefaults\":{\"line\":{\"color\":\"#f2f5fa\"}},\"sliderdefaults\":{\"bgcolor\":\"#C8D4E3\",\"bordercolor\":\"rgb(17,17,17)\",\"borderwidth\":1,\"tickwidth\":0},\"ternary\":{\"aaxis\":{\"gridcolor\":\"#506784\",\"linecolor\":\"#506784\",\"ticks\":\"\"},\"baxis\":{\"gridcolor\":\"#506784\",\"linecolor\":\"#506784\",\"ticks\":\"\"},\"bgcolor\":\"rgb(17,17,17)\",\"caxis\":{\"gridcolor\":\"#506784\",\"linecolor\":\"#506784\",\"ticks\":\"\"}},\"title\":{\"x\":0.05},\"updatemenudefaults\":{\"bgcolor\":\"#506784\",\"borderwidth\":0},\"xaxis\":{\"automargin\":true,\"gridcolor\":\"#283442\",\"linecolor\":\"#506784\",\"ticks\":\"\",\"title\":{\"standoff\":15},\"zerolinecolor\":\"#283442\",\"zerolinewidth\":2},\"yaxis\":{\"automargin\":true,\"gridcolor\":\"#283442\",\"linecolor\":\"#506784\",\"ticks\":\"\",\"title\":{\"standoff\":15},\"zerolinecolor\":\"#283442\",\"zerolinewidth\":2}}},\"xaxis\":{\"anchor\":\"y\",\"domain\":[0.0,1.0],\"title\":{\"text\":\"year_month\"}},\"yaxis\":{\"anchor\":\"x\",\"domain\":[0.0,1.0],\"title\":{\"text\":\"burglary_count\"}},\"legend\":{\"tracegroupgap\":0},\"title\":{\"text\":\"Count of Burglary of Vehicles 2013-2022 for zipcode 78701\"}},                        {\"responsive\": true}                    ).then(function(){\n",
       "                            \n",
       "var gd = document.getElementById('5414fec3-9f57-4150-9629-618ed51f9d6a');\n",
       "var x = new MutationObserver(function (mutations, observer) {{\n",
       "        var display = window.getComputedStyle(gd).display;\n",
       "        if (!display || display === 'none') {{\n",
       "            console.log([gd, 'removed!']);\n",
       "            Plotly.purge(gd);\n",
       "            observer.disconnect();\n",
       "        }}\n",
       "}});\n",
       "\n",
       "// Listen for the removal of the full notebook cells\n",
       "var notebookContainer = gd.closest('#notebook-container');\n",
       "if (notebookContainer) {{\n",
       "    x.observe(notebookContainer, {childList: true});\n",
       "}}\n",
       "\n",
       "// Listen for the clearing of the current output cell\n",
       "var outputEl = gd.closest('.output');\n",
       "if (outputEl) {{\n",
       "    x.observe(outputEl, {childList: true});\n",
       "}}\n",
       "\n",
       "                        })                };                });            </script>        </div>"
      ]
     },
     "metadata": {},
     "output_type": "display_data"
    }
   ],
   "source": [
    "fig = px.line(df_burglary_gpby_date, x='year_month', y='burglary_count', title=\"Count of Burglary of Vehicles 2013-2022 for zipcode 78701\",template='plotly_dark')\n",
    "\n",
    "fig.show()"
   ]
  },
  {
   "cell_type": "code",
   "execution_count": 97,
   "id": "b14bdb82",
   "metadata": {},
   "outputs": [],
   "source": [
    "df_burglary_gpby_date['year_month'] = pd.to_datetime(df_burglary_gpby_date['year_month'])"
   ]
  },
  {
   "cell_type": "code",
   "execution_count": 98,
   "id": "662e61cd",
   "metadata": {},
   "outputs": [],
   "source": [
    "df_burglary_gpby_date.set_index('year_month',inplace=True)"
   ]
  },
  {
   "cell_type": "code",
   "execution_count": 99,
   "id": "3e8d4adc",
   "metadata": {},
   "outputs": [
    {
     "data": {
      "text/html": [
       "<div>\n",
       "<style scoped>\n",
       "    .dataframe tbody tr th:only-of-type {\n",
       "        vertical-align: middle;\n",
       "    }\n",
       "\n",
       "    .dataframe tbody tr th {\n",
       "        vertical-align: top;\n",
       "    }\n",
       "\n",
       "    .dataframe thead th {\n",
       "        text-align: right;\n",
       "    }\n",
       "</style>\n",
       "<table border=\"1\" class=\"dataframe\">\n",
       "  <thead>\n",
       "    <tr style=\"text-align: right;\">\n",
       "      <th></th>\n",
       "      <th>burglary_count</th>\n",
       "    </tr>\n",
       "    <tr>\n",
       "      <th>year_month</th>\n",
       "      <th></th>\n",
       "    </tr>\n",
       "  </thead>\n",
       "  <tbody>\n",
       "    <tr>\n",
       "      <th>2013-01-01</th>\n",
       "      <td>21</td>\n",
       "    </tr>\n",
       "    <tr>\n",
       "      <th>2013-02-01</th>\n",
       "      <td>19</td>\n",
       "    </tr>\n",
       "    <tr>\n",
       "      <th>2013-03-01</th>\n",
       "      <td>20</td>\n",
       "    </tr>\n",
       "    <tr>\n",
       "      <th>2013-04-01</th>\n",
       "      <td>14</td>\n",
       "    </tr>\n",
       "    <tr>\n",
       "      <th>2013-05-01</th>\n",
       "      <td>41</td>\n",
       "    </tr>\n",
       "  </tbody>\n",
       "</table>\n",
       "</div>"
      ],
      "text/plain": [
       "            burglary_count\n",
       "year_month                \n",
       "2013-01-01              21\n",
       "2013-02-01              19\n",
       "2013-03-01              20\n",
       "2013-04-01              14\n",
       "2013-05-01              41"
      ]
     },
     "execution_count": 99,
     "metadata": {},
     "output_type": "execute_result"
    }
   ],
   "source": [
    "df_burglary_gpby_date.head()"
   ]
  },
  {
   "cell_type": "markdown",
   "id": "0c08a472",
   "metadata": {},
   "source": [
    "### TIMES SERIES for BURGLARY of Vehicle"
   ]
  },
  {
   "cell_type": "code",
   "execution_count": 100,
   "id": "9264c69c",
   "metadata": {},
   "outputs": [],
   "source": [
    "y = df_burglary_gpby_date['burglary_count']"
   ]
  },
  {
   "cell_type": "code",
   "execution_count": 101,
   "id": "7536b04f",
   "metadata": {},
   "outputs": [
    {
     "data": {
      "text/plain": [
       "pandas.core.series.Series"
      ]
     },
     "metadata": {},
     "output_type": "display_data"
    },
    {
     "data": {
      "text/plain": [
       "dtype('int64')"
      ]
     },
     "metadata": {},
     "output_type": "display_data"
    }
   ],
   "source": [
    "display(type(y), y.dtype)"
   ]
  },
  {
   "cell_type": "code",
   "execution_count": 102,
   "id": "13029be1",
   "metadata": {},
   "outputs": [
    {
     "data": {
      "text/plain": [
       "<AxesSubplot:xlabel='year_month'>"
      ]
     },
     "execution_count": 102,
     "metadata": {},
     "output_type": "execute_result"
    },
    {
     "data": {
      "image/png": "[encoded data removed]",
      "text/plain": [
       "<Figure size 640x480 with 1 Axes>"
      ]
     },
     "metadata": {},
     "output_type": "display_data"
    }
   ],
   "source": [
    "y.plot()"
   ]
  },
  {
   "cell_type": "code",
   "execution_count": 103,
   "id": "04eb34c4",
   "metadata": {},
   "outputs": [
    {
     "data": {
      "image/png": "[encoded data removed]",
      "text/plain": [
       "<Figure size 640x480 with 4 Axes>"
      ]
     },
     "metadata": {},
     "output_type": "display_data"
    }
   ],
   "source": [
    "# Import seasonal_decompose \n",
    "from statsmodels.tsa.seasonal import seasonal_decompose\n",
    "\n",
    "# Make a variable called decomposition, and assign it y passed to seasonal_decompose() \n",
    "decomposition= seasonal_decompose(x=df_burglary_gpby_date['burglary_count'], model='additive', extrapolate_trend='freq', period=1)\n",
    "#decomposition= seasonal_decompose(y)\n",
    "# Make three variables for trend, seasonal and residual components respectively. \n",
    "# Assign them the relevant features of decomposition \n",
    "trend = decomposition.trend\n",
    "seasonal = decomposition.seasonal\n",
    "residual = decomposition.resid\n",
    "\n",
    "# Plot the original data, the trend, the seasonality, and the residuals \n",
    "plt.subplot(411)\n",
    "plt.plot(y, label = 'original data')\n",
    "plt.legend(loc = 'best')\n",
    "plt.subplot(412)\n",
    "plt.plot(trend, label = 'Trend')\n",
    "plt.legend(loc = 'best')\n",
    "plt.subplot(413)\n",
    "plt.plot(seasonal, label = 'seasonality')\n",
    "plt.legend(loc = 'best')\n",
    "plt.subplot(414)\n",
    "plt.plot(residual, label = 'Residuals')\n",
    "plt.legend(loc = 'best')\n",
    "plt.tight_layout()"
   ]
  },
  {
   "cell_type": "markdown",
   "id": "b20018db",
   "metadata": {},
   "source": [
    "### Testing for Stationarity using KPSS<a id='stationarity_test'>\n",
    "    Kwiatkowski-Phillips-Schmidt-Shin Test"
   ]
  },
  {
   "cell_type": "code",
   "execution_count": 104,
   "id": "9ede5b66",
   "metadata": {},
   "outputs": [
    {
     "name": "stdout",
     "output_type": "stream",
     "text": [
      "Statistic:  0.15156486534887906\n",
      "p-value:  0.1\n",
      "Number of Lags:  4\n",
      "Critical Values:  {'10%': 0.347, '5%': 0.463, '2.5%': 0.574, '1%': 0.739}\n"
     ]
    }
   ],
   "source": [
    "from statsmodels.tsa.stattools import kpss\n",
    "\n",
    "statistic, p_value, n_lags, critical_values = kpss(df_burglary_gpby_date, nlags='auto')\n",
    "\n",
    "print('Statistic: ', statistic)\n",
    "print('p-value: ', p_value)\n",
    "print('Number of Lags: ', n_lags)\n",
    "print('Critical Values: ', critical_values)"
   ]
  },
  {
   "cell_type": "markdown",
   "id": "2da65d23",
   "metadata": {},
   "source": [
    "Since our p-value is higher than 0.05, we should  fail to reject the Null hypothesis and deduce the stationarity of our data.\n",
    "\n"
   ]
  },
  {
   "cell_type": "markdown",
   "id": "eecd7bd8",
   "metadata": {},
   "source": [
    "### ADFuller test to test for stationarity<a id='adfuller_test'>"
   ]
  },
  {
   "cell_type": "code",
   "execution_count": 105,
   "id": "d5657b18",
   "metadata": {},
   "outputs": [],
   "source": [
    "from statsmodels.tsa.stattools import adfuller"
   ]
  },
  {
   "cell_type": "code",
   "execution_count": 106,
   "id": "5a40af5d",
   "metadata": {},
   "outputs": [],
   "source": [
    "def adf_test(series,title=''):\n",
    "    \"\"\"\n",
    "    Pass in a time series and an optional title, returns an ADF report\n",
    "    \"\"\"\n",
    "    print(f'Augmented Dickey-Fuller Test: {title}\\n')\n",
    "    result = adfuller(series.dropna(),autolag='AIC') # .dropna() handles differenced data\n",
    "    \n",
    "    labels = ['ADF test statistic','p-value','# lags used','# observations']\n",
    "    out = pd.Series(result[0:4],index=labels)\n",
    "\n",
    "    for key,val in result[4].items():\n",
    "        out[f'critical value ({key})']=val\n",
    "        \n",
    "    print(out.to_string())          # .to_string() removes the line \"dtype: float64\"\n",
    "    \n",
    "    print() #empty line for formatting\n",
    "    if result[1] <= 0.05:\n",
    "        print(\"Strong evidence against the null hypothesis\")\n",
    "        print(\"Reject the null hypothesis\")\n",
    "        print(\"Data has no unit root and is STATIONARY\")\n",
    "    else:\n",
    "        print(\"Weak evidence against the null hypothesis\")\n",
    "        print(\"Fail to reject the null hypothesis\")\n",
    "        print(\"Data has a unit root and is NOT STATIONARY\")\n",
    "\n"
   ]
  },
  {
   "cell_type": "code",
   "execution_count": 107,
   "id": "e1243649",
   "metadata": {},
   "outputs": [
    {
     "name": "stdout",
     "output_type": "stream",
     "text": [
      "Augmented Dickey-Fuller Test: \n",
      "\n",
      "ADF test statistic       -2.549141\n",
      "p-value                   0.103971\n",
      "# lags used              12.000000\n",
      "# observations          107.000000\n",
      "critical value (1%)      -3.492996\n",
      "critical value (5%)      -2.888955\n",
      "critical value (10%)     -2.581393\n",
      "\n",
      "Weak evidence against the null hypothesis\n",
      "Fail to reject the null hypothesis\n",
      "Data has a unit root and is NOT STATIONARY\n"
     ]
    }
   ],
   "source": [
    "adf_test(df_burglary_gpby_date)"
   ]
  },
  {
   "cell_type": "markdown",
   "id": "19cca1de",
   "metadata": {},
   "source": [
    "#### KPSS shows Stationarityin the data whereas ADFuller test shows non-stationarity"
   ]
  },
  {
   "cell_type": "code",
   "execution_count": 108,
   "id": "05187d18",
   "metadata": {},
   "outputs": [],
   "source": [
    "# Declare a variable called y_log\n",
    "y_log = np.log(df_burglary_gpby_date)"
   ]
  },
  {
   "cell_type": "code",
   "execution_count": 109,
   "id": "9f4dd4e0",
   "metadata": {},
   "outputs": [
    {
     "data": {
      "text/plain": [
       "<AxesSubplot:xlabel='year_month'>"
      ]
     },
     "execution_count": 109,
     "metadata": {},
     "output_type": "execute_result"
    },
    {
     "data": {
      "image/png": "[encoded data removed]",
      "text/plain": [
       "<Figure size 640x480 with 1 Axes>"
      ]
     },
     "metadata": {},
     "output_type": "display_data"
    }
   ],
   "source": [
    "y_log.plot() # to achieve constant variance"
   ]
  },
  {
   "cell_type": "code",
   "execution_count": 110,
   "id": "75fb8be4",
   "metadata": {},
   "outputs": [],
   "source": [
    "y_diff=y_log.diff().dropna()"
   ]
  },
  {
   "cell_type": "code",
   "execution_count": 111,
   "id": "2a8ff49b",
   "metadata": {},
   "outputs": [
    {
     "data": {
      "text/plain": [
       "<AxesSubplot:xlabel='year_month'>"
      ]
     },
     "execution_count": 111,
     "metadata": {},
     "output_type": "execute_result"
    },
    {
     "data": {
      "image/png": "[encoded data removed]",
      "text/plain": [
       "<Figure size 640x480 with 1 Axes>"
      ]
     },
     "metadata": {},
     "output_type": "display_data"
    }
   ],
   "source": [
    "y_diff.plot() # to achieve constant mean"
   ]
  },
  {
   "cell_type": "code",
   "execution_count": 112,
   "id": "1fc4810f",
   "metadata": {},
   "outputs": [
    {
     "data": {
      "text/plain": [
       "(0.0760965766683115,\n",
       " 0.1,\n",
       " 14,\n",
       " {'10%': 0.347, '5%': 0.463, '2.5%': 0.574, '1%': 0.739})"
      ]
     },
     "execution_count": 112,
     "metadata": {},
     "output_type": "execute_result"
    }
   ],
   "source": [
    "kpss(y_diff)"
   ]
  },
  {
   "cell_type": "markdown",
   "id": "22016c8e",
   "metadata": {},
   "source": [
    "#### Our p-value is now greater than 0.05, so we can accept the null hypothesis that our data is stationary."
   ]
  },
  {
   "cell_type": "code",
   "execution_count": 116,
   "id": "22ec1ab0",
   "metadata": {},
   "outputs": [
    {
     "name": "stdout",
     "output_type": "stream",
     "text": [
      "Augmented Dickey-Fuller Test: \n",
      "\n",
      "ADF test statistic       -4.721014\n",
      "p-value                   0.000077\n",
      "# lags used              10.000000\n",
      "# observations          108.000000\n",
      "critical value (1%)      -3.492401\n",
      "critical value (5%)      -2.888697\n",
      "critical value (10%)     -2.581255\n",
      "\n",
      "Strong evidence against the null hypothesis\n",
      "Reject the null hypothesis\n",
      "Data has no unit root and is STATIONARY\n"
     ]
    }
   ],
   "source": [
    "adf_test(y_diff)"
   ]
  },
  {
   "cell_type": "code",
   "execution_count": 128,
   "id": "b4c06e54",
   "metadata": {},
   "outputs": [
    {
     "data": {
      "text/plain": [
       "((96, 1), (96,), (24, 1), (24,))"
      ]
     },
     "execution_count": 128,
     "metadata": {},
     "output_type": "execute_result"
    }
   ],
   "source": [
    "\n",
    "test_size = 24\n",
    "\n",
    "X_train, X_test = df_burglary_gpby_date[:-test_size], df_burglary_gpby_date[-test_size:]\n",
    "y_train, y_test = np.array(range(X_train.shape[0])), np.array(range(X_train.shape[0], df_burglary_gpby_date.shape[0]))\n",
    "X_train.shape, y_train.shape, X_test.shape, y_test.shape"
   ]
  },
  {
   "cell_type": "code",
   "execution_count": 130,
   "id": "43d2ebfa",
   "metadata": {},
   "outputs": [
    {
     "data": {
      "text/plain": [
       "Text(0.5, 1.0, 'Burglary of Vehicles train and test sets')"
      ]
     },
     "execution_count": 130,
     "metadata": {},
     "output_type": "execute_result"
    },
    {
     "data": {
      "image/png": "[encoded data removed]",
      "text/plain": [
       "<Figure size 1500x500 with 1 Axes>"
      ]
     },
     "metadata": {},
     "output_type": "display_data"
    }
   ],
   "source": [
    "fig, ax = plt.subplots(1, 1, figsize=(15, 5))\n",
    "ax.plot(y_train, X_train, label='Training set')\n",
    "ax.plot(y_test, X_test, label='Test set')\n",
    "plt.legend()\n",
    "plt.title('Burglary of Vehicles train and test sets', size=20)"
   ]
  },
  {
   "cell_type": "markdown",
   "id": "6b668217",
   "metadata": {},
   "source": [
    "### Simple Forecast Methods<a id='simple_forecast_methods'>\n",
    "    \n",
    "Based on Rob J Hyndman and George Athanasopoulos\"<br />\n",
    "Forecasting: Principles and Practice; 3rd Edition<br />\n",
    "https://otexts.com/fpp3/"
   ]
  },
  {
   "cell_type": "markdown",
   "id": "0b92552d",
   "metadata": {},
   "source": [
    "###  MEAN Method<a id='mean_method'>"
   ]
  },
  {
   "cell_type": "code",
   "execution_count": 168,
   "id": "98d7d4a3",
   "metadata": {},
   "outputs": [
    {
     "name": "stdout",
     "output_type": "stream",
     "text": [
      "Forecast value for the next month:  25\n"
     ]
    }
   ],
   "source": [
    "#forecast of all future values is equal to mean of historical data. \n",
    "\n",
    "forecast = np.mean(y)\n",
    "print(\"Forecast value for the next month: \",round(forecast))"
   ]
  },
  {
   "cell_type": "code",
   "execution_count": null,
   "id": "45e93645",
   "metadata": {},
   "outputs": [],
   "source": [
    "y_hat_avg = test.copy()\n",
    "y_hat_avg['avg_forecast'] = train['Count'].mean()\n",
    "plt.figure(figsize=(12,8))\n",
    "plt.plot(train['Count'], label='Train')\n",
    "plt.plot(test['Count'], label='Test')\n",
    "plt.plot(y_hat_avg['avg_forecast'], label='Average Forecast')\n",
    "plt.legend(loc='best')\n",
    "plt.show()"
   ]
  },
  {
   "cell_type": "markdown",
   "id": "676dd3c3",
   "metadata": {},
   "source": [
    "### NAIVE Method<a id='naive_method'>"
   ]
  },
  {
   "cell_type": "code",
   "execution_count": 170,
   "id": "7385c64c",
   "metadata": {},
   "outputs": [],
   "source": [
    "dd= np.asarray(X_train.Count)\n",
    "y_hat = test.copy()\n",
    "y_hat['naive'] = dd[len(dd)-1]\n",
    "plt.figure(figsize=(12,8))\n",
    "plt.plot(train.index, train['Count'], label='Train')\n",
    "plt.plot(test.index,test['Count'], label='Test')\n",
    "plt.plot(y_hat.index,y_hat['naive'], label='Naive Forecast')\n",
    "plt.legend(loc='best')\n",
    "plt.title(\"Naive Forecast\")\n",
    "plt.show()"
   ]
  },
  {
   "cell_type": "markdown",
   "id": "1e6f7b8f",
   "metadata": {},
   "source": [
    "### SNAIVE Method<a id='snaive_method'>"
   ]
  },
  {
   "cell_type": "markdown",
   "id": "fb8b5101",
   "metadata": {},
   "source": [
    "### DRIFT Method<a id='drift_method'>"
   ]
  },
  {
   "cell_type": "code",
   "execution_count": null,
   "id": "8d1da408",
   "metadata": {},
   "outputs": [],
   "source": []
  },
  {
   "cell_type": "markdown",
   "id": "26147fb9",
   "metadata": {},
   "source": [
    "### data is stationary - draw the autocorrelation and partial autocorrelation graph of the data."
   ]
  },
  {
   "cell_type": "markdown",
   "id": "5c29c95e",
   "metadata": {},
   "source": [
    "Draw a partial autocorrelation graph(ACF) of the data. This will help us in finding the value of p because the cut-off point to the PACF is p. \n",
    "Draw an autocorrelation graph(ACF) of the data. This will help us in finding the value of q because the cut-off point to the ACF is q.  "
   ]
  },
  {
   "cell_type": "code",
   "execution_count": 120,
   "id": "be0dff14",
   "metadata": {},
   "outputs": [
    {
     "data": {
      "image/png": "[encoded data removed]",
      "text/plain": [
       "<Figure size 640x480 with 1 Axes>"
      ]
     },
     "metadata": {},
     "output_type": "display_data"
    }
   ],
   "source": [
    "from statsmodels.graphics.tsaplots import plot_pacf\n",
    "plot_pacf(np.array(X_train.burglary_count))\n",
    "plt.show()"
   ]
  },
  {
   "cell_type": "markdown",
   "id": "b1ce1a5e",
   "metadata": {},
   "source": [
    "### From the above graph, The partial autocorrelation plot (which assists us in determining the AR term) drops  after one lag (we do not count the first lag). This implies that we should use an AR(1) model."
   ]
  },
  {
   "cell_type": "code",
   "execution_count": 121,
   "id": "2d85a2ed",
   "metadata": {},
   "outputs": [
    {
     "data": {
      "image/png": "[encoded data removed]",
      "text/plain": [
       "<Figure size 640x480 with 1 Axes>"
      ]
     },
     "metadata": {},
     "output_type": "display_data"
    }
   ],
   "source": [
    "from statsmodels.graphics.tsaplots import plot_acf\n",
    "plot_acf(np.array(X_train.burglary_count))\n",
    "plt.show()"
   ]
  },
  {
   "cell_type": "markdown",
   "id": "f879c416",
   "metadata": {},
   "source": [
    "### From the above plot, I will consider MA(2) model"
   ]
  },
  {
   "cell_type": "code",
   "execution_count": 122,
   "id": "e66f993b",
   "metadata": {},
   "outputs": [
    {
     "data": {
      "text/plain": [
       "0"
      ]
     },
     "execution_count": 122,
     "metadata": {},
     "output_type": "execute_result"
    }
   ],
   "source": [
    "from pmdarima.arima.utils import ndiffs\n",
    "\n",
    "ndiffs(df_burglary_gpby_date)"
   ]
  },
  {
   "cell_type": "markdown",
   "id": "3f60621c",
   "metadata": {},
   "source": [
    "#####  order of differencing as per above result. d=0"
   ]
  },
  {
   "cell_type": "code",
   "execution_count": 123,
   "id": "fab54fff",
   "metadata": {},
   "outputs": [
    {
     "data": {
      "text/plain": [
       "0"
      ]
     },
     "execution_count": 123,
     "metadata": {},
     "output_type": "execute_result"
    }
   ],
   "source": [
    "from pmdarima.arima import nsdiffs\n",
    "nsdiffs(df_burglary_gpby_date,12)"
   ]
  },
  {
   "cell_type": "markdown",
   "id": "235797d8",
   "metadata": {},
   "source": [
    "##### No seasonality as per above result"
   ]
  },
  {
   "cell_type": "markdown",
   "id": "b385d60d",
   "metadata": {},
   "source": [
    "### Therefore the values of p, d and q, based on the above acf and pacf plots, I am going to consider, p=1, d=0, q=2"
   ]
  },
  {
   "cell_type": "code",
   "execution_count": 157,
   "id": "809f3881",
   "metadata": {},
   "outputs": [
    {
     "name": "stdout",
     "output_type": "stream",
     "text": [
      "                               SARIMAX Results                                \n",
      "==============================================================================\n",
      "Dep. Variable:         burglary_count   No. Observations:                   96\n",
      "Model:                 ARIMA(1, 0, 2)   Log Likelihood                -363.361\n",
      "Date:                Mon, 06 Mar 2023   AIC                            736.723\n",
      "Time:                        12:40:29   BIC                            749.545\n",
      "Sample:                    01-01-2013   HQIC                           741.906\n",
      "                         - 12-01-2020                                         \n",
      "Covariance Type:                  opg                                         \n",
      "==============================================================================\n",
      "                 coef    std err          z      P>|z|      [0.025      0.975]\n",
      "------------------------------------------------------------------------------\n",
      "const         24.8572      2.877      8.639      0.000      19.218      30.497\n",
      "ar.L1          0.6416      0.301      2.135      0.033       0.053       1.231\n",
      "ma.L1         -0.3651      0.320     -1.141      0.254      -0.992       0.262\n",
      "ma.L2          0.0630      0.155      0.406      0.685      -0.241       0.367\n",
      "sigma2       113.3066     19.851      5.708      0.000      74.399     152.215\n",
      "===================================================================================\n",
      "Ljung-Box (L1) (Q):                   0.00   Jarque-Bera (JB):                18.91\n",
      "Prob(Q):                              0.98   Prob(JB):                         0.00\n",
      "Heteroskedasticity (H):               1.52   Skew:                             1.05\n",
      "Prob(H) (two-sided):                  0.24   Kurtosis:                         3.55\n",
      "===================================================================================\n",
      "\n",
      "Warnings:\n",
      "[1] Covariance matrix calculated using the outer product of gradients (complex-step).\n"
     ]
    }
   ],
   "source": [
    "from statsmodels.tsa.arima.model import ARIMA\n",
    "model = ARIMA(X_train['burglary_count'],order=(1,0,2))\n",
    "model_fit = model.fit()\n",
    "print(model_fit.summary())"
   ]
  },
  {
   "cell_type": "code",
   "execution_count": null,
   "id": "f981328d",
   "metadata": {},
   "outputs": [],
   "source": []
  },
  {
   "cell_type": "code",
   "execution_count": null,
   "id": "fd7efbd7",
   "metadata": {},
   "outputs": [],
   "source": []
  },
  {
   "cell_type": "code",
   "execution_count": null,
   "id": "99d5dfbe",
   "metadata": {},
   "outputs": [],
   "source": []
  },
  {
   "cell_type": "code",
   "execution_count": null,
   "id": "f8cb99ec",
   "metadata": {},
   "outputs": [],
   "source": []
  },
  {
   "cell_type": "code",
   "execution_count": null,
   "id": "b0e53883",
   "metadata": {},
   "outputs": [],
   "source": []
  }
 ],
 "metadata": {
  "kernelspec": {
   "display_name": "Python 3 (ipykernel)",
   "language": "python",
   "name": "python3"
  },
  "language_info": {
   "codemirror_mode": {
    "name": "ipython",
    "version": 3
   },
   "file_extension": ".py",
   "mimetype": "text/x-python",
   "name": "python",
   "nbconvert_exporter": "python",
   "pygments_lexer": "ipython3",
   "version": "3.9.13"
  }
 },
 "nbformat": 4,
 "nbformat_minor": 5
}
