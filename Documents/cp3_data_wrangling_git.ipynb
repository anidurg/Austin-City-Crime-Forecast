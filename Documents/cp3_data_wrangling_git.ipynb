{
 "cells": [
  {
   "cell_type": "markdown",
   "id": "ccc0f1ac",
   "metadata": {},
   "source": [
    "## Contents<a id='Contents'></a>\n",
    "* [Data wrangling](#Data_wrangling)\n",
    "  * [Contents](#Contents)\n",
    "  * [Introduction](#Introduction)\n",
    "    * [Recap Of Data Science Problem](#Recap_Of_Data_Science_Problem)\n",
    "    * [Data Source](#data_source)\n",
    "    * [API_request](#api_request)\n",
    "    * [Load the Data](#load_data)\n",
    "    * [saving pandas dataframe to parquet file](#df_2_parquet)\n",
    "    * [About Columns in this dataset](#about_columns)\n",
    "    \n",
    "  * [Imports](#Imports)\n",
    "  * [Objectives](#Objectives)\n",
    "  * [Load The Crime reports Data](#load_data)\n",
    "  * [Date Column Manipulations](#date_manipulations)\n",
    "  * [Number of missing values by column](#missing_columns)\n",
    "  * [ Check for Duplicates](#check_duplicates)\n",
    "  * [save the wrangled file](#save_file)\n",
    "  * [Summary of Data Wrangling](#summary)\n",
    "     "
   ]
  },
  {
   "cell_type": "markdown",
   "id": "68e383a5",
   "metadata": {},
   "source": [
    "### Introduction<a id='Introduction'>\n",
    "    \n",
    "This step focuses on collecting the data, organizing it, and making sure it's well defined. Some data cleaning will be done at this stage."
   ]
  },
  {
   "cell_type": "markdown",
   "id": "afea9d0a",
   "metadata": {},
   "source": [
    "### Recap Of Data Science Problem<a id='Recap_Of_Data_Science_Problem'>\n",
    "    \n",
    "The purpose of this data science project is to come up with machine learning models that will provide guidance to Austin Police Department(APD) and provide safety measures to Austin Public by informing them about the safe negihborhoods.\n"
   ]
  },
  {
   "cell_type": "markdown",
   "id": "62fd91d1",
   "metadata": {},
   "source": [
    "### Data Source<a id='data_source'>\n",
    "    \n",
    "Data is provided by APD and dataset owner is APD PIO(Public Information Officer). "
   ]
  },
  {
   "cell_type": "markdown",
   "id": "18a30c6d",
   "metadata": {},
   "source": [
    "### IMPORTS<a id='Imports'>"
   ]
  },
  {
   "cell_type": "code",
   "execution_count": 2,
   "id": "12fb13d6",
   "metadata": {},
   "outputs": [],
   "source": [
    "import pandas as pd\n",
    "import numpy as np\n",
    "import seaborn as sns\n",
    "import matplotlib.pyplot as plt\n",
    "%matplotlib inline\n",
    "import requests\n",
    "import time\n",
    "from sodapy import Socrata\n",
    "#requires conda installation of missingno\n",
    "import missingno as msno\n",
    "import warnings\n",
    "warnings.filterwarnings('ignore')"
   ]
  },
  {
   "cell_type": "code",
   "execution_count": 3,
   "id": "8f942095",
   "metadata": {},
   "outputs": [],
   "source": [
    "import os\n",
    "\n",
    "from dotenv import load_dotenv\n",
    "load_dotenv()\n",
    "app_token=os.getenv('AUSTEX_API_TOKEN')\n",
    "\n",
    "#print(app_token)\n",
    "\n"
   ]
  },
  {
   "cell_type": "markdown",
   "id": "7a2f9cd1",
   "metadata": {},
   "source": [
    "### API request<a id='api_request'>"
   ]
  },
  {
   "cell_type": "code",
   "execution_count": 3,
   "id": "473b3271",
   "metadata": {},
   "outputs": [],
   "source": [
    "x = requests.get(f\"https://data.austintexas.gov/resource/fdj4-gpfu.json?$limit=2000000&$$app_token={app_token}\")"
   ]
  },
  {
   "cell_type": "code",
   "execution_count": 4,
   "id": "5da126d6",
   "metadata": {},
   "outputs": [
    {
     "name": "stdout",
     "output_type": "stream",
     "text": [
      "200\n"
     ]
    }
   ],
   "source": [
    "print(x.status_code)"
   ]
  },
  {
   "cell_type": "markdown",
   "id": "febb1c19",
   "metadata": {},
   "source": [
    "### Load the Data<a id='load_data'>"
   ]
  },
  {
   "cell_type": "code",
   "execution_count": 5,
   "id": "c42f99bb",
   "metadata": {},
   "outputs": [],
   "source": [
    "df=pd.DataFrame(data=x.json())"
   ]
  },
  {
   "cell_type": "markdown",
   "id": "1f14fd37",
   "metadata": {},
   "source": [
    "### Saving pandas dataframe to parquet file<a id='df_2_parquet'>"
   ]
  },
  {
   "cell_type": "code",
   "execution_count": 4,
   "id": "9f1b6d6d",
   "metadata": {},
   "outputs": [],
   "source": [
    "import pyarrow as pa\n",
    "import pyarrow.parquet as pq"
   ]
  },
  {
   "cell_type": "code",
   "execution_count": 7,
   "id": "bc911b3c",
   "metadata": {},
   "outputs": [],
   "source": [
    "table = pa.Table.from_pandas(df, preserve_index=True)\n",
    "pq.write_table(table, 'crime_reports.parquet')"
   ]
  },
  {
   "cell_type": "code",
   "execution_count": 5,
   "id": "cd2c0c50",
   "metadata": {},
   "outputs": [],
   "source": [
    "df_parquet = pd.read_parquet('crime_reports.parquet')"
   ]
  },
  {
   "cell_type": "code",
   "execution_count": 6,
   "id": "b8b2848d",
   "metadata": {},
   "outputs": [
    {
     "data": {
      "text/html": [
       "<div>\n",
       "<style scoped>\n",
       "    .dataframe tbody tr th:only-of-type {\n",
       "        vertical-align: middle;\n",
       "    }\n",
       "\n",
       "    .dataframe tbody tr th {\n",
       "        vertical-align: top;\n",
       "    }\n",
       "\n",
       "    .dataframe thead th {\n",
       "        text-align: right;\n",
       "    }\n",
       "</style>\n",
       "<table border=\"1\" class=\"dataframe\">\n",
       "  <thead>\n",
       "    <tr style=\"text-align: right;\">\n",
       "      <th></th>\n",
       "      <th>incident_report_number</th>\n",
       "      <th>crime_type</th>\n",
       "      <th>ucr_code</th>\n",
       "      <th>family_violence</th>\n",
       "      <th>occ_date_time</th>\n",
       "      <th>occ_date</th>\n",
       "      <th>occ_time</th>\n",
       "      <th>rep_date_time</th>\n",
       "      <th>rep_date</th>\n",
       "      <th>rep_time</th>\n",
       "      <th>...</th>\n",
       "      <th>y_coordinate</th>\n",
       "      <th>latitude</th>\n",
       "      <th>longitude</th>\n",
       "      <th>location</th>\n",
       "      <th>:@computed_region_a3it_2a2z</th>\n",
       "      <th>:@computed_region_8spj_utxs</th>\n",
       "      <th>:@computed_region_q9nd_rr82</th>\n",
       "      <th>:@computed_region_qwte_z96m</th>\n",
       "      <th>:@computed_region_e9j2_6w3z</th>\n",
       "      <th>:@computed_region_5gse_m7ik</th>\n",
       "    </tr>\n",
       "  </thead>\n",
       "  <tbody>\n",
       "    <tr>\n",
       "      <th>0</th>\n",
       "      <td>20121171927</td>\n",
       "      <td>RECKLESS DAMAGE</td>\n",
       "      <td>1401</td>\n",
       "      <td>N</td>\n",
       "      <td>2012-04-26T22:34:00.000</td>\n",
       "      <td>2012-04-26T00:00:00.000</td>\n",
       "      <td>2234</td>\n",
       "      <td>2012-04-26T23:04:00.000</td>\n",
       "      <td>2012-04-26T00:00:00.000</td>\n",
       "      <td>2304</td>\n",
       "      <td>...</td>\n",
       "      <td>None</td>\n",
       "      <td>None</td>\n",
       "      <td>None</td>\n",
       "      <td>None</td>\n",
       "      <td>None</td>\n",
       "      <td>None</td>\n",
       "      <td>None</td>\n",
       "      <td>None</td>\n",
       "      <td>None</td>\n",
       "      <td>None</td>\n",
       "    </tr>\n",
       "    <tr>\n",
       "      <th>1</th>\n",
       "      <td>20072871892</td>\n",
       "      <td>FAMILY DISTURBANCE</td>\n",
       "      <td>3400</td>\n",
       "      <td>N</td>\n",
       "      <td>2007-10-14T20:01:00.000</td>\n",
       "      <td>2007-10-14T00:00:00.000</td>\n",
       "      <td>2001</td>\n",
       "      <td>2007-10-14T20:01:00.000</td>\n",
       "      <td>2007-10-14T00:00:00.000</td>\n",
       "      <td>2001</td>\n",
       "      <td>...</td>\n",
       "      <td>None</td>\n",
       "      <td>None</td>\n",
       "      <td>None</td>\n",
       "      <td>None</td>\n",
       "      <td>None</td>\n",
       "      <td>None</td>\n",
       "      <td>None</td>\n",
       "      <td>None</td>\n",
       "      <td>None</td>\n",
       "      <td>None</td>\n",
       "    </tr>\n",
       "    <tr>\n",
       "      <th>2</th>\n",
       "      <td>2006471156</td>\n",
       "      <td>FAMILY DISTURBANCE</td>\n",
       "      <td>3400</td>\n",
       "      <td>N</td>\n",
       "      <td>2006-02-16T14:25:00.000</td>\n",
       "      <td>2006-02-16T00:00:00.000</td>\n",
       "      <td>1425</td>\n",
       "      <td>2006-02-16T14:25:00.000</td>\n",
       "      <td>2006-02-16T00:00:00.000</td>\n",
       "      <td>1425</td>\n",
       "      <td>...</td>\n",
       "      <td>None</td>\n",
       "      <td>None</td>\n",
       "      <td>None</td>\n",
       "      <td>None</td>\n",
       "      <td>None</td>\n",
       "      <td>None</td>\n",
       "      <td>None</td>\n",
       "      <td>None</td>\n",
       "      <td>None</td>\n",
       "      <td>None</td>\n",
       "    </tr>\n",
       "    <tr>\n",
       "      <th>3</th>\n",
       "      <td>20045017276</td>\n",
       "      <td>IDENTITY THEFT</td>\n",
       "      <td>4022</td>\n",
       "      <td>N</td>\n",
       "      <td>2003-07-31T12:00:00.000</td>\n",
       "      <td>2003-07-31T00:00:00.000</td>\n",
       "      <td>1200</td>\n",
       "      <td>2004-04-14T09:45:00.000</td>\n",
       "      <td>2004-04-14T00:00:00.000</td>\n",
       "      <td>945</td>\n",
       "      <td>...</td>\n",
       "      <td>None</td>\n",
       "      <td>None</td>\n",
       "      <td>None</td>\n",
       "      <td>None</td>\n",
       "      <td>None</td>\n",
       "      <td>None</td>\n",
       "      <td>None</td>\n",
       "      <td>None</td>\n",
       "      <td>None</td>\n",
       "      <td>None</td>\n",
       "    </tr>\n",
       "    <tr>\n",
       "      <th>4</th>\n",
       "      <td>20173300229</td>\n",
       "      <td>FAMILY DISTURBANCE</td>\n",
       "      <td>3400</td>\n",
       "      <td>N</td>\n",
       "      <td>2017-11-26T07:43:00.000</td>\n",
       "      <td>2017-11-26T00:00:00.000</td>\n",
       "      <td>743</td>\n",
       "      <td>2017-11-26T07:43:00.000</td>\n",
       "      <td>2017-11-26T00:00:00.000</td>\n",
       "      <td>743</td>\n",
       "      <td>...</td>\n",
       "      <td>None</td>\n",
       "      <td>None</td>\n",
       "      <td>None</td>\n",
       "      <td>None</td>\n",
       "      <td>None</td>\n",
       "      <td>None</td>\n",
       "      <td>None</td>\n",
       "      <td>None</td>\n",
       "      <td>None</td>\n",
       "      <td>None</td>\n",
       "    </tr>\n",
       "  </tbody>\n",
       "</table>\n",
       "<p>5 rows × 33 columns</p>\n",
       "</div>"
      ],
      "text/plain": [
       "  incident_report_number          crime_type ucr_code family_violence  \\\n",
       "0            20121171927     RECKLESS DAMAGE     1401               N   \n",
       "1            20072871892  FAMILY DISTURBANCE     3400               N   \n",
       "2             2006471156  FAMILY DISTURBANCE     3400               N   \n",
       "3            20045017276      IDENTITY THEFT     4022               N   \n",
       "4            20173300229  FAMILY DISTURBANCE     3400               N   \n",
       "\n",
       "             occ_date_time                 occ_date occ_time  \\\n",
       "0  2012-04-26T22:34:00.000  2012-04-26T00:00:00.000     2234   \n",
       "1  2007-10-14T20:01:00.000  2007-10-14T00:00:00.000     2001   \n",
       "2  2006-02-16T14:25:00.000  2006-02-16T00:00:00.000     1425   \n",
       "3  2003-07-31T12:00:00.000  2003-07-31T00:00:00.000     1200   \n",
       "4  2017-11-26T07:43:00.000  2017-11-26T00:00:00.000      743   \n",
       "\n",
       "             rep_date_time                 rep_date rep_time  ...  \\\n",
       "0  2012-04-26T23:04:00.000  2012-04-26T00:00:00.000     2304  ...   \n",
       "1  2007-10-14T20:01:00.000  2007-10-14T00:00:00.000     2001  ...   \n",
       "2  2006-02-16T14:25:00.000  2006-02-16T00:00:00.000     1425  ...   \n",
       "3  2004-04-14T09:45:00.000  2004-04-14T00:00:00.000      945  ...   \n",
       "4  2017-11-26T07:43:00.000  2017-11-26T00:00:00.000      743  ...   \n",
       "\n",
       "  y_coordinate latitude longitude location :@computed_region_a3it_2a2z  \\\n",
       "0         None     None      None     None                        None   \n",
       "1         None     None      None     None                        None   \n",
       "2         None     None      None     None                        None   \n",
       "3         None     None      None     None                        None   \n",
       "4         None     None      None     None                        None   \n",
       "\n",
       "  :@computed_region_8spj_utxs :@computed_region_q9nd_rr82  \\\n",
       "0                        None                        None   \n",
       "1                        None                        None   \n",
       "2                        None                        None   \n",
       "3                        None                        None   \n",
       "4                        None                        None   \n",
       "\n",
       "  :@computed_region_qwte_z96m :@computed_region_e9j2_6w3z  \\\n",
       "0                        None                        None   \n",
       "1                        None                        None   \n",
       "2                        None                        None   \n",
       "3                        None                        None   \n",
       "4                        None                        None   \n",
       "\n",
       "  :@computed_region_5gse_m7ik  \n",
       "0                        None  \n",
       "1                        None  \n",
       "2                        None  \n",
       "3                        None  \n",
       "4                        None  \n",
       "\n",
       "[5 rows x 33 columns]"
      ]
     },
     "execution_count": 6,
     "metadata": {},
     "output_type": "execute_result"
    }
   ],
   "source": [
    "df_parquet.head()"
   ]
  },
  {
   "cell_type": "markdown",
   "id": "baf17e5f",
   "metadata": {},
   "source": [
    "### About Columns in this dataset <a id='about_columns'>\n",
    "\n",
    "Incident_report_number: Incident Number<br>\n",
    "Crime_type: Highest Offense Description<br>\n",
    "Ucr_code: Highest Offense Code<br>\n",
    "Family_violence: Incident involves family violence? Y = yes, N = no<br>\n",
    "Occ_date_time: Date and Time(combined)  the incident occurred<br>\n",
    "Occ_date:Date the incident occurred<br>\n",
    "Occ_time: Time the incident occurred<br>\n",
    "Rep_date_time: Date and time (combined) incident was reported<br>\n",
    "Rep_date: Date the incident was reported<br>\n",
    "Rep_time: Time the incident was reported<br>\n",
    "Location_type: General description of the premise where the incident occurred<br>\n",
    "Address: Incident location<br>\n",
    "Zip_code: zip code where incident occurred<br>\n",
    "Council_district: Austin city council district where incident occurred<br>\n",
    "Sector: APD sector where incident occurred<br>\n",
    "District: APD district where incident occurred<br>\n",
    "Pra: APD police reporting area where incident occurred<br>\n",
    "Census_tract: Census tract where incident occurred<br>\n",
    "X_coordinate: X-coordinate where the incident occurred<br>\n",
    "Y_coordinate: Y-coordinate where the incident occurred<br>\n",
    "Latitude: Latitude where incident occurred<br>\n",
    "Longitude: Longitude where incident occurred<br>\n",
    "Location: 3rd party generated spatial column (not from source)<br>\n",
    "Clearance_status: How/whether crime was solved (see lookup)<br>\n",
    "Clearance_date: Date crime was solved<br>\n",
    "Ucr_category: Code for the most serious crimes identified by the FBI as part of its Uniform Crime Reporting program<br>\n",
    "Category_description: Description for the most serious crimes identified by the FBI as part of its Uniform Crime Reporting program<br>\n"
   ]
  },
  {
   "cell_type": "code",
   "execution_count": 7,
   "id": "37420531",
   "metadata": {},
   "outputs": [
    {
     "name": "stdout",
     "output_type": "stream",
     "text": [
      "<class 'pandas.core.frame.DataFrame'>\n",
      "Int64Index: 2000000 entries, 0 to 1999999\n",
      "Data columns (total 33 columns):\n",
      " #   Column                       Dtype \n",
      "---  ------                       ----- \n",
      " 0   incident_report_number       object\n",
      " 1   crime_type                   object\n",
      " 2   ucr_code                     object\n",
      " 3   family_violence              object\n",
      " 4   occ_date_time                object\n",
      " 5   occ_date                     object\n",
      " 6   occ_time                     object\n",
      " 7   rep_date_time                object\n",
      " 8   rep_date                     object\n",
      " 9   rep_time                     object\n",
      " 10  location_type                object\n",
      " 11  address                      object\n",
      " 12  clearance_date               object\n",
      " 13  clearance_status             object\n",
      " 14  zip_code                     object\n",
      " 15  council_district             object\n",
      " 16  sector                       object\n",
      " 17  district                     object\n",
      " 18  pra                          object\n",
      " 19  census_tract                 object\n",
      " 20  ucr_category                 object\n",
      " 21  category_description         object\n",
      " 22  x_coordinate                 object\n",
      " 23  y_coordinate                 object\n",
      " 24  latitude                     object\n",
      " 25  longitude                    object\n",
      " 26  location                     object\n",
      " 27  :@computed_region_a3it_2a2z  object\n",
      " 28  :@computed_region_8spj_utxs  object\n",
      " 29  :@computed_region_q9nd_rr82  object\n",
      " 30  :@computed_region_qwte_z96m  object\n",
      " 31  :@computed_region_e9j2_6w3z  object\n",
      " 32  :@computed_region_5gse_m7ik  object\n",
      "dtypes: object(33)\n",
      "memory usage: 518.8+ MB\n"
     ]
    }
   ],
   "source": [
    "df_parquet.info()"
   ]
  },
  {
   "cell_type": "markdown",
   "id": "47a4c29d",
   "metadata": {},
   "source": [
    "I notice six columns which are generated based on zipcode and zoning. I do not require it. so dropping thhose columns. "
   ]
  },
  {
   "cell_type": "code",
   "execution_count": 8,
   "id": "0d9a4635",
   "metadata": {},
   "outputs": [],
   "source": [
    "#out of 33 columns, removing the below 6. keeping 27 for now\n",
    "drop_columns = [':@computed_region_a3it_2a2z',':@computed_region_8spj_utxs',':@computed_region_q9nd_rr82',':@computed_region_e9j2_6w3z',':@computed_region_5gse_m7ik',':@computed_region_qwte_z96m']\n",
    "df_27 = df_parquet.drop(drop_columns, axis=1)"
   ]
  },
  {
   "cell_type": "code",
   "execution_count": 9,
   "id": "626b422f",
   "metadata": {},
   "outputs": [
    {
     "data": {
      "text/plain": [
       "Index(['incident_report_number', 'crime_type', 'ucr_code', 'family_violence',\n",
       "       'occ_date_time', 'occ_date', 'occ_time', 'rep_date_time', 'rep_date',\n",
       "       'rep_time', 'location_type', 'address', 'clearance_date',\n",
       "       'clearance_status', 'zip_code', 'council_district', 'sector',\n",
       "       'district', 'pra', 'census_tract', 'ucr_category',\n",
       "       'category_description', 'x_coordinate', 'y_coordinate', 'latitude',\n",
       "       'longitude', 'location'],\n",
       "      dtype='object')"
      ]
     },
     "execution_count": 9,
     "metadata": {},
     "output_type": "execute_result"
    }
   ],
   "source": [
    "df_27.columns"
   ]
  },
  {
   "cell_type": "code",
   "execution_count": 10,
   "id": "f60b6833",
   "metadata": {},
   "outputs": [
    {
     "data": {
      "text/plain": [
       "(2000000, 27)"
      ]
     },
     "execution_count": 10,
     "metadata": {},
     "output_type": "execute_result"
    }
   ],
   "source": [
    "df_27.shape"
   ]
  },
  {
   "cell_type": "code",
   "execution_count": 11,
   "id": "78d31a9d",
   "metadata": {},
   "outputs": [
    {
     "data": {
      "text/plain": [
       "incident_report_number    object\n",
       "crime_type                object\n",
       "ucr_code                  object\n",
       "family_violence           object\n",
       "occ_date_time             object\n",
       "occ_date                  object\n",
       "occ_time                  object\n",
       "rep_date_time             object\n",
       "rep_date                  object\n",
       "rep_time                  object\n",
       "location_type             object\n",
       "address                   object\n",
       "clearance_date            object\n",
       "clearance_status          object\n",
       "zip_code                  object\n",
       "council_district          object\n",
       "sector                    object\n",
       "district                  object\n",
       "pra                       object\n",
       "census_tract              object\n",
       "ucr_category              object\n",
       "category_description      object\n",
       "x_coordinate              object\n",
       "y_coordinate              object\n",
       "latitude                  object\n",
       "longitude                 object\n",
       "location                  object\n",
       "dtype: object"
      ]
     },
     "execution_count": 11,
     "metadata": {},
     "output_type": "execute_result"
    }
   ],
   "source": [
    "df_27.dtypes"
   ]
  },
  {
   "cell_type": "code",
   "execution_count": 12,
   "id": "7f92ddd4",
   "metadata": {},
   "outputs": [],
   "source": [
    "# need to convert datetime columns from object data type to date types\n",
    "df_27['occurred_date_time'] = pd.to_datetime(df_27['occ_date_time'],format='%Y-%m-%d')"
   ]
  },
  {
   "cell_type": "code",
   "execution_count": 13,
   "id": "ce1b23ba",
   "metadata": {},
   "outputs": [],
   "source": [
    "df_27['reported_date_time'] = pd.to_datetime(df_27['rep_date_time'],format='%Y-%m-%d')"
   ]
  },
  {
   "cell_type": "code",
   "execution_count": 14,
   "id": "c92288c6",
   "metadata": {},
   "outputs": [
    {
     "data": {
      "text/plain": [
       "Index(['incident_report_number', 'crime_type', 'ucr_code', 'family_violence',\n",
       "       'occ_date_time', 'occ_date', 'occ_time', 'rep_date_time', 'rep_date',\n",
       "       'rep_time', 'location_type', 'address', 'clearance_date',\n",
       "       'clearance_status', 'zip_code', 'council_district', 'sector',\n",
       "       'district', 'pra', 'census_tract', 'ucr_category',\n",
       "       'category_description', 'x_coordinate', 'y_coordinate', 'latitude',\n",
       "       'longitude', 'location', 'occurred_date_time', 'reported_date_time'],\n",
       "      dtype='object')"
      ]
     },
     "execution_count": 14,
     "metadata": {},
     "output_type": "execute_result"
    }
   ],
   "source": [
    "df_27.columns"
   ]
  },
  {
   "cell_type": "code",
   "execution_count": 15,
   "id": "595bf355",
   "metadata": {},
   "outputs": [
    {
     "data": {
      "text/html": [
       "<div>\n",
       "<style scoped>\n",
       "    .dataframe tbody tr th:only-of-type {\n",
       "        vertical-align: middle;\n",
       "    }\n",
       "\n",
       "    .dataframe tbody tr th {\n",
       "        vertical-align: top;\n",
       "    }\n",
       "\n",
       "    .dataframe thead th {\n",
       "        text-align: right;\n",
       "    }\n",
       "</style>\n",
       "<table border=\"1\" class=\"dataframe\">\n",
       "  <thead>\n",
       "    <tr style=\"text-align: right;\">\n",
       "      <th></th>\n",
       "      <th>incident_report_number</th>\n",
       "      <th>crime_type</th>\n",
       "      <th>ucr_code</th>\n",
       "      <th>family_violence</th>\n",
       "      <th>occ_date_time</th>\n",
       "      <th>occ_date</th>\n",
       "      <th>occ_time</th>\n",
       "      <th>rep_date_time</th>\n",
       "      <th>rep_date</th>\n",
       "      <th>rep_time</th>\n",
       "      <th>...</th>\n",
       "      <th>census_tract</th>\n",
       "      <th>ucr_category</th>\n",
       "      <th>category_description</th>\n",
       "      <th>x_coordinate</th>\n",
       "      <th>y_coordinate</th>\n",
       "      <th>latitude</th>\n",
       "      <th>longitude</th>\n",
       "      <th>location</th>\n",
       "      <th>occurred_date_time</th>\n",
       "      <th>reported_date_time</th>\n",
       "    </tr>\n",
       "  </thead>\n",
       "  <tbody>\n",
       "    <tr>\n",
       "      <th>0</th>\n",
       "      <td>20121171927</td>\n",
       "      <td>RECKLESS DAMAGE</td>\n",
       "      <td>1401</td>\n",
       "      <td>N</td>\n",
       "      <td>2012-04-26T22:34:00.000</td>\n",
       "      <td>2012-04-26T00:00:00.000</td>\n",
       "      <td>2234</td>\n",
       "      <td>2012-04-26T23:04:00.000</td>\n",
       "      <td>2012-04-26T00:00:00.000</td>\n",
       "      <td>2304</td>\n",
       "      <td>...</td>\n",
       "      <td>None</td>\n",
       "      <td>None</td>\n",
       "      <td>None</td>\n",
       "      <td>None</td>\n",
       "      <td>None</td>\n",
       "      <td>None</td>\n",
       "      <td>None</td>\n",
       "      <td>None</td>\n",
       "      <td>2012-04-26 22:34:00</td>\n",
       "      <td>2012-04-26 23:04:00</td>\n",
       "    </tr>\n",
       "    <tr>\n",
       "      <th>1</th>\n",
       "      <td>20072871892</td>\n",
       "      <td>FAMILY DISTURBANCE</td>\n",
       "      <td>3400</td>\n",
       "      <td>N</td>\n",
       "      <td>2007-10-14T20:01:00.000</td>\n",
       "      <td>2007-10-14T00:00:00.000</td>\n",
       "      <td>2001</td>\n",
       "      <td>2007-10-14T20:01:00.000</td>\n",
       "      <td>2007-10-14T00:00:00.000</td>\n",
       "      <td>2001</td>\n",
       "      <td>...</td>\n",
       "      <td>None</td>\n",
       "      <td>None</td>\n",
       "      <td>None</td>\n",
       "      <td>None</td>\n",
       "      <td>None</td>\n",
       "      <td>None</td>\n",
       "      <td>None</td>\n",
       "      <td>None</td>\n",
       "      <td>2007-10-14 20:01:00</td>\n",
       "      <td>2007-10-14 20:01:00</td>\n",
       "    </tr>\n",
       "    <tr>\n",
       "      <th>2</th>\n",
       "      <td>2006471156</td>\n",
       "      <td>FAMILY DISTURBANCE</td>\n",
       "      <td>3400</td>\n",
       "      <td>N</td>\n",
       "      <td>2006-02-16T14:25:00.000</td>\n",
       "      <td>2006-02-16T00:00:00.000</td>\n",
       "      <td>1425</td>\n",
       "      <td>2006-02-16T14:25:00.000</td>\n",
       "      <td>2006-02-16T00:00:00.000</td>\n",
       "      <td>1425</td>\n",
       "      <td>...</td>\n",
       "      <td>None</td>\n",
       "      <td>None</td>\n",
       "      <td>None</td>\n",
       "      <td>None</td>\n",
       "      <td>None</td>\n",
       "      <td>None</td>\n",
       "      <td>None</td>\n",
       "      <td>None</td>\n",
       "      <td>2006-02-16 14:25:00</td>\n",
       "      <td>2006-02-16 14:25:00</td>\n",
       "    </tr>\n",
       "    <tr>\n",
       "      <th>3</th>\n",
       "      <td>20045017276</td>\n",
       "      <td>IDENTITY THEFT</td>\n",
       "      <td>4022</td>\n",
       "      <td>N</td>\n",
       "      <td>2003-07-31T12:00:00.000</td>\n",
       "      <td>2003-07-31T00:00:00.000</td>\n",
       "      <td>1200</td>\n",
       "      <td>2004-04-14T09:45:00.000</td>\n",
       "      <td>2004-04-14T00:00:00.000</td>\n",
       "      <td>945</td>\n",
       "      <td>...</td>\n",
       "      <td>None</td>\n",
       "      <td>None</td>\n",
       "      <td>None</td>\n",
       "      <td>None</td>\n",
       "      <td>None</td>\n",
       "      <td>None</td>\n",
       "      <td>None</td>\n",
       "      <td>None</td>\n",
       "      <td>2003-07-31 12:00:00</td>\n",
       "      <td>2004-04-14 09:45:00</td>\n",
       "    </tr>\n",
       "    <tr>\n",
       "      <th>4</th>\n",
       "      <td>20173300229</td>\n",
       "      <td>FAMILY DISTURBANCE</td>\n",
       "      <td>3400</td>\n",
       "      <td>N</td>\n",
       "      <td>2017-11-26T07:43:00.000</td>\n",
       "      <td>2017-11-26T00:00:00.000</td>\n",
       "      <td>743</td>\n",
       "      <td>2017-11-26T07:43:00.000</td>\n",
       "      <td>2017-11-26T00:00:00.000</td>\n",
       "      <td>743</td>\n",
       "      <td>...</td>\n",
       "      <td>None</td>\n",
       "      <td>None</td>\n",
       "      <td>None</td>\n",
       "      <td>None</td>\n",
       "      <td>None</td>\n",
       "      <td>None</td>\n",
       "      <td>None</td>\n",
       "      <td>None</td>\n",
       "      <td>2017-11-26 07:43:00</td>\n",
       "      <td>2017-11-26 07:43:00</td>\n",
       "    </tr>\n",
       "  </tbody>\n",
       "</table>\n",
       "<p>5 rows × 29 columns</p>\n",
       "</div>"
      ],
      "text/plain": [
       "  incident_report_number          crime_type ucr_code family_violence  \\\n",
       "0            20121171927     RECKLESS DAMAGE     1401               N   \n",
       "1            20072871892  FAMILY DISTURBANCE     3400               N   \n",
       "2             2006471156  FAMILY DISTURBANCE     3400               N   \n",
       "3            20045017276      IDENTITY THEFT     4022               N   \n",
       "4            20173300229  FAMILY DISTURBANCE     3400               N   \n",
       "\n",
       "             occ_date_time                 occ_date occ_time  \\\n",
       "0  2012-04-26T22:34:00.000  2012-04-26T00:00:00.000     2234   \n",
       "1  2007-10-14T20:01:00.000  2007-10-14T00:00:00.000     2001   \n",
       "2  2006-02-16T14:25:00.000  2006-02-16T00:00:00.000     1425   \n",
       "3  2003-07-31T12:00:00.000  2003-07-31T00:00:00.000     1200   \n",
       "4  2017-11-26T07:43:00.000  2017-11-26T00:00:00.000      743   \n",
       "\n",
       "             rep_date_time                 rep_date rep_time  ...  \\\n",
       "0  2012-04-26T23:04:00.000  2012-04-26T00:00:00.000     2304  ...   \n",
       "1  2007-10-14T20:01:00.000  2007-10-14T00:00:00.000     2001  ...   \n",
       "2  2006-02-16T14:25:00.000  2006-02-16T00:00:00.000     1425  ...   \n",
       "3  2004-04-14T09:45:00.000  2004-04-14T00:00:00.000      945  ...   \n",
       "4  2017-11-26T07:43:00.000  2017-11-26T00:00:00.000      743  ...   \n",
       "\n",
       "  census_tract ucr_category category_description x_coordinate y_coordinate  \\\n",
       "0         None         None                 None         None         None   \n",
       "1         None         None                 None         None         None   \n",
       "2         None         None                 None         None         None   \n",
       "3         None         None                 None         None         None   \n",
       "4         None         None                 None         None         None   \n",
       "\n",
       "  latitude longitude location  occurred_date_time  reported_date_time  \n",
       "0     None      None     None 2012-04-26 22:34:00 2012-04-26 23:04:00  \n",
       "1     None      None     None 2007-10-14 20:01:00 2007-10-14 20:01:00  \n",
       "2     None      None     None 2006-02-16 14:25:00 2006-02-16 14:25:00  \n",
       "3     None      None     None 2003-07-31 12:00:00 2004-04-14 09:45:00  \n",
       "4     None      None     None 2017-11-26 07:43:00 2017-11-26 07:43:00  \n",
       "\n",
       "[5 rows x 29 columns]"
      ]
     },
     "execution_count": 15,
     "metadata": {},
     "output_type": "execute_result"
    }
   ],
   "source": [
    "df_27.head()"
   ]
  },
  {
   "cell_type": "code",
   "execution_count": 16,
   "id": "44f92ec6",
   "metadata": {},
   "outputs": [],
   "source": [
    "drop_columns = ['occ_date_time', 'occ_date', 'occ_time', 'rep_date_time', 'rep_date','rep_time']\n",
    "df_27_new = df_27.drop(drop_columns, axis=1)"
   ]
  },
  {
   "cell_type": "code",
   "execution_count": 17,
   "id": "4a07bcfd",
   "metadata": {},
   "outputs": [
    {
     "data": {
      "text/html": [
       "<div>\n",
       "<style scoped>\n",
       "    .dataframe tbody tr th:only-of-type {\n",
       "        vertical-align: middle;\n",
       "    }\n",
       "\n",
       "    .dataframe tbody tr th {\n",
       "        vertical-align: top;\n",
       "    }\n",
       "\n",
       "    .dataframe thead th {\n",
       "        text-align: right;\n",
       "    }\n",
       "</style>\n",
       "<table border=\"1\" class=\"dataframe\">\n",
       "  <thead>\n",
       "    <tr style=\"text-align: right;\">\n",
       "      <th></th>\n",
       "      <th>incident_report_number</th>\n",
       "      <th>crime_type</th>\n",
       "      <th>ucr_code</th>\n",
       "      <th>family_violence</th>\n",
       "      <th>location_type</th>\n",
       "      <th>address</th>\n",
       "      <th>clearance_date</th>\n",
       "      <th>clearance_status</th>\n",
       "      <th>zip_code</th>\n",
       "      <th>council_district</th>\n",
       "      <th>...</th>\n",
       "      <th>census_tract</th>\n",
       "      <th>ucr_category</th>\n",
       "      <th>category_description</th>\n",
       "      <th>x_coordinate</th>\n",
       "      <th>y_coordinate</th>\n",
       "      <th>latitude</th>\n",
       "      <th>longitude</th>\n",
       "      <th>location</th>\n",
       "      <th>occurred_date_time</th>\n",
       "      <th>reported_date_time</th>\n",
       "    </tr>\n",
       "  </thead>\n",
       "  <tbody>\n",
       "    <tr>\n",
       "      <th>0</th>\n",
       "      <td>20121171927</td>\n",
       "      <td>RECKLESS DAMAGE</td>\n",
       "      <td>1401</td>\n",
       "      <td>N</td>\n",
       "      <td>RESIDENCE / HOME</td>\n",
       "      <td>3154 HWY 71 E</td>\n",
       "      <td>None</td>\n",
       "      <td>None</td>\n",
       "      <td>None</td>\n",
       "      <td>None</td>\n",
       "      <td>...</td>\n",
       "      <td>None</td>\n",
       "      <td>None</td>\n",
       "      <td>None</td>\n",
       "      <td>None</td>\n",
       "      <td>None</td>\n",
       "      <td>None</td>\n",
       "      <td>None</td>\n",
       "      <td>None</td>\n",
       "      <td>2012-04-26 22:34:00</td>\n",
       "      <td>2012-04-26 23:04:00</td>\n",
       "    </tr>\n",
       "    <tr>\n",
       "      <th>1</th>\n",
       "      <td>20072871892</td>\n",
       "      <td>FAMILY DISTURBANCE</td>\n",
       "      <td>3400</td>\n",
       "      <td>N</td>\n",
       "      <td>RESIDENCE / HOME</td>\n",
       "      <td>9715 N FM 620 RD</td>\n",
       "      <td>None</td>\n",
       "      <td>None</td>\n",
       "      <td>None</td>\n",
       "      <td>None</td>\n",
       "      <td>...</td>\n",
       "      <td>None</td>\n",
       "      <td>None</td>\n",
       "      <td>None</td>\n",
       "      <td>None</td>\n",
       "      <td>None</td>\n",
       "      <td>None</td>\n",
       "      <td>None</td>\n",
       "      <td>None</td>\n",
       "      <td>2007-10-14 20:01:00</td>\n",
       "      <td>2007-10-14 20:01:00</td>\n",
       "    </tr>\n",
       "    <tr>\n",
       "      <th>2</th>\n",
       "      <td>2006471156</td>\n",
       "      <td>FAMILY DISTURBANCE</td>\n",
       "      <td>3400</td>\n",
       "      <td>N</td>\n",
       "      <td>RESIDENCE / HOME</td>\n",
       "      <td>7000 DECKER 1422</td>\n",
       "      <td>None</td>\n",
       "      <td>None</td>\n",
       "      <td>None</td>\n",
       "      <td>None</td>\n",
       "      <td>...</td>\n",
       "      <td>None</td>\n",
       "      <td>None</td>\n",
       "      <td>None</td>\n",
       "      <td>None</td>\n",
       "      <td>None</td>\n",
       "      <td>None</td>\n",
       "      <td>None</td>\n",
       "      <td>None</td>\n",
       "      <td>2006-02-16 14:25:00</td>\n",
       "      <td>2006-02-16 14:25:00</td>\n",
       "    </tr>\n",
       "    <tr>\n",
       "      <th>3</th>\n",
       "      <td>20045017276</td>\n",
       "      <td>IDENTITY THEFT</td>\n",
       "      <td>4022</td>\n",
       "      <td>N</td>\n",
       "      <td>None</td>\n",
       "      <td>11441 I35 EF N</td>\n",
       "      <td>2004-09-01T00:00:00.000</td>\n",
       "      <td>None</td>\n",
       "      <td>None</td>\n",
       "      <td>None</td>\n",
       "      <td>...</td>\n",
       "      <td>None</td>\n",
       "      <td>None</td>\n",
       "      <td>None</td>\n",
       "      <td>None</td>\n",
       "      <td>None</td>\n",
       "      <td>None</td>\n",
       "      <td>None</td>\n",
       "      <td>None</td>\n",
       "      <td>2003-07-31 12:00:00</td>\n",
       "      <td>2004-04-14 09:45:00</td>\n",
       "    </tr>\n",
       "    <tr>\n",
       "      <th>4</th>\n",
       "      <td>20173300229</td>\n",
       "      <td>FAMILY DISTURBANCE</td>\n",
       "      <td>3400</td>\n",
       "      <td>N</td>\n",
       "      <td>RESIDENCE / HOME</td>\n",
       "      <td>13204 LIPTON LP</td>\n",
       "      <td>None</td>\n",
       "      <td>None</td>\n",
       "      <td>None</td>\n",
       "      <td>None</td>\n",
       "      <td>...</td>\n",
       "      <td>None</td>\n",
       "      <td>None</td>\n",
       "      <td>None</td>\n",
       "      <td>None</td>\n",
       "      <td>None</td>\n",
       "      <td>None</td>\n",
       "      <td>None</td>\n",
       "      <td>None</td>\n",
       "      <td>2017-11-26 07:43:00</td>\n",
       "      <td>2017-11-26 07:43:00</td>\n",
       "    </tr>\n",
       "  </tbody>\n",
       "</table>\n",
       "<p>5 rows × 23 columns</p>\n",
       "</div>"
      ],
      "text/plain": [
       "  incident_report_number          crime_type ucr_code family_violence  \\\n",
       "0            20121171927     RECKLESS DAMAGE     1401               N   \n",
       "1            20072871892  FAMILY DISTURBANCE     3400               N   \n",
       "2             2006471156  FAMILY DISTURBANCE     3400               N   \n",
       "3            20045017276      IDENTITY THEFT     4022               N   \n",
       "4            20173300229  FAMILY DISTURBANCE     3400               N   \n",
       "\n",
       "      location_type           address           clearance_date  \\\n",
       "0  RESIDENCE / HOME     3154 HWY 71 E                     None   \n",
       "1  RESIDENCE / HOME  9715 N FM 620 RD                     None   \n",
       "2  RESIDENCE / HOME  7000 DECKER 1422                     None   \n",
       "3              None    11441 I35 EF N  2004-09-01T00:00:00.000   \n",
       "4  RESIDENCE / HOME   13204 LIPTON LP                     None   \n",
       "\n",
       "  clearance_status zip_code council_district  ... census_tract ucr_category  \\\n",
       "0             None     None             None  ...         None         None   \n",
       "1             None     None             None  ...         None         None   \n",
       "2             None     None             None  ...         None         None   \n",
       "3             None     None             None  ...         None         None   \n",
       "4             None     None             None  ...         None         None   \n",
       "\n",
       "  category_description x_coordinate y_coordinate latitude longitude location  \\\n",
       "0                 None         None         None     None      None     None   \n",
       "1                 None         None         None     None      None     None   \n",
       "2                 None         None         None     None      None     None   \n",
       "3                 None         None         None     None      None     None   \n",
       "4                 None         None         None     None      None     None   \n",
       "\n",
       "   occurred_date_time  reported_date_time  \n",
       "0 2012-04-26 22:34:00 2012-04-26 23:04:00  \n",
       "1 2007-10-14 20:01:00 2007-10-14 20:01:00  \n",
       "2 2006-02-16 14:25:00 2006-02-16 14:25:00  \n",
       "3 2003-07-31 12:00:00 2004-04-14 09:45:00  \n",
       "4 2017-11-26 07:43:00 2017-11-26 07:43:00  \n",
       "\n",
       "[5 rows x 23 columns]"
      ]
     },
     "execution_count": 17,
     "metadata": {},
     "output_type": "execute_result"
    }
   ],
   "source": [
    "df_27_new.head()"
   ]
  },
  {
   "cell_type": "code",
   "execution_count": 18,
   "id": "e6160dbf",
   "metadata": {},
   "outputs": [
    {
     "data": {
      "text/plain": [
       "Index(['incident_report_number', 'crime_type', 'ucr_code', 'family_violence',\n",
       "       'location_type', 'address', 'clearance_date', 'clearance_status',\n",
       "       'zip_code', 'council_district', 'sector', 'district', 'pra',\n",
       "       'census_tract', 'ucr_category', 'category_description', 'x_coordinate',\n",
       "       'y_coordinate', 'latitude', 'longitude', 'location',\n",
       "       'occurred_date_time', 'reported_date_time'],\n",
       "      dtype='object')"
      ]
     },
     "execution_count": 18,
     "metadata": {},
     "output_type": "execute_result"
    }
   ],
   "source": [
    "df_27_new.columns"
   ]
  },
  {
   "cell_type": "code",
   "execution_count": 19,
   "id": "75b4eb08",
   "metadata": {},
   "outputs": [
    {
     "data": {
      "text/plain": [
       "(2000000, 23)"
      ]
     },
     "execution_count": 19,
     "metadata": {},
     "output_type": "execute_result"
    }
   ],
   "source": [
    "df_27_new.shape"
   ]
  },
  {
   "cell_type": "markdown",
   "id": "7fc25de9",
   "metadata": {},
   "source": [
    "### Date Column Manipulations<a id='date_manipulations'>"
   ]
  },
  {
   "cell_type": "code",
   "execution_count": 20,
   "id": "7171af6a",
   "metadata": {},
   "outputs": [
    {
     "ename": "ValueError",
     "evalue": "NaTType does not support strftime",
     "output_type": "error",
     "traceback": [
      "\u001b[1;31m---------------------------------------------------------------------------\u001b[0m",
      "\u001b[1;31mValueError\u001b[0m                                Traceback (most recent call last)",
      "\u001b[1;32m~\\AppData\\Local\\Temp\\ipykernel_75668\\946845808.py\u001b[0m in \u001b[0;36m<module>\u001b[1;34m\u001b[0m\n\u001b[1;32m----> 1\u001b[1;33m \u001b[0mdf_27_new\u001b[0m\u001b[1;33m[\u001b[0m\u001b[1;34m'month'\u001b[0m\u001b[1;33m]\u001b[0m \u001b[1;33m=\u001b[0m \u001b[0mdf_27_new\u001b[0m\u001b[1;33m[\u001b[0m\u001b[1;34m'occurred_date_time'\u001b[0m\u001b[1;33m]\u001b[0m\u001b[1;33m.\u001b[0m\u001b[0mapply\u001b[0m\u001b[1;33m(\u001b[0m\u001b[1;32mlambda\u001b[0m \u001b[0mx\u001b[0m\u001b[1;33m:\u001b[0m \u001b[0mx\u001b[0m\u001b[1;33m.\u001b[0m\u001b[0mstrftime\u001b[0m\u001b[1;33m(\u001b[0m\u001b[1;34m'%B'\u001b[0m\u001b[1;33m)\u001b[0m\u001b[1;33m)\u001b[0m\u001b[1;33m\u001b[0m\u001b[1;33m\u001b[0m\u001b[0m\n\u001b[0m",
      "\u001b[1;32m~\\anaconda3\\lib\\site-packages\\pandas\\core\\series.py\u001b[0m in \u001b[0;36mapply\u001b[1;34m(self, func, convert_dtype, args, **kwargs)\u001b[0m\n\u001b[0;32m   4431\u001b[0m         \u001b[0mdtype\u001b[0m\u001b[1;33m:\u001b[0m \u001b[0mfloat64\u001b[0m\u001b[1;33m\u001b[0m\u001b[1;33m\u001b[0m\u001b[0m\n\u001b[0;32m   4432\u001b[0m         \"\"\"\n\u001b[1;32m-> 4433\u001b[1;33m         \u001b[1;32mreturn\u001b[0m \u001b[0mSeriesApply\u001b[0m\u001b[1;33m(\u001b[0m\u001b[0mself\u001b[0m\u001b[1;33m,\u001b[0m \u001b[0mfunc\u001b[0m\u001b[1;33m,\u001b[0m \u001b[0mconvert_dtype\u001b[0m\u001b[1;33m,\u001b[0m \u001b[0margs\u001b[0m\u001b[1;33m,\u001b[0m \u001b[0mkwargs\u001b[0m\u001b[1;33m)\u001b[0m\u001b[1;33m.\u001b[0m\u001b[0mapply\u001b[0m\u001b[1;33m(\u001b[0m\u001b[1;33m)\u001b[0m\u001b[1;33m\u001b[0m\u001b[1;33m\u001b[0m\u001b[0m\n\u001b[0m\u001b[0;32m   4434\u001b[0m \u001b[1;33m\u001b[0m\u001b[0m\n\u001b[0;32m   4435\u001b[0m     def _reduce(\n",
      "\u001b[1;32m~\\anaconda3\\lib\\site-packages\\pandas\\core\\apply.py\u001b[0m in \u001b[0;36mapply\u001b[1;34m(self)\u001b[0m\n\u001b[0;32m   1086\u001b[0m             \u001b[1;32mreturn\u001b[0m \u001b[0mself\u001b[0m\u001b[1;33m.\u001b[0m\u001b[0mapply_str\u001b[0m\u001b[1;33m(\u001b[0m\u001b[1;33m)\u001b[0m\u001b[1;33m\u001b[0m\u001b[1;33m\u001b[0m\u001b[0m\n\u001b[0;32m   1087\u001b[0m \u001b[1;33m\u001b[0m\u001b[0m\n\u001b[1;32m-> 1088\u001b[1;33m         \u001b[1;32mreturn\u001b[0m \u001b[0mself\u001b[0m\u001b[1;33m.\u001b[0m\u001b[0mapply_standard\u001b[0m\u001b[1;33m(\u001b[0m\u001b[1;33m)\u001b[0m\u001b[1;33m\u001b[0m\u001b[1;33m\u001b[0m\u001b[0m\n\u001b[0m\u001b[0;32m   1089\u001b[0m \u001b[1;33m\u001b[0m\u001b[0m\n\u001b[0;32m   1090\u001b[0m     \u001b[1;32mdef\u001b[0m \u001b[0magg\u001b[0m\u001b[1;33m(\u001b[0m\u001b[0mself\u001b[0m\u001b[1;33m)\u001b[0m\u001b[1;33m:\u001b[0m\u001b[1;33m\u001b[0m\u001b[1;33m\u001b[0m\u001b[0m\n",
      "\u001b[1;32m~\\anaconda3\\lib\\site-packages\\pandas\\core\\apply.py\u001b[0m in \u001b[0;36mapply_standard\u001b[1;34m(self)\u001b[0m\n\u001b[0;32m   1141\u001b[0m                 \u001b[1;31m# List[Union[Callable[..., Any], str]]]]]\"; expected\u001b[0m\u001b[1;33m\u001b[0m\u001b[1;33m\u001b[0m\u001b[0m\n\u001b[0;32m   1142\u001b[0m                 \u001b[1;31m# \"Callable[[Any], Any]\"\u001b[0m\u001b[1;33m\u001b[0m\u001b[1;33m\u001b[0m\u001b[0m\n\u001b[1;32m-> 1143\u001b[1;33m                 mapped = lib.map_infer(\n\u001b[0m\u001b[0;32m   1144\u001b[0m                     \u001b[0mvalues\u001b[0m\u001b[1;33m,\u001b[0m\u001b[1;33m\u001b[0m\u001b[1;33m\u001b[0m\u001b[0m\n\u001b[0;32m   1145\u001b[0m                     \u001b[0mf\u001b[0m\u001b[1;33m,\u001b[0m  \u001b[1;31m# type: ignore[arg-type]\u001b[0m\u001b[1;33m\u001b[0m\u001b[1;33m\u001b[0m\u001b[0m\n",
      "\u001b[1;32m~\\anaconda3\\lib\\site-packages\\pandas\\_libs\\lib.pyx\u001b[0m in \u001b[0;36mpandas._libs.lib.map_infer\u001b[1;34m()\u001b[0m\n",
      "\u001b[1;32m~\\AppData\\Local\\Temp\\ipykernel_75668\\946845808.py\u001b[0m in \u001b[0;36m<lambda>\u001b[1;34m(x)\u001b[0m\n\u001b[1;32m----> 1\u001b[1;33m \u001b[0mdf_27_new\u001b[0m\u001b[1;33m[\u001b[0m\u001b[1;34m'month'\u001b[0m\u001b[1;33m]\u001b[0m \u001b[1;33m=\u001b[0m \u001b[0mdf_27_new\u001b[0m\u001b[1;33m[\u001b[0m\u001b[1;34m'occurred_date_time'\u001b[0m\u001b[1;33m]\u001b[0m\u001b[1;33m.\u001b[0m\u001b[0mapply\u001b[0m\u001b[1;33m(\u001b[0m\u001b[1;32mlambda\u001b[0m \u001b[0mx\u001b[0m\u001b[1;33m:\u001b[0m \u001b[0mx\u001b[0m\u001b[1;33m.\u001b[0m\u001b[0mstrftime\u001b[0m\u001b[1;33m(\u001b[0m\u001b[1;34m'%B'\u001b[0m\u001b[1;33m)\u001b[0m\u001b[1;33m)\u001b[0m\u001b[1;33m\u001b[0m\u001b[1;33m\u001b[0m\u001b[0m\n\u001b[0m",
      "\u001b[1;32m~\\anaconda3\\lib\\site-packages\\pandas\\_libs\\tslibs\\nattype.pyx\u001b[0m in \u001b[0;36mpandas._libs.tslibs.nattype._make_error_func.f\u001b[1;34m()\u001b[0m\n",
      "\u001b[1;31mValueError\u001b[0m: NaTType does not support strftime"
     ]
    }
   ],
   "source": [
    "df_27_new['month'] = df_27_new['occurred_date_time'].apply(lambda x: x.strftime('%B')) "
   ]
  },
  {
   "cell_type": "code",
   "execution_count": 24,
   "id": "588197ff",
   "metadata": {},
   "outputs": [],
   "source": [
    "df_27_new['year'] = df_27_new['occurred_date_time'].apply(lambda x: x.strftime('%Y')) "
   ]
  },
  {
   "cell_type": "code",
   "execution_count": 26,
   "id": "116f691e",
   "metadata": {},
   "outputs": [
    {
     "data": {
      "text/plain": [
       "array(['2023', '2022', '2021', '2020', '2019', '2018', '2017', '2016',\n",
       "       '2015', '2014', '2013', '2012', '2011', '2010', '2009', '2008',\n",
       "       '2007', '2006', '2005'], dtype=object)"
      ]
     },
     "execution_count": 26,
     "metadata": {},
     "output_type": "execute_result"
    }
   ],
   "source": [
    "df_27_new.year.unique()"
   ]
  },
  {
   "cell_type": "code",
   "execution_count": 25,
   "id": "d18d5a1c",
   "metadata": {},
   "outputs": [],
   "source": [
    "df_27_new['hour'] = df_27_new['occurred_date_time'].dt.hour"
   ]
  },
  {
   "cell_type": "code",
   "execution_count": 21,
   "id": "6ee9488f",
   "metadata": {},
   "outputs": [
    {
     "data": {
      "text/html": [
       "<div>\n",
       "<style scoped>\n",
       "    .dataframe tbody tr th:only-of-type {\n",
       "        vertical-align: middle;\n",
       "    }\n",
       "\n",
       "    .dataframe tbody tr th {\n",
       "        vertical-align: top;\n",
       "    }\n",
       "\n",
       "    .dataframe thead th {\n",
       "        text-align: right;\n",
       "    }\n",
       "</style>\n",
       "<table border=\"1\" class=\"dataframe\">\n",
       "  <thead>\n",
       "    <tr style=\"text-align: right;\">\n",
       "      <th></th>\n",
       "      <th>incident_report_number</th>\n",
       "      <th>crime_type</th>\n",
       "      <th>ucr_code</th>\n",
       "      <th>family_violence</th>\n",
       "      <th>location_type</th>\n",
       "      <th>address</th>\n",
       "      <th>clearance_date</th>\n",
       "      <th>clearance_status</th>\n",
       "      <th>zip_code</th>\n",
       "      <th>council_district</th>\n",
       "      <th>...</th>\n",
       "      <th>census_tract</th>\n",
       "      <th>ucr_category</th>\n",
       "      <th>category_description</th>\n",
       "      <th>x_coordinate</th>\n",
       "      <th>y_coordinate</th>\n",
       "      <th>latitude</th>\n",
       "      <th>longitude</th>\n",
       "      <th>location</th>\n",
       "      <th>occurred_date_time</th>\n",
       "      <th>reported_date_time</th>\n",
       "    </tr>\n",
       "  </thead>\n",
       "  <tbody>\n",
       "    <tr>\n",
       "      <th>0</th>\n",
       "      <td>20121171927</td>\n",
       "      <td>RECKLESS DAMAGE</td>\n",
       "      <td>1401</td>\n",
       "      <td>N</td>\n",
       "      <td>RESIDENCE / HOME</td>\n",
       "      <td>3154 HWY 71 E</td>\n",
       "      <td>None</td>\n",
       "      <td>None</td>\n",
       "      <td>None</td>\n",
       "      <td>None</td>\n",
       "      <td>...</td>\n",
       "      <td>None</td>\n",
       "      <td>None</td>\n",
       "      <td>None</td>\n",
       "      <td>None</td>\n",
       "      <td>None</td>\n",
       "      <td>None</td>\n",
       "      <td>None</td>\n",
       "      <td>None</td>\n",
       "      <td>2012-04-26 22:34:00</td>\n",
       "      <td>2012-04-26 23:04:00</td>\n",
       "    </tr>\n",
       "    <tr>\n",
       "      <th>1</th>\n",
       "      <td>20072871892</td>\n",
       "      <td>FAMILY DISTURBANCE</td>\n",
       "      <td>3400</td>\n",
       "      <td>N</td>\n",
       "      <td>RESIDENCE / HOME</td>\n",
       "      <td>9715 N FM 620 RD</td>\n",
       "      <td>None</td>\n",
       "      <td>None</td>\n",
       "      <td>None</td>\n",
       "      <td>None</td>\n",
       "      <td>...</td>\n",
       "      <td>None</td>\n",
       "      <td>None</td>\n",
       "      <td>None</td>\n",
       "      <td>None</td>\n",
       "      <td>None</td>\n",
       "      <td>None</td>\n",
       "      <td>None</td>\n",
       "      <td>None</td>\n",
       "      <td>2007-10-14 20:01:00</td>\n",
       "      <td>2007-10-14 20:01:00</td>\n",
       "    </tr>\n",
       "    <tr>\n",
       "      <th>2</th>\n",
       "      <td>2006471156</td>\n",
       "      <td>FAMILY DISTURBANCE</td>\n",
       "      <td>3400</td>\n",
       "      <td>N</td>\n",
       "      <td>RESIDENCE / HOME</td>\n",
       "      <td>7000 DECKER 1422</td>\n",
       "      <td>None</td>\n",
       "      <td>None</td>\n",
       "      <td>None</td>\n",
       "      <td>None</td>\n",
       "      <td>...</td>\n",
       "      <td>None</td>\n",
       "      <td>None</td>\n",
       "      <td>None</td>\n",
       "      <td>None</td>\n",
       "      <td>None</td>\n",
       "      <td>None</td>\n",
       "      <td>None</td>\n",
       "      <td>None</td>\n",
       "      <td>2006-02-16 14:25:00</td>\n",
       "      <td>2006-02-16 14:25:00</td>\n",
       "    </tr>\n",
       "  </tbody>\n",
       "</table>\n",
       "<p>3 rows × 23 columns</p>\n",
       "</div>"
      ],
      "text/plain": [
       "  incident_report_number          crime_type ucr_code family_violence  \\\n",
       "0            20121171927     RECKLESS DAMAGE     1401               N   \n",
       "1            20072871892  FAMILY DISTURBANCE     3400               N   \n",
       "2             2006471156  FAMILY DISTURBANCE     3400               N   \n",
       "\n",
       "      location_type           address clearance_date clearance_status  \\\n",
       "0  RESIDENCE / HOME     3154 HWY 71 E           None             None   \n",
       "1  RESIDENCE / HOME  9715 N FM 620 RD           None             None   \n",
       "2  RESIDENCE / HOME  7000 DECKER 1422           None             None   \n",
       "\n",
       "  zip_code council_district  ... census_tract ucr_category  \\\n",
       "0     None             None  ...         None         None   \n",
       "1     None             None  ...         None         None   \n",
       "2     None             None  ...         None         None   \n",
       "\n",
       "  category_description x_coordinate y_coordinate latitude longitude location  \\\n",
       "0                 None         None         None     None      None     None   \n",
       "1                 None         None         None     None      None     None   \n",
       "2                 None         None         None     None      None     None   \n",
       "\n",
       "   occurred_date_time  reported_date_time  \n",
       "0 2012-04-26 22:34:00 2012-04-26 23:04:00  \n",
       "1 2007-10-14 20:01:00 2007-10-14 20:01:00  \n",
       "2 2006-02-16 14:25:00 2006-02-16 14:25:00  \n",
       "\n",
       "[3 rows x 23 columns]"
      ]
     },
     "execution_count": 21,
     "metadata": {},
     "output_type": "execute_result"
    }
   ],
   "source": [
    "df_27_new.head(3)"
   ]
  },
  {
   "cell_type": "code",
   "execution_count": 22,
   "id": "b88f0a60",
   "metadata": {},
   "outputs": [
    {
     "data": {
      "text/plain": [
       "(2000000, 23)"
      ]
     },
     "execution_count": 22,
     "metadata": {},
     "output_type": "execute_result"
    }
   ],
   "source": [
    "df_27_new.shape"
   ]
  },
  {
   "cell_type": "markdown",
   "id": "9f00544c",
   "metadata": {},
   "source": [
    "### Number of missing values by column<a id='missing_columns'>"
   ]
  },
  {
   "cell_type": "code",
   "execution_count": 23,
   "id": "fd5eb6c7",
   "metadata": {},
   "outputs": [
    {
     "data": {
      "text/plain": [
       "<AxesSubplot:>"
      ]
     },
     "execution_count": 23,
     "metadata": {},
     "output_type": "execute_result"
    },
    {
     "data": {
      "image/png": "[encoded data removed]",
      "text/plain": [
       "<Figure size 2400x1000 with 3 Axes>"
      ]
     },
     "metadata": {},
     "output_type": "display_data"
    }
   ],
   "source": [
    "msno.bar(df_27_new)"
   ]
  },
  {
   "cell_type": "code",
   "execution_count": 26,
   "id": "b3e07062",
   "metadata": {},
   "outputs": [
    {
     "data": {
      "text/html": [
       "<div>\n",
       "<style scoped>\n",
       "    .dataframe tbody tr th:only-of-type {\n",
       "        vertical-align: middle;\n",
       "    }\n",
       "\n",
       "    .dataframe tbody tr th {\n",
       "        vertical-align: top;\n",
       "    }\n",
       "\n",
       "    .dataframe thead th {\n",
       "        text-align: right;\n",
       "    }\n",
       "</style>\n",
       "<table border=\"1\" class=\"dataframe\">\n",
       "  <thead>\n",
       "    <tr style=\"text-align: right;\">\n",
       "      <th></th>\n",
       "      <th>count</th>\n",
       "      <th>%</th>\n",
       "    </tr>\n",
       "  </thead>\n",
       "  <tbody>\n",
       "    <tr>\n",
       "      <th>clearance_status</th>\n",
       "      <td>510685</td>\n",
       "      <td>25.53425</td>\n",
       "    </tr>\n",
       "    <tr>\n",
       "      <th>clearance_date</th>\n",
       "      <td>284004</td>\n",
       "      <td>14.20020</td>\n",
       "    </tr>\n",
       "    <tr>\n",
       "      <th>latitude</th>\n",
       "      <td>38554</td>\n",
       "      <td>1.92770</td>\n",
       "    </tr>\n",
       "    <tr>\n",
       "      <th>location</th>\n",
       "      <td>38554</td>\n",
       "      <td>1.92770</td>\n",
       "    </tr>\n",
       "    <tr>\n",
       "      <th>longitude</th>\n",
       "      <td>38554</td>\n",
       "      <td>1.92770</td>\n",
       "    </tr>\n",
       "    <tr>\n",
       "      <th>council_district</th>\n",
       "      <td>37878</td>\n",
       "      <td>1.89390</td>\n",
       "    </tr>\n",
       "    <tr>\n",
       "      <th>census_tract</th>\n",
       "      <td>17491</td>\n",
       "      <td>0.87455</td>\n",
       "    </tr>\n",
       "    <tr>\n",
       "      <th>location_type</th>\n",
       "      <td>16270</td>\n",
       "      <td>0.81350</td>\n",
       "    </tr>\n",
       "    <tr>\n",
       "      <th>zip_code</th>\n",
       "      <td>10693</td>\n",
       "      <td>0.53465</td>\n",
       "    </tr>\n",
       "    <tr>\n",
       "      <th>pra</th>\n",
       "      <td>7776</td>\n",
       "      <td>0.38880</td>\n",
       "    </tr>\n",
       "    <tr>\n",
       "      <th>x_coordinate</th>\n",
       "      <td>7270</td>\n",
       "      <td>0.36350</td>\n",
       "    </tr>\n",
       "    <tr>\n",
       "      <th>y_coordinate</th>\n",
       "      <td>7263</td>\n",
       "      <td>0.36315</td>\n",
       "    </tr>\n",
       "    <tr>\n",
       "      <th>district</th>\n",
       "      <td>6385</td>\n",
       "      <td>0.31925</td>\n",
       "    </tr>\n",
       "    <tr>\n",
       "      <th>sector</th>\n",
       "      <td>5789</td>\n",
       "      <td>0.28945</td>\n",
       "    </tr>\n",
       "    <tr>\n",
       "      <th>occurred_date_time</th>\n",
       "      <td>114</td>\n",
       "      <td>0.00570</td>\n",
       "    </tr>\n",
       "    <tr>\n",
       "      <th>address</th>\n",
       "      <td>13</td>\n",
       "      <td>0.00065</td>\n",
       "    </tr>\n",
       "    <tr>\n",
       "      <th>reported_date_time</th>\n",
       "      <td>1</td>\n",
       "      <td>0.00005</td>\n",
       "    </tr>\n",
       "    <tr>\n",
       "      <th>crime_type</th>\n",
       "      <td>0</td>\n",
       "      <td>0.00000</td>\n",
       "    </tr>\n",
       "    <tr>\n",
       "      <th>family_violence</th>\n",
       "      <td>0</td>\n",
       "      <td>0.00000</td>\n",
       "    </tr>\n",
       "    <tr>\n",
       "      <th>ucr_code</th>\n",
       "      <td>0</td>\n",
       "      <td>0.00000</td>\n",
       "    </tr>\n",
       "    <tr>\n",
       "      <th>incident_report_number</th>\n",
       "      <td>0</td>\n",
       "      <td>0.00000</td>\n",
       "    </tr>\n",
       "  </tbody>\n",
       "</table>\n",
       "</div>"
      ],
      "text/plain": [
       "                         count         %\n",
       "clearance_status        510685  25.53425\n",
       "clearance_date          284004  14.20020\n",
       "latitude                 38554   1.92770\n",
       "location                 38554   1.92770\n",
       "longitude                38554   1.92770\n",
       "council_district         37878   1.89390\n",
       "census_tract             17491   0.87455\n",
       "location_type            16270   0.81350\n",
       "zip_code                 10693   0.53465\n",
       "pra                       7776   0.38880\n",
       "x_coordinate              7270   0.36350\n",
       "y_coordinate              7263   0.36315\n",
       "district                  6385   0.31925\n",
       "sector                    5789   0.28945\n",
       "occurred_date_time         114   0.00570\n",
       "address                     13   0.00065\n",
       "reported_date_time           1   0.00005\n",
       "crime_type                   0   0.00000\n",
       "family_violence              0   0.00000\n",
       "ucr_code                     0   0.00000\n",
       "incident_report_number       0   0.00000"
      ]
     },
     "execution_count": 26,
     "metadata": {},
     "output_type": "execute_result"
    }
   ],
   "source": [
    "missing = pd.concat([df_27_new.isnull().sum(), 100 * df_27_new.isnull().mean()], axis=1)\n",
    "missing.columns=['count', '%']\n",
    "missing.sort_values('count', ascending=False)"
   ]
  },
  {
   "cell_type": "code",
   "execution_count": 25,
   "id": "507fc7bf",
   "metadata": {},
   "outputs": [],
   "source": [
    "# since ucr_category and categry_description are missing almost 60% of values, I will drop those columns\n",
    "\n",
    "drop_columns = ['ucr_category', 'category_description']\n",
    "df_27_new.drop(drop_columns, axis=1, inplace=True)"
   ]
  },
  {
   "cell_type": "code",
   "execution_count": 27,
   "id": "87b59b96",
   "metadata": {},
   "outputs": [
    {
     "data": {
      "text/plain": [
       "Index(['incident_report_number', 'crime_type', 'ucr_code', 'family_violence',\n",
       "       'location_type', 'address', 'clearance_date', 'clearance_status',\n",
       "       'zip_code', 'council_district', 'sector', 'district', 'pra',\n",
       "       'census_tract', 'x_coordinate', 'y_coordinate', 'latitude', 'longitude',\n",
       "       'location', 'occurred_date_time', 'reported_date_time'],\n",
       "      dtype='object')"
      ]
     },
     "execution_count": 27,
     "metadata": {},
     "output_type": "execute_result"
    }
   ],
   "source": [
    "df_27_new.columns"
   ]
  },
  {
   "cell_type": "code",
   "execution_count": 28,
   "id": "d3377175",
   "metadata": {},
   "outputs": [
    {
     "name": "stdout",
     "output_type": "stream",
     "text": [
      "<class 'pandas.core.frame.DataFrame'>\n",
      "Int64Index: 2000000 entries, 0 to 1999999\n",
      "Data columns (total 21 columns):\n",
      " #   Column                  Dtype         \n",
      "---  ------                  -----         \n",
      " 0   incident_report_number  object        \n",
      " 1   crime_type              object        \n",
      " 2   ucr_code                object        \n",
      " 3   family_violence         object        \n",
      " 4   location_type           object        \n",
      " 5   address                 object        \n",
      " 6   clearance_date          object        \n",
      " 7   clearance_status        object        \n",
      " 8   zip_code                object        \n",
      " 9   council_district        object        \n",
      " 10  sector                  object        \n",
      " 11  district                object        \n",
      " 12  pra                     object        \n",
      " 13  census_tract            object        \n",
      " 14  x_coordinate            object        \n",
      " 15  y_coordinate            object        \n",
      " 16  latitude                object        \n",
      " 17  longitude               object        \n",
      " 18  location                object        \n",
      " 19  occurred_date_time      datetime64[ns]\n",
      " 20  reported_date_time      datetime64[ns]\n",
      "dtypes: datetime64[ns](2), object(19)\n",
      "memory usage: 335.7+ MB\n"
     ]
    }
   ],
   "source": [
    "df_27_new.info()"
   ]
  },
  {
   "cell_type": "markdown",
   "id": "ce83740f",
   "metadata": {},
   "source": [
    "### Check for Duplicates<a id='check_duplicates'>"
   ]
  },
  {
   "cell_type": "code",
   "execution_count": null,
   "id": "d9c18709",
   "metadata": {},
   "outputs": [],
   "source": [
    "def value_count(data):\n",
    "    \n",
    "    for col in data.columns:\n",
    "        print(f\"{col} value counts: {data[col].value_counts().head()}\")\n",
    "        print(\"########################################################\")"
   ]
  },
  {
   "cell_type": "code",
   "execution_count": 37,
   "id": "e870d424",
   "metadata": {},
   "outputs": [
    {
     "data": {
      "text/plain": [
       "2023491535     1\n",
       "20102830373    1\n",
       "20102830358    1\n",
       "20102830360    1\n",
       "20102830369    1\n",
       "Name: incident_report_number, dtype: int64"
      ]
     },
     "execution_count": 37,
     "metadata": {},
     "output_type": "execute_result"
    }
   ],
   "source": [
    "df_27_new['incident_report_number'].value_counts().head()"
   ]
  },
  {
   "cell_type": "code",
   "execution_count": 40,
   "id": "c0d63e1d",
   "metadata": {},
   "outputs": [
    {
     "data": {
      "text/plain": [
       "BURGLARY OF VEHICLE               199432\n",
       "THEFT                             190802\n",
       "FAMILY DISTURBANCE                174466\n",
       "CRIMINAL MISCHIEF                 112413\n",
       "ASSAULT W/INJURY-FAM/DATE VIOL     70550\n",
       "Name: crime_type, dtype: int64"
      ]
     },
     "execution_count": 40,
     "metadata": {},
     "output_type": "execute_result"
    }
   ],
   "source": [
    "df_27_new['crime_type'].value_counts().head()"
   ]
  },
  {
   "cell_type": "code",
   "execution_count": 39,
   "id": "2e43d5b9",
   "metadata": {},
   "outputs": [
    {
     "data": {
      "text/plain": [
       "421"
      ]
     },
     "execution_count": 39,
     "metadata": {},
     "output_type": "execute_result"
    }
   ],
   "source": [
    "len(df_27_new['crime_type'].value_counts())"
   ]
  },
  {
   "cell_type": "code",
   "execution_count": 41,
   "id": "14651629",
   "metadata": {},
   "outputs": [
    {
     "data": {
      "text/plain": [
       "382"
      ]
     },
     "execution_count": 41,
     "metadata": {},
     "output_type": "execute_result"
    }
   ],
   "source": [
    "len(df_27_new['ucr_code'].value_counts())"
   ]
  },
  {
   "cell_type": "code",
   "execution_count": 42,
   "id": "dab05455",
   "metadata": {},
   "outputs": [
    {
     "data": {
      "text/plain": [
       "601     207022\n",
       "600     191337\n",
       "3400    174466\n",
       "900     115911\n",
       "1400    113474\n",
       "Name: ucr_code, dtype: int64"
      ]
     },
     "execution_count": 42,
     "metadata": {},
     "output_type": "execute_result"
    }
   ],
   "source": [
    "df_27_new['ucr_code'].value_counts().head()"
   ]
  },
  {
   "cell_type": "code",
   "execution_count": 60,
   "id": "34b6509a",
   "metadata": {},
   "outputs": [
    {
     "data": {
      "text/html": [
       "<div>\n",
       "<style scoped>\n",
       "    .dataframe tbody tr th:only-of-type {\n",
       "        vertical-align: middle;\n",
       "    }\n",
       "\n",
       "    .dataframe tbody tr th {\n",
       "        vertical-align: top;\n",
       "    }\n",
       "\n",
       "    .dataframe thead th {\n",
       "        text-align: right;\n",
       "    }\n",
       "</style>\n",
       "<table border=\"1\" class=\"dataframe\">\n",
       "  <thead>\n",
       "    <tr style=\"text-align: right;\">\n",
       "      <th></th>\n",
       "      <th></th>\n",
       "      <th></th>\n",
       "      <th>count</th>\n",
       "    </tr>\n",
       "    <tr>\n",
       "      <th>longitude</th>\n",
       "      <th>latitude</th>\n",
       "      <th>crime_type</th>\n",
       "      <th></th>\n",
       "    </tr>\n",
       "  </thead>\n",
       "  <tbody>\n",
       "    <tr>\n",
       "      <th rowspan=\"5\" valign=\"top\">-0.00013208</th>\n",
       "      <th rowspan=\"5\" valign=\"top\">0.00011857</th>\n",
       "      <th>PROTECTIVE ORDER</th>\n",
       "      <td>3</td>\n",
       "    </tr>\n",
       "    <tr>\n",
       "      <th>DAMAGE CITY VEHICLE</th>\n",
       "      <td>1</td>\n",
       "    </tr>\n",
       "    <tr>\n",
       "      <th>FAMILY DISTURBANCE</th>\n",
       "      <td>1</td>\n",
       "    </tr>\n",
       "    <tr>\n",
       "      <th>HARASSMENT</th>\n",
       "      <td>1</td>\n",
       "    </tr>\n",
       "    <tr>\n",
       "      <th>THEFT CATALYTIC CONVERTER</th>\n",
       "      <td>1</td>\n",
       "    </tr>\n",
       "    <tr>\n",
       "      <th>...</th>\n",
       "      <th>...</th>\n",
       "      <th>...</th>\n",
       "      <td>...</td>\n",
       "    </tr>\n",
       "    <tr>\n",
       "      <th>-98.18497145</th>\n",
       "      <th>30.47476063</th>\n",
       "      <th>ASSAULT W/INJURY-FAM/DATE VIOL</th>\n",
       "      <td>1</td>\n",
       "    </tr>\n",
       "    <tr>\n",
       "      <th rowspan=\"3\" valign=\"top\">-98.19028928</th>\n",
       "      <th rowspan=\"3\" valign=\"top\">30.47748961</th>\n",
       "      <th>THEFT</th>\n",
       "      <td>3</td>\n",
       "    </tr>\n",
       "    <tr>\n",
       "      <th>BURGLARY OF VEHICLE</th>\n",
       "      <td>1</td>\n",
       "    </tr>\n",
       "    <tr>\n",
       "      <th>FAMILY DISTURBANCE</th>\n",
       "      <td>1</td>\n",
       "    </tr>\n",
       "    <tr>\n",
       "      <th>-98.25452686</th>\n",
       "      <th>29.57279556</th>\n",
       "      <th>TERRORISTIC THREAT</th>\n",
       "      <td>1</td>\n",
       "    </tr>\n",
       "  </tbody>\n",
       "</table>\n",
       "<p>812311 rows × 1 columns</p>\n",
       "</div>"
      ],
      "text/plain": [
       "                                                         count\n",
       "longitude    latitude    crime_type                           \n",
       "-0.00013208  0.00011857  PROTECTIVE ORDER                    3\n",
       "                         DAMAGE CITY VEHICLE                 1\n",
       "                         FAMILY DISTURBANCE                  1\n",
       "                         HARASSMENT                          1\n",
       "                         THEFT CATALYTIC CONVERTER           1\n",
       "...                                                        ...\n",
       "-98.18497145 30.47476063 ASSAULT W/INJURY-FAM/DATE VIOL      1\n",
       "-98.19028928 30.47748961 THEFT                               3\n",
       "                         BURGLARY OF VEHICLE                 1\n",
       "                         FAMILY DISTURBANCE                  1\n",
       "-98.25452686 29.57279556 TERRORISTIC THREAT                  1\n",
       "\n",
       "[812311 rows x 1 columns]"
      ]
     },
     "execution_count": 60,
     "metadata": {},
     "output_type": "execute_result"
    }
   ],
   "source": [
    "df_27_new.groupby(['longitude', 'latitude'])['crime_type'].value_counts().to_frame('count')"
   ]
  },
  {
   "cell_type": "code",
   "execution_count": 61,
   "id": "aec60e21",
   "metadata": {},
   "outputs": [
    {
     "data": {
      "text/html": [
       "<div>\n",
       "<style scoped>\n",
       "    .dataframe tbody tr th:only-of-type {\n",
       "        vertical-align: middle;\n",
       "    }\n",
       "\n",
       "    .dataframe tbody tr th {\n",
       "        vertical-align: top;\n",
       "    }\n",
       "\n",
       "    .dataframe thead th {\n",
       "        text-align: right;\n",
       "    }\n",
       "</style>\n",
       "<table border=\"1\" class=\"dataframe\">\n",
       "  <thead>\n",
       "    <tr style=\"text-align: right;\">\n",
       "      <th></th>\n",
       "      <th></th>\n",
       "      <th></th>\n",
       "      <th></th>\n",
       "      <th>count</th>\n",
       "    </tr>\n",
       "    <tr>\n",
       "      <th>longitude</th>\n",
       "      <th>latitude</th>\n",
       "      <th>hour</th>\n",
       "      <th>crime_type</th>\n",
       "      <th></th>\n",
       "    </tr>\n",
       "  </thead>\n",
       "  <tbody>\n",
       "    <tr>\n",
       "      <th rowspan=\"5\" valign=\"top\">-0.00013208</th>\n",
       "      <th rowspan=\"5\" valign=\"top\">0.00011857</th>\n",
       "      <th>8</th>\n",
       "      <th>PROTECTIVE ORDER</th>\n",
       "      <td>1</td>\n",
       "    </tr>\n",
       "    <tr>\n",
       "      <th>9</th>\n",
       "      <th>FAMILY DISTURBANCE</th>\n",
       "      <td>1</td>\n",
       "    </tr>\n",
       "    <tr>\n",
       "      <th>12</th>\n",
       "      <th>HARASSMENT</th>\n",
       "      <td>1</td>\n",
       "    </tr>\n",
       "    <tr>\n",
       "      <th>14</th>\n",
       "      <th>THEFT CATALYTIC CONVERTER</th>\n",
       "      <td>1</td>\n",
       "    </tr>\n",
       "    <tr>\n",
       "      <th>15</th>\n",
       "      <th>DAMAGE CITY VEHICLE</th>\n",
       "      <td>1</td>\n",
       "    </tr>\n",
       "    <tr>\n",
       "      <th>...</th>\n",
       "      <th>...</th>\n",
       "      <th>...</th>\n",
       "      <th>...</th>\n",
       "      <td>...</td>\n",
       "    </tr>\n",
       "    <tr>\n",
       "      <th rowspan=\"4\" valign=\"top\">-98.19028928</th>\n",
       "      <th rowspan=\"4\" valign=\"top\">30.47748961</th>\n",
       "      <th>16</th>\n",
       "      <th>THEFT</th>\n",
       "      <td>1</td>\n",
       "    </tr>\n",
       "    <tr>\n",
       "      <th rowspan=\"2\" valign=\"top\">18</th>\n",
       "      <th>FAMILY DISTURBANCE</th>\n",
       "      <td>1</td>\n",
       "    </tr>\n",
       "    <tr>\n",
       "      <th>THEFT</th>\n",
       "      <td>1</td>\n",
       "    </tr>\n",
       "    <tr>\n",
       "      <th>19</th>\n",
       "      <th>THEFT</th>\n",
       "      <td>1</td>\n",
       "    </tr>\n",
       "    <tr>\n",
       "      <th>-98.25452686</th>\n",
       "      <th>29.57279556</th>\n",
       "      <th>10</th>\n",
       "      <th>TERRORISTIC THREAT</th>\n",
       "      <td>1</td>\n",
       "    </tr>\n",
       "  </tbody>\n",
       "</table>\n",
       "<p>1449299 rows × 1 columns</p>\n",
       "</div>"
      ],
      "text/plain": [
       "                                                         count\n",
       "longitude    latitude    hour crime_type                      \n",
       "-0.00013208  0.00011857  8    PROTECTIVE ORDER               1\n",
       "                         9    FAMILY DISTURBANCE             1\n",
       "                         12   HARASSMENT                     1\n",
       "                         14   THEFT CATALYTIC CONVERTER      1\n",
       "                         15   DAMAGE CITY VEHICLE            1\n",
       "...                                                        ...\n",
       "-98.19028928 30.47748961 16   THEFT                          1\n",
       "                         18   FAMILY DISTURBANCE             1\n",
       "                              THEFT                          1\n",
       "                         19   THEFT                          1\n",
       "-98.25452686 29.57279556 10   TERRORISTIC THREAT             1\n",
       "\n",
       "[1449299 rows x 1 columns]"
      ]
     },
     "execution_count": 61,
     "metadata": {},
     "output_type": "execute_result"
    }
   ],
   "source": [
    "df_27_new.groupby(['longitude', 'latitude','hour'])['crime_type'].value_counts().to_frame('count')"
   ]
  },
  {
   "cell_type": "markdown",
   "id": "dde09dd8",
   "metadata": {},
   "source": [
    "###  Based on the above observations, I dont see any duplicate records. "
   ]
  },
  {
   "cell_type": "markdown",
   "id": "955ce18f",
   "metadata": {},
   "source": [
    "### starting EDA"
   ]
  },
  {
   "cell_type": "code",
   "execution_count": 62,
   "id": "c481f6f0",
   "metadata": {},
   "outputs": [
    {
     "data": {
      "image/png": "[encoded data removed]",
      "text/plain": [
       "<Figure size 640x480 with 1 Axes>"
      ]
     },
     "metadata": {},
     "output_type": "display_data"
    }
   ],
   "source": [
    "crimes_per_year = df_27_new['year'].value_counts().sort_index()\n",
    "\n",
    "import matplotlib.pyplot as plt\n",
    "import seaborn as sns\n",
    "sns.set(style=\"whitegrid\")\n",
    "sns.set_color_codes(\"pastel\")\n",
    "\n",
    "g = sns.barplot(x=crimes_per_year.index, y=crimes_per_year.values,color='b')\n",
    "g.set_xticklabels(g.get_xticklabels(),rotation=90)\n",
    "g.set(xlabel='Year', ylabel='# crimes occurred')\n",
    "plt.title('Number of occurred crimes per year')\n",
    "plt.show()"
   ]
  },
  {
   "cell_type": "markdown",
   "id": "1023ec44",
   "metadata": {},
   "source": [
    "Good to see the decline in the crime since 2008!"
   ]
  },
  {
   "cell_type": "markdown",
   "id": "dbafd369",
   "metadata": {},
   "source": [
    "### Hourly crimes"
   ]
  },
  {
   "cell_type": "code",
   "execution_count": 63,
   "id": "d8323aad",
   "metadata": {},
   "outputs": [
    {
     "data": {
      "image/png": "[encoded data removed]",
      "text/plain": [
       "<Figure size 640x480 with 1 Axes>"
      ]
     },
     "metadata": {},
     "output_type": "display_data"
    }
   ],
   "source": [
    "crimes_per_hour = df_27_new['hour'].value_counts().sort_index()\n",
    "g = sns.barplot(x=crimes_per_hour.index, y=crimes_per_hour.values, color='b')\n",
    "g.set(xlabel='Hour', ylabel='# crimes occurred')\n",
    "plt.title('Crime occurance per hour of day')\n",
    "plt.show()"
   ]
  },
  {
   "cell_type": "markdown",
   "id": "48fb65dc",
   "metadata": {},
   "source": [
    "Crimes happen maximum during noon time. "
   ]
  },
  {
   "cell_type": "markdown",
   "id": "171a251e",
   "metadata": {},
   "source": [
    "### save the wrangled file<a id='save_file'>"
   ]
  },
  {
   "cell_type": "code",
   "execution_count": 29,
   "id": "94f5686d",
   "metadata": {},
   "outputs": [],
   "source": [
    "#saving this file\n",
    "table1 = pa.Table.from_pandas(df_27_new, preserve_index=True)\n",
    "pq.write_table(table1, 'crime_reports_wrangled.parquet')"
   ]
  },
  {
   "cell_type": "markdown",
   "id": "33d0b0f8",
   "metadata": {},
   "source": [
    "###  Summary of Data Wrangling<a id='summary'>\n",
    "\n",
    "(a)  Ingested 2 million records into a Jupyter Notebook. \n",
    "\n",
    "(b) Following are the dimensions associated with the project:\n",
    "'incident_report_number', 'crime_type', 'ucr_code', 'family_violence',\n",
    "       'location_type', 'address', 'zip_code', 'council_district', 'sector',\n",
    "       'district', 'pra', 'census_tract', 'x_coordinate', 'y_coordinate',\n",
    "       'latitude', 'longitude', 'location', 'clearance_status',\n",
    "       'clearance_date', 'ucr_category', 'category_description',\n",
    "       'occurred_date_time', 'reported_date_time', 'hour','year','month'\n",
    "\n",
    "(c) Determine the number of time series across each dimension, and\n",
    "across all dimensions. ???\n",
    "\n",
    "(d) Identify the target and its type (categorical/non-categorical). Possible targets could be crime_type, clearance_status\n",
    "\n",
    "(e) Identify whether there are features in addition to time and the target.\n",
    "These are sometimes called \"Exogenous Variables\".\n",
    "Also determine the type of each feature, and whether they are\n",
    "categorical or non-categorical.\n",
    "\n",
    "If additional Exogenous Variables are not present, determine\n",
    "if it makes senses to augment the dataset with them. ???\n",
    "\n",
    "(f) Identify the resolution of TS (meaning: hourly, daily, weekly,\n",
    "monthly, etc.) -  \n",
    "\n",
    "(g) According to the business problem determine the type of\n",
    "resolution to be used in the project, and what is called the\n",
    "\"forecasting horizon\", which is the number of time units for\n",
    "which the forecast will be computed. In our case, \n",
    "resolution will be hourly, the forecasting horizon will be for 24 hours.\n",
    "In general, this depends on the needs of the client.\n",
    "\n",
    "(h) As needed, perform appropriate aggregations according to (g).\n",
    "\n",
    "(i) Decide whether you want to store the \"wrangled\" dataset using\n",
    "a different format. I used parquet format to save the data frame as the data types wil not get messed up\n",
    "\n"
   ]
  },
  {
   "cell_type": "code",
   "execution_count": null,
   "id": "629020b7",
   "metadata": {},
   "outputs": [],
   "source": []
  }
 ],
 "metadata": {
  "kernelspec": {
   "display_name": "Python 3 (ipykernel)",
   "language": "python",
   "name": "python3"
  },
  "language_info": {
   "codemirror_mode": {
    "name": "ipython",
    "version": 3
   },
   "file_extension": ".py",
   "mimetype": "text/x-python",
   "name": "python",
   "nbconvert_exporter": "python",
   "pygments_lexer": "ipython3",
   "version": "3.9.13"
  }
 },
 "nbformat": 4,
 "nbformat_minor": 5
}
