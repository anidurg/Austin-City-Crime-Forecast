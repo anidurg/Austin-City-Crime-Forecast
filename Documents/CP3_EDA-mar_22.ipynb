{
 "cells": [
  {
   "cell_type": "markdown",
   "id": "86f2ea94",
   "metadata": {},
   "source": [
    "### EDA on Crime Reports for City of Austin<a id='eda'>"
   ]
  },
  {
   "cell_type": "markdown",
   "id": "b2cc8bbf",
   "metadata": {},
   "source": [
    "## Contents<a id='Contents'></a>\n",
    "* [EDA](#eda)\n",
    "  * [Contents](#Contents)\n",
    "    * [Imports](#imports)\n",
    "    * [Load The Crime reports Data](#load_data)\n",
    "        * [How is the dataset? Does it have Time Series components?](#hows_the_dataset)\n",
    "    * [Choosing years 2013 to 2022 for EDA](#choose_years)\n",
    "    * [Visualizing Number of Crime(NOC) Distributions](#viz_nocs)\n",
    "      * [EDA on Council Districts](#council_districts)\n",
    "          * [Aggregations on council_district using .agg()](#council_district_agg)\n",
    "          * [Council District #9 on map](#council_9_map)\n",
    "      * [EDA on APD sectors](#apd_sectors)\n",
    "          * [APD sectors in Austin](#apd_sectors_map)\n",
    "          * [Aggregations on APD Sectors](#apd_sector_agg)\n",
    "      * [EDA on Census_tract](#census_tract)\n",
    "      * [EDA on zip_code](#zip_codes)\n",
    "      * [Crime Count Visualization(yearly,monthly,daily, hourly)](#daily_crime)\n",
    "      * [EDA on Clearance Status](#clearance_status)\n",
    "      * [Group Aggregation for top ten crimes](#top_10_gp_agg)\n",
    "    * [Time series Dataset Prep using pivot_table method](#pivot_table)\n",
    "        * [Missing Values](#missing_values)\n",
    "        * [Filling the missing values](#fillna_method)\n",
    "        * [Pairwise relationships between these ten crimes](#pairplots)\n",
    "        * [lag plots](#lag_plots)\n",
    "    * [Summary of EDA](#summary)\n",
    "     "
   ]
  },
  {
   "cell_type": "markdown",
   "id": "c8e81b73",
   "metadata": {},
   "source": [
    "#### Library Imports<a id='imports'>"
   ]
  },
  {
   "cell_type": "code",
   "execution_count": 1,
   "id": "abd1a16f",
   "metadata": {},
   "outputs": [
    {
     "data": {
      "text/html": [
       "        <script type=\"text/javascript\">\n",
       "        window.PlotlyConfig = {MathJaxConfig: 'local'};\n",
       "        if (window.MathJax && window.MathJax.Hub && window.MathJax.Hub.Config) {window.MathJax.Hub.Config({SVG: {font: \"STIX-Web\"}});}\n",
       "        if (typeof require !== 'undefined') {\n",
       "        require.undef(\"plotly\");\n",
       "        requirejs.config({\n",
       "            paths: {\n",
       "                'plotly': ['https://cdn.plot.ly/plotly-2.12.1.min']\n",
       "            }\n",
       "        });\n",
       "        require(['plotly'], function(Plotly) {\n",
       "            window._Plotly = Plotly;\n",
       "        });\n",
       "        }\n",
       "        </script>\n",
       "        "
      ]
     },
     "metadata": {},
     "output_type": "display_data"
    }
   ],
   "source": [
    "import pandas as pd\n",
    "import numpy as np\n",
    "import seaborn as sns\n",
    "import matplotlib.pyplot as plt\n",
    "%matplotlib inline\n",
    "#import requests\n",
    "import time\n",
    "import missingno as msno\n",
    "import pyarrow as pa\n",
    "import pyarrow.parquet as pq\n",
    "from pylab import rcParams\n",
    "import plotly.express as px\n",
    "import plotly.graph_objects as go\n",
    "from plotly.subplots import make_subplots\n",
    "\n",
    "from plotly.offline import plot, iplot, init_notebook_mode\n",
    "import plotly.graph_objs as go\n",
    "init_notebook_mode(connected=True)\n",
    "\n",
    "import warnings\n",
    "warnings.filterwarnings('ignore')"
   ]
  },
  {
   "cell_type": "markdown",
   "id": "76d207a3",
   "metadata": {},
   "source": [
    "#### Load Data<a id='load_data'>"
   ]
  },
  {
   "cell_type": "code",
   "execution_count": 2,
   "id": "6fa2bb1f",
   "metadata": {},
   "outputs": [],
   "source": [
    "df_eda = pd.read_parquet('crime_reports_wrangled.parquet')"
   ]
  },
  {
   "cell_type": "code",
   "execution_count": 3,
   "id": "e533a695",
   "metadata": {},
   "outputs": [
    {
     "data": {
      "text/html": [
       "<div>\n",
       "<style scoped>\n",
       "    .dataframe tbody tr th:only-of-type {\n",
       "        vertical-align: middle;\n",
       "    }\n",
       "\n",
       "    .dataframe tbody tr th {\n",
       "        vertical-align: top;\n",
       "    }\n",
       "\n",
       "    .dataframe thead th {\n",
       "        text-align: right;\n",
       "    }\n",
       "</style>\n",
       "<table border=\"1\" class=\"dataframe\">\n",
       "  <thead>\n",
       "    <tr style=\"text-align: right;\">\n",
       "      <th></th>\n",
       "      <th>incident_report_number</th>\n",
       "      <th>crime_type</th>\n",
       "      <th>ucr_code</th>\n",
       "      <th>family_violence</th>\n",
       "      <th>location_type</th>\n",
       "      <th>address</th>\n",
       "      <th>clearance_date</th>\n",
       "      <th>clearance_status</th>\n",
       "      <th>zip_code</th>\n",
       "      <th>council_district</th>\n",
       "      <th>...</th>\n",
       "      <th>district</th>\n",
       "      <th>pra</th>\n",
       "      <th>census_tract</th>\n",
       "      <th>x_coordinate</th>\n",
       "      <th>y_coordinate</th>\n",
       "      <th>latitude</th>\n",
       "      <th>longitude</th>\n",
       "      <th>location</th>\n",
       "      <th>occurred_date_time</th>\n",
       "      <th>reported_date_time</th>\n",
       "    </tr>\n",
       "  </thead>\n",
       "  <tbody>\n",
       "    <tr>\n",
       "      <th>0</th>\n",
       "      <td>20121171927</td>\n",
       "      <td>RECKLESS DAMAGE</td>\n",
       "      <td>1401</td>\n",
       "      <td>N</td>\n",
       "      <td>RESIDENCE / HOME</td>\n",
       "      <td>3154 HWY 71 E</td>\n",
       "      <td>None</td>\n",
       "      <td>None</td>\n",
       "      <td>None</td>\n",
       "      <td>None</td>\n",
       "      <td>...</td>\n",
       "      <td>None</td>\n",
       "      <td>None</td>\n",
       "      <td>None</td>\n",
       "      <td>None</td>\n",
       "      <td>None</td>\n",
       "      <td>None</td>\n",
       "      <td>None</td>\n",
       "      <td>None</td>\n",
       "      <td>2012-04-26 22:34:00</td>\n",
       "      <td>2012-04-26 23:04:00</td>\n",
       "    </tr>\n",
       "    <tr>\n",
       "      <th>1</th>\n",
       "      <td>20072871892</td>\n",
       "      <td>FAMILY DISTURBANCE</td>\n",
       "      <td>3400</td>\n",
       "      <td>N</td>\n",
       "      <td>RESIDENCE / HOME</td>\n",
       "      <td>9715 N FM 620 RD</td>\n",
       "      <td>None</td>\n",
       "      <td>None</td>\n",
       "      <td>None</td>\n",
       "      <td>None</td>\n",
       "      <td>...</td>\n",
       "      <td>None</td>\n",
       "      <td>None</td>\n",
       "      <td>None</td>\n",
       "      <td>None</td>\n",
       "      <td>None</td>\n",
       "      <td>None</td>\n",
       "      <td>None</td>\n",
       "      <td>None</td>\n",
       "      <td>2007-10-14 20:01:00</td>\n",
       "      <td>2007-10-14 20:01:00</td>\n",
       "    </tr>\n",
       "    <tr>\n",
       "      <th>2</th>\n",
       "      <td>2006471156</td>\n",
       "      <td>FAMILY DISTURBANCE</td>\n",
       "      <td>3400</td>\n",
       "      <td>N</td>\n",
       "      <td>RESIDENCE / HOME</td>\n",
       "      <td>7000 DECKER 1422</td>\n",
       "      <td>None</td>\n",
       "      <td>None</td>\n",
       "      <td>None</td>\n",
       "      <td>None</td>\n",
       "      <td>...</td>\n",
       "      <td>None</td>\n",
       "      <td>None</td>\n",
       "      <td>None</td>\n",
       "      <td>None</td>\n",
       "      <td>None</td>\n",
       "      <td>None</td>\n",
       "      <td>None</td>\n",
       "      <td>None</td>\n",
       "      <td>2006-02-16 14:25:00</td>\n",
       "      <td>2006-02-16 14:25:00</td>\n",
       "    </tr>\n",
       "    <tr>\n",
       "      <th>3</th>\n",
       "      <td>20045017276</td>\n",
       "      <td>IDENTITY THEFT</td>\n",
       "      <td>4022</td>\n",
       "      <td>N</td>\n",
       "      <td>None</td>\n",
       "      <td>11441 I35 EF N</td>\n",
       "      <td>2004-09-01T00:00:00.000</td>\n",
       "      <td>None</td>\n",
       "      <td>None</td>\n",
       "      <td>None</td>\n",
       "      <td>...</td>\n",
       "      <td>None</td>\n",
       "      <td>None</td>\n",
       "      <td>None</td>\n",
       "      <td>None</td>\n",
       "      <td>None</td>\n",
       "      <td>None</td>\n",
       "      <td>None</td>\n",
       "      <td>None</td>\n",
       "      <td>2003-07-31 12:00:00</td>\n",
       "      <td>2004-04-14 09:45:00</td>\n",
       "    </tr>\n",
       "    <tr>\n",
       "      <th>4</th>\n",
       "      <td>20173300229</td>\n",
       "      <td>FAMILY DISTURBANCE</td>\n",
       "      <td>3400</td>\n",
       "      <td>N</td>\n",
       "      <td>RESIDENCE / HOME</td>\n",
       "      <td>13204 LIPTON LP</td>\n",
       "      <td>None</td>\n",
       "      <td>None</td>\n",
       "      <td>None</td>\n",
       "      <td>None</td>\n",
       "      <td>...</td>\n",
       "      <td>None</td>\n",
       "      <td>None</td>\n",
       "      <td>None</td>\n",
       "      <td>None</td>\n",
       "      <td>None</td>\n",
       "      <td>None</td>\n",
       "      <td>None</td>\n",
       "      <td>None</td>\n",
       "      <td>2017-11-26 07:43:00</td>\n",
       "      <td>2017-11-26 07:43:00</td>\n",
       "    </tr>\n",
       "  </tbody>\n",
       "</table>\n",
       "<p>5 rows × 21 columns</p>\n",
       "</div>"
      ],
      "text/plain": [
       "  incident_report_number          crime_type ucr_code family_violence  \\\n",
       "0            20121171927     RECKLESS DAMAGE     1401               N   \n",
       "1            20072871892  FAMILY DISTURBANCE     3400               N   \n",
       "2             2006471156  FAMILY DISTURBANCE     3400               N   \n",
       "3            20045017276      IDENTITY THEFT     4022               N   \n",
       "4            20173300229  FAMILY DISTURBANCE     3400               N   \n",
       "\n",
       "      location_type           address           clearance_date  \\\n",
       "0  RESIDENCE / HOME     3154 HWY 71 E                     None   \n",
       "1  RESIDENCE / HOME  9715 N FM 620 RD                     None   \n",
       "2  RESIDENCE / HOME  7000 DECKER 1422                     None   \n",
       "3              None    11441 I35 EF N  2004-09-01T00:00:00.000   \n",
       "4  RESIDENCE / HOME   13204 LIPTON LP                     None   \n",
       "\n",
       "  clearance_status zip_code council_district  ... district   pra census_tract  \\\n",
       "0             None     None             None  ...     None  None         None   \n",
       "1             None     None             None  ...     None  None         None   \n",
       "2             None     None             None  ...     None  None         None   \n",
       "3             None     None             None  ...     None  None         None   \n",
       "4             None     None             None  ...     None  None         None   \n",
       "\n",
       "  x_coordinate y_coordinate latitude longitude location  occurred_date_time  \\\n",
       "0         None         None     None      None     None 2012-04-26 22:34:00   \n",
       "1         None         None     None      None     None 2007-10-14 20:01:00   \n",
       "2         None         None     None      None     None 2006-02-16 14:25:00   \n",
       "3         None         None     None      None     None 2003-07-31 12:00:00   \n",
       "4         None         None     None      None     None 2017-11-26 07:43:00   \n",
       "\n",
       "   reported_date_time  \n",
       "0 2012-04-26 23:04:00  \n",
       "1 2007-10-14 20:01:00  \n",
       "2 2006-02-16 14:25:00  \n",
       "3 2004-04-14 09:45:00  \n",
       "4 2017-11-26 07:43:00  \n",
       "\n",
       "[5 rows x 21 columns]"
      ]
     },
     "execution_count": 3,
     "metadata": {},
     "output_type": "execute_result"
    }
   ],
   "source": [
    "df_eda.head()"
   ]
  },
  {
   "cell_type": "markdown",
   "id": "649c1eed",
   "metadata": {},
   "source": [
    "### How is the dataset? Does it have Time Series components?<a id='hows_the_dataset'>"
   ]
  },
  {
   "cell_type": "markdown",
   "id": "9af0e0b2",
   "metadata": {},
   "source": [
    "Columns that i observed for these four categories: <br>\n",
    "(a) Time : 'clearance_date', 'occurred_date_time', 'reported_date_time', 'month',\n",
    "       'year', 'hour'\n",
    "\n",
    "(b) Location: 'location_type', 'address', 'zip_code', 'council_district', 'sector',\n",
    "       'district', 'pra', 'census_tract', 'x_coordinate', 'y_coordinate',\n",
    "       'latitude', 'longitude'\n",
    "\n",
    "(c) Features: ??\n",
    "\n",
    "(d) Target : crime_type,clearance_status, family_violence"
   ]
  },
  {
   "cell_type": "code",
   "execution_count": 4,
   "id": "3bb165c1",
   "metadata": {},
   "outputs": [
    {
     "data": {
      "text/plain": [
       "(2000000, 21)"
      ]
     },
     "execution_count": 4,
     "metadata": {},
     "output_type": "execute_result"
    }
   ],
   "source": [
    "df_eda.shape"
   ]
  },
  {
   "cell_type": "code",
   "execution_count": 5,
   "id": "c207e639",
   "metadata": {},
   "outputs": [
    {
     "data": {
      "text/plain": [
       "Index(['incident_report_number', 'crime_type', 'ucr_code', 'family_violence',\n",
       "       'location_type', 'address', 'clearance_date', 'clearance_status',\n",
       "       'zip_code', 'council_district', 'sector', 'district', 'pra',\n",
       "       'census_tract', 'x_coordinate', 'y_coordinate', 'latitude', 'longitude',\n",
       "       'location', 'occurred_date_time', 'reported_date_time'],\n",
       "      dtype='object')"
      ]
     },
     "execution_count": 5,
     "metadata": {},
     "output_type": "execute_result"
    }
   ],
   "source": [
    "df_eda.columns"
   ]
  },
  {
   "cell_type": "code",
   "execution_count": 6,
   "id": "6bd6a06a",
   "metadata": {},
   "outputs": [
    {
     "data": {
      "text/plain": [
       "<AxesSubplot:>"
      ]
     },
     "execution_count": 6,
     "metadata": {},
     "output_type": "execute_result"
    },
    {
     "data": {
      "image/png": "[encoded data removed]",
      "text/plain": [
       "<Figure size 2400x1000 with 3 Axes>"
      ]
     },
     "metadata": {},
     "output_type": "display_data"
    }
   ],
   "source": [
    "msno.bar(df_eda)"
   ]
  },
  {
   "cell_type": "code",
   "execution_count": 7,
   "id": "45d9c6ee",
   "metadata": {},
   "outputs": [
    {
     "data": {
      "text/plain": [
       "390"
      ]
     },
     "execution_count": 7,
     "metadata": {},
     "output_type": "execute_result"
    }
   ],
   "source": [
    "df_eda['ucr_code'].value_counts().count()"
   ]
  },
  {
   "cell_type": "code",
   "execution_count": 8,
   "id": "be5eb13e",
   "metadata": {},
   "outputs": [
    {
     "data": {
      "text/plain": [
       "429"
      ]
     },
     "execution_count": 8,
     "metadata": {},
     "output_type": "execute_result"
    }
   ],
   "source": [
    "df_eda['crime_type'].value_counts().count()"
   ]
  },
  {
   "cell_type": "code",
   "execution_count": 9,
   "id": "f1206865",
   "metadata": {},
   "outputs": [
    {
     "data": {
      "text/plain": [
       "array([None, 'BA', 'FR', 'ID', 'DA', 'AD', 'CH', 'HE', 'GE', 'ED', '88',\n",
       "       'F6', '95', 'F', 'D', 'H', 'UT', '4', 'ADAM', 'I', 'A', 'SC',\n",
       "       'BAKR', 'WM', 'G', 'AP', '1124', 'CHAR', 'AS', 'C', 'C1', '8', '6',\n",
       "       '8805', '2', '83', 'E', 'F7', '44', 'D6', 'D8', 'HR', 'GR', '.',\n",
       "       'RD', '1', 'GRGE', 'B', 'A1', '99', 'FRNK', 'E1', 'E4', 'A2',\n",
       "       'HENRY', 'DAVID', 'DAVD', 'HENR', 'ADA<', 'AV', 'IDA', 'CE', 'FRK',\n",
       "       'EDWD', '21'], dtype=object)"
      ]
     },
     "execution_count": 9,
     "metadata": {},
     "output_type": "execute_result"
    }
   ],
   "source": [
    "df_eda['sector'].unique()"
   ]
  },
  {
   "cell_type": "code",
   "execution_count": 10,
   "id": "037c6467",
   "metadata": {},
   "outputs": [],
   "source": [
    "df_eda['sector'].mask(df_eda['sector'].isin(['BA','B','BAKR']) ,'BAKER', inplace=True)\n"
   ]
  },
  {
   "cell_type": "code",
   "execution_count": 11,
   "id": "5d6b5752",
   "metadata": {},
   "outputs": [],
   "source": [
    "df_eda['sector'].mask(df_eda['sector'].isin(['FR','F','FRNK','FRK']) ,'FRANK', inplace=True)"
   ]
  },
  {
   "cell_type": "code",
   "execution_count": 12,
   "id": "562cd404",
   "metadata": {},
   "outputs": [],
   "source": [
    "df_eda['sector'].mask(df_eda['sector'].isin(['AD','ADAM','A','ADA<']) ,'ADAM', inplace=True)"
   ]
  },
  {
   "cell_type": "code",
   "execution_count": 13,
   "id": "7b54942d",
   "metadata": {},
   "outputs": [],
   "source": [
    "df_eda['sector'].mask(df_eda['sector'].isin(['CH','CHAR','CE','C']) ,'CHARLIE', inplace=True)"
   ]
  },
  {
   "cell_type": "code",
   "execution_count": 14,
   "id": "b9957ba6",
   "metadata": {},
   "outputs": [],
   "source": [
    "df_eda['sector'].mask(df_eda['sector'].isin(['DA','DAVID','D','DAVD']) ,'DAVID', inplace=True)"
   ]
  },
  {
   "cell_type": "code",
   "execution_count": 15,
   "id": "e83c10c4",
   "metadata": {},
   "outputs": [],
   "source": [
    "df_eda['sector'].mask(df_eda['sector'].isin(['HE','HR','HENRY','HENR']) ,'HENRY', inplace=True)"
   ]
  },
  {
   "cell_type": "code",
   "execution_count": 16,
   "id": "0cfc16ba",
   "metadata": {},
   "outputs": [],
   "source": [
    "df_eda['sector'].mask(df_eda['sector'].isin(['ED','E','EDWD']) ,'EDWARD', inplace=True)"
   ]
  },
  {
   "cell_type": "code",
   "execution_count": 17,
   "id": "f3aa219f",
   "metadata": {},
   "outputs": [],
   "source": [
    "df_eda['sector'].mask(df_eda['sector'].isin(['GE','G','GR','GRGE']) ,'GEORGE', inplace=True)"
   ]
  },
  {
   "cell_type": "code",
   "execution_count": 19,
   "id": "9564dc3b",
   "metadata": {},
   "outputs": [],
   "source": [
    "df_eda['sector'].mask(df_eda['sector'].isin(['ID','I','IDA']) ,'IDA', inplace=True)"
   ]
  },
  {
   "cell_type": "code",
   "execution_count": 20,
   "id": "be276da8",
   "metadata": {},
   "outputs": [],
   "source": [
    "df_eda['sector'].mask(df_eda['sector'].isin(['AP']) ,'APT', inplace=True)"
   ]
  },
  {
   "cell_type": "code",
   "execution_count": 21,
   "id": "4f38335a",
   "metadata": {},
   "outputs": [
    {
     "data": {
      "text/plain": [
       "array([None, 'BAKER', 'FRANK', 'IDA', 'DAVID', 'ADAM', 'CHARLIE', 'HENRY',\n",
       "       'GEORGE', 'EDWARD', '88', 'F6', '95', 'H', 'UT', '4', 'SC', 'WM',\n",
       "       'APT', '1124', 'AS', 'C1', '8', '6', '8805', '2', '83', 'F7', '44',\n",
       "       'D6', 'D8', '.', 'RD', '1', 'A1', '99', 'E1', 'E4', 'A2', 'AV',\n",
       "       '21'], dtype=object)"
      ]
     },
     "execution_count": 21,
     "metadata": {},
     "output_type": "execute_result"
    }
   ],
   "source": [
    "df_eda['sector'].unique()"
   ]
  },
  {
   "cell_type": "code",
   "execution_count": 22,
   "id": "1f1f96a3",
   "metadata": {},
   "outputs": [],
   "source": [
    "df_eda_sectors = df_eda[df_eda['sector'].isin(['BAKER', 'FRANK', 'IDA', 'DAVID', 'ADAM', 'CHARLIE', 'HENRY',\n",
    "       'GEORGE', 'EDWARD', 'APT'])]"
   ]
  },
  {
   "cell_type": "code",
   "execution_count": 23,
   "id": "64fe31ad",
   "metadata": {},
   "outputs": [
    {
     "data": {
      "text/html": [
       "<div>\n",
       "<style scoped>\n",
       "    .dataframe tbody tr th:only-of-type {\n",
       "        vertical-align: middle;\n",
       "    }\n",
       "\n",
       "    .dataframe tbody tr th {\n",
       "        vertical-align: top;\n",
       "    }\n",
       "\n",
       "    .dataframe thead th {\n",
       "        text-align: right;\n",
       "    }\n",
       "</style>\n",
       "<table border=\"1\" class=\"dataframe\">\n",
       "  <thead>\n",
       "    <tr style=\"text-align: right;\">\n",
       "      <th></th>\n",
       "      <th>incident_report_number</th>\n",
       "      <th>crime_type</th>\n",
       "      <th>ucr_code</th>\n",
       "      <th>family_violence</th>\n",
       "      <th>location_type</th>\n",
       "      <th>address</th>\n",
       "      <th>clearance_date</th>\n",
       "      <th>clearance_status</th>\n",
       "      <th>zip_code</th>\n",
       "      <th>council_district</th>\n",
       "      <th>...</th>\n",
       "      <th>district</th>\n",
       "      <th>pra</th>\n",
       "      <th>census_tract</th>\n",
       "      <th>x_coordinate</th>\n",
       "      <th>y_coordinate</th>\n",
       "      <th>latitude</th>\n",
       "      <th>longitude</th>\n",
       "      <th>location</th>\n",
       "      <th>occurred_date_time</th>\n",
       "      <th>reported_date_time</th>\n",
       "    </tr>\n",
       "  </thead>\n",
       "  <tbody>\n",
       "    <tr>\n",
       "      <th>8</th>\n",
       "      <td>2013851154</td>\n",
       "      <td>SEXUAL ASSAULT OF CHILD/OBJECT</td>\n",
       "      <td>1707</td>\n",
       "      <td>Y</td>\n",
       "      <td>RESIDENCE / HOME</td>\n",
       "      <td>900 BLOCK E 32ND ST</td>\n",
       "      <td>2013-04-11T00:00:00.000</td>\n",
       "      <td>C</td>\n",
       "      <td>78705</td>\n",
       "      <td>9</td>\n",
       "      <td>...</td>\n",
       "      <td>1</td>\n",
       "      <td>348</td>\n",
       "      <td>4</td>\n",
       "      <td>0</td>\n",
       "      <td>0</td>\n",
       "      <td>None</td>\n",
       "      <td>None</td>\n",
       "      <td>None</td>\n",
       "      <td>2009-01-01 00:01:00</td>\n",
       "      <td>2013-03-26 16:56:00</td>\n",
       "    </tr>\n",
       "    <tr>\n",
       "      <th>9</th>\n",
       "      <td>20161800084</td>\n",
       "      <td>RAPE OF A CHILD</td>\n",
       "      <td>204</td>\n",
       "      <td>Y</td>\n",
       "      <td>RESIDENCE / HOME</td>\n",
       "      <td>6900 BLOCK BRANCHWOOD DR</td>\n",
       "      <td>2016-07-01T00:00:00.000</td>\n",
       "      <td>C</td>\n",
       "      <td>78744</td>\n",
       "      <td>2</td>\n",
       "      <td>...</td>\n",
       "      <td>8</td>\n",
       "      <td>530</td>\n",
       "      <td>24.41</td>\n",
       "      <td>0</td>\n",
       "      <td>0</td>\n",
       "      <td>None</td>\n",
       "      <td>None</td>\n",
       "      <td>None</td>\n",
       "      <td>2016-06-28 01:05:00</td>\n",
       "      <td>2016-06-28 01:05:00</td>\n",
       "    </tr>\n",
       "    <tr>\n",
       "      <th>10</th>\n",
       "      <td>2010701921</td>\n",
       "      <td>RAPE</td>\n",
       "      <td>200</td>\n",
       "      <td>Y</td>\n",
       "      <td>RESIDENCE / HOME</td>\n",
       "      <td>400 BLOCK ANGEL OAK ST</td>\n",
       "      <td>2010-03-18T00:00:00.000</td>\n",
       "      <td>C</td>\n",
       "      <td>78748</td>\n",
       "      <td>5</td>\n",
       "      <td>...</td>\n",
       "      <td>2</td>\n",
       "      <td>542</td>\n",
       "      <td>24.38</td>\n",
       "      <td>0</td>\n",
       "      <td>0</td>\n",
       "      <td>None</td>\n",
       "      <td>None</td>\n",
       "      <td>None</td>\n",
       "      <td>2010-03-04 19:15:00</td>\n",
       "      <td>2010-03-11 17:06:00</td>\n",
       "    </tr>\n",
       "    <tr>\n",
       "      <th>11</th>\n",
       "      <td>20071820003</td>\n",
       "      <td>RAPE</td>\n",
       "      <td>200</td>\n",
       "      <td>N</td>\n",
       "      <td>RESIDENCE / HOME</td>\n",
       "      <td>1700 BLOCK WOOTEN DR</td>\n",
       "      <td>2007-08-02T00:00:00.000</td>\n",
       "      <td>O</td>\n",
       "      <td>78757</td>\n",
       "      <td>7</td>\n",
       "      <td>...</td>\n",
       "      <td>7</td>\n",
       "      <td>247</td>\n",
       "      <td>405</td>\n",
       "      <td>0</td>\n",
       "      <td>0</td>\n",
       "      <td>None</td>\n",
       "      <td>None</td>\n",
       "      <td>None</td>\n",
       "      <td>2007-07-01 12:00:00</td>\n",
       "      <td>2007-07-01 12:00:00</td>\n",
       "    </tr>\n",
       "    <tr>\n",
       "      <th>12</th>\n",
       "      <td>20062192048</td>\n",
       "      <td>SEXUAL ASSAULT W/ OBJECT</td>\n",
       "      <td>1700</td>\n",
       "      <td>N</td>\n",
       "      <td>RESIDENCE / HOME</td>\n",
       "      <td>500 BLOCK E OLTORF ST</td>\n",
       "      <td>2006-08-22T00:00:00.000</td>\n",
       "      <td>None</td>\n",
       "      <td>78704</td>\n",
       "      <td>9</td>\n",
       "      <td>...</td>\n",
       "      <td>2</td>\n",
       "      <td>479</td>\n",
       "      <td>23.23</td>\n",
       "      <td>0</td>\n",
       "      <td>0</td>\n",
       "      <td>None</td>\n",
       "      <td>None</td>\n",
       "      <td>None</td>\n",
       "      <td>2006-08-07 22:28:00</td>\n",
       "      <td>2006-08-07 22:28:00</td>\n",
       "    </tr>\n",
       "  </tbody>\n",
       "</table>\n",
       "<p>5 rows × 21 columns</p>\n",
       "</div>"
      ],
      "text/plain": [
       "   incident_report_number                      crime_type ucr_code  \\\n",
       "8              2013851154  SEXUAL ASSAULT OF CHILD/OBJECT     1707   \n",
       "9             20161800084                 RAPE OF A CHILD      204   \n",
       "10             2010701921                            RAPE      200   \n",
       "11            20071820003                            RAPE      200   \n",
       "12            20062192048        SEXUAL ASSAULT W/ OBJECT     1700   \n",
       "\n",
       "   family_violence     location_type                   address  \\\n",
       "8                Y  RESIDENCE / HOME       900 BLOCK E 32ND ST   \n",
       "9                Y  RESIDENCE / HOME  6900 BLOCK BRANCHWOOD DR   \n",
       "10               Y  RESIDENCE / HOME    400 BLOCK ANGEL OAK ST   \n",
       "11               N  RESIDENCE / HOME      1700 BLOCK WOOTEN DR   \n",
       "12               N  RESIDENCE / HOME     500 BLOCK E OLTORF ST   \n",
       "\n",
       "             clearance_date clearance_status zip_code council_district  ...  \\\n",
       "8   2013-04-11T00:00:00.000                C    78705                9  ...   \n",
       "9   2016-07-01T00:00:00.000                C    78744                2  ...   \n",
       "10  2010-03-18T00:00:00.000                C    78748                5  ...   \n",
       "11  2007-08-02T00:00:00.000                O    78757                7  ...   \n",
       "12  2006-08-22T00:00:00.000             None    78704                9  ...   \n",
       "\n",
       "   district  pra census_tract x_coordinate y_coordinate latitude longitude  \\\n",
       "8         1  348            4            0            0     None      None   \n",
       "9         8  530        24.41            0            0     None      None   \n",
       "10        2  542        24.38            0            0     None      None   \n",
       "11        7  247          405            0            0     None      None   \n",
       "12        2  479        23.23            0            0     None      None   \n",
       "\n",
       "   location  occurred_date_time  reported_date_time  \n",
       "8      None 2009-01-01 00:01:00 2013-03-26 16:56:00  \n",
       "9      None 2016-06-28 01:05:00 2016-06-28 01:05:00  \n",
       "10     None 2010-03-04 19:15:00 2010-03-11 17:06:00  \n",
       "11     None 2007-07-01 12:00:00 2007-07-01 12:00:00  \n",
       "12     None 2006-08-07 22:28:00 2006-08-07 22:28:00  \n",
       "\n",
       "[5 rows x 21 columns]"
      ]
     },
     "execution_count": 23,
     "metadata": {},
     "output_type": "execute_result"
    }
   ],
   "source": [
    "df_eda_sectors.head()"
   ]
  },
  {
   "cell_type": "code",
   "execution_count": 24,
   "id": "f6b02267",
   "metadata": {},
   "outputs": [
    {
     "data": {
      "text/plain": [
       "<AxesSubplot:>"
      ]
     },
     "execution_count": 24,
     "metadata": {},
     "output_type": "execute_result"
    },
    {
     "data": {
      "image/png": "[encoded data removed]",
      "text/plain": [
       "<Figure size 2400x1000 with 3 Axes>"
      ]
     },
     "metadata": {},
     "output_type": "display_data"
    }
   ],
   "source": [
    "msno.bar(df_eda_sectors)"
   ]
  },
  {
   "cell_type": "code",
   "execution_count": 25,
   "id": "b8189b4d",
   "metadata": {},
   "outputs": [
    {
     "data": {
      "text/plain": [
       "array(['1707', '204', '200', '1700', '3829', '902', '2703', '2006',\n",
       "       '1706', '1709', '500', '900', '1799', '202', '208', '610', '1712',\n",
       "       '502', '3722', '1710', '600', '2011', '206', '1000', '609', '2716',\n",
       "       '3104', '1722', '4199', '2610', '2732', '2609', '1716', '1801',\n",
       "       '1505', '2700', '2704', '608', '3400', '3401', '1400', '2002',\n",
       "       '4022', '1199', '3442', '1701', '1825', '2733', '1106', '2400',\n",
       "       '2013', '2100', '402', '2014', '1803', '1718', '2707', '2728',\n",
       "       '1702', '1600', '2800', '3414', '2010', '909', '2611', '1705',\n",
       "       '3299', '303', '2005', '1504', '305', '2008', '2805', '1800',\n",
       "       '3212', '1715', '4003', '1724', '300', '2605', '3009', '2411',\n",
       "       '1708', '410', '2710', '901', '302', '405', '3458', '205', '910',\n",
       "       '3399', '700', '201', '2905', '408', '903', '1720', '2712', '100',\n",
       "       '2902', '1109', '1503', '1601', '2012', '3010', '3203', '4200',\n",
       "       '601', '3724', '619', '1810', '1818', '2408', '607', '2802',\n",
       "       '3211', '1500', '2402', '2102', '3817', '1806', '3306', '411',\n",
       "       '905', '2209', '3296', '2417', '907', '1703', '3604', '3213',\n",
       "       '2801', '611', '2724', '2903', '2723', '2406', '3216', '2103',\n",
       "       '3305', '3114', '614', '3206', '604', '2721', '1402', '603',\n",
       "       '2409', '2501', '2612', '615', '2722', '1502', '1713', '2603',\n",
       "       '2401', '3217', '406', '2900', '1105', '2001', '1003', '1802',\n",
       "       '3113', '1603', '1006', '2709', '2606', '1108', '3215', '2701',\n",
       "       '501', '602', '1005', '2405', '504', '3214', '2403', '3008',\n",
       "       '1723', '1717', '3402', '1805', '1808', '617', '2206', '2711',\n",
       "       '3002', '2106', '2600', '1300', '2000', '1602', '3107', '1900',\n",
       "       '2602', '2613', '101', '1099', '1804', '800', '1807', '2803',\n",
       "       '4204', '1719', '3200', '2404', '2107', '2208', '2718', '3003',\n",
       "       '2109', '2601', '3218', '2719', '911', '2731', '613', '2727',\n",
       "       '620', '3115', '2108', '2111', '616', '2410', '3832', '3201',\n",
       "       '8503', '2717', '8172', '3720', '3006', '621', '606', '102',\n",
       "       '2735', '2720', '2105', '1301', '403', '1010', '1112', '108',\n",
       "       '4205', '605', '1824', '2099', '1401', '612', '1812', '904',\n",
       "       '1200', '3000', '1001', '1509', '701', '3295', '2904', '3396',\n",
       "       '1501', '802', '1202', '1007', '2708', '2200', '503', '3021',\n",
       "       '1820', '1510', '2607', '1011', '4027', '3007', '1821', '1008',\n",
       "       '2210', '3207', '3397', '2413', '1104', '1201', '3220', '2899',\n",
       "       '3300', '1009', '3118', '107', '401', '4111', '3117', '2608',\n",
       "       '409', '104', '2614', '1004', '1507', '1819', '1815', '2907',\n",
       "       '1604', '3435', '2110', '3210', '1826', '1901', '3297', '3109',\n",
       "       '1103', '3312', '3108', '1111', '3298', '3103', '1110', '3001',\n",
       "       '618', '304', '1809', '1814', '4202', '407', '1198', '301', '906',\n",
       "       '3112', '3310', '2104', '1102', '3311', '3294', '1905', '3223',\n",
       "       '103', '3303', '1822', '3221', '1902', '3222', '1002', '2412',\n",
       "       '1506', '400', '2908', '3398', '3209', '3102', '2715', '1811',\n",
       "       '2705', '3302', '1903', '3301', '2004', '2706', '4203', '3459',\n",
       "       '2201', '1904', '2003', '2202', '801', '2415', '2416', '3106',\n",
       "       '8905', '3205', '3020', '3116', '1828', '3395', '1823', '1813',\n",
       "       '3313', '3105', '2901', '2205', '3304', '8177', '2702', '404',\n",
       "       '2009', '2736', '2207', '2500', '2203', '1827', '1711', '3111',\n",
       "       '106'], dtype=object)"
      ]
     },
     "execution_count": 25,
     "metadata": {},
     "output_type": "execute_result"
    }
   ],
   "source": [
    "df_eda_sectors['ucr_code'].unique()"
   ]
  },
  {
   "cell_type": "code",
   "execution_count": 26,
   "id": "f7388983",
   "metadata": {},
   "outputs": [],
   "source": [
    "cols=['ucr_code','crime_type','family_violence','address','zip_code','sector','occurred_date_time']"
   ]
  },
  {
   "cell_type": "code",
   "execution_count": 27,
   "id": "07b1b97c",
   "metadata": {},
   "outputs": [],
   "source": [
    "df_eda_sectors_clean = df_eda_sectors[cols]"
   ]
  },
  {
   "cell_type": "code",
   "execution_count": 28,
   "id": "459dc393",
   "metadata": {},
   "outputs": [
    {
     "data": {
      "text/plain": [
       "(1986212, 7)"
      ]
     },
     "execution_count": 28,
     "metadata": {},
     "output_type": "execute_result"
    }
   ],
   "source": [
    "df_eda_sectors_clean.shape"
   ]
  },
  {
   "cell_type": "code",
   "execution_count": 29,
   "id": "2935c218",
   "metadata": {},
   "outputs": [
    {
     "data": {
      "text/html": [
       "<div>\n",
       "<style scoped>\n",
       "    .dataframe tbody tr th:only-of-type {\n",
       "        vertical-align: middle;\n",
       "    }\n",
       "\n",
       "    .dataframe tbody tr th {\n",
       "        vertical-align: top;\n",
       "    }\n",
       "\n",
       "    .dataframe thead th {\n",
       "        text-align: right;\n",
       "    }\n",
       "</style>\n",
       "<table border=\"1\" class=\"dataframe\">\n",
       "  <thead>\n",
       "    <tr style=\"text-align: right;\">\n",
       "      <th></th>\n",
       "      <th>ucr_code</th>\n",
       "      <th>crime_type</th>\n",
       "      <th>family_violence</th>\n",
       "      <th>address</th>\n",
       "      <th>zip_code</th>\n",
       "      <th>sector</th>\n",
       "      <th>occurred_date_time</th>\n",
       "    </tr>\n",
       "  </thead>\n",
       "  <tbody>\n",
       "    <tr>\n",
       "      <th>8</th>\n",
       "      <td>1707</td>\n",
       "      <td>SEXUAL ASSAULT OF CHILD/OBJECT</td>\n",
       "      <td>Y</td>\n",
       "      <td>900 BLOCK E 32ND ST</td>\n",
       "      <td>78705</td>\n",
       "      <td>BAKER</td>\n",
       "      <td>2009-01-01 00:01:00</td>\n",
       "    </tr>\n",
       "    <tr>\n",
       "      <th>9</th>\n",
       "      <td>204</td>\n",
       "      <td>RAPE OF A CHILD</td>\n",
       "      <td>Y</td>\n",
       "      <td>6900 BLOCK BRANCHWOOD DR</td>\n",
       "      <td>78744</td>\n",
       "      <td>FRANK</td>\n",
       "      <td>2016-06-28 01:05:00</td>\n",
       "    </tr>\n",
       "    <tr>\n",
       "      <th>10</th>\n",
       "      <td>200</td>\n",
       "      <td>RAPE</td>\n",
       "      <td>Y</td>\n",
       "      <td>400 BLOCK ANGEL OAK ST</td>\n",
       "      <td>78748</td>\n",
       "      <td>FRANK</td>\n",
       "      <td>2010-03-04 19:15:00</td>\n",
       "    </tr>\n",
       "    <tr>\n",
       "      <th>11</th>\n",
       "      <td>200</td>\n",
       "      <td>RAPE</td>\n",
       "      <td>N</td>\n",
       "      <td>1700 BLOCK WOOTEN DR</td>\n",
       "      <td>78757</td>\n",
       "      <td>IDA</td>\n",
       "      <td>2007-07-01 12:00:00</td>\n",
       "    </tr>\n",
       "    <tr>\n",
       "      <th>12</th>\n",
       "      <td>1700</td>\n",
       "      <td>SEXUAL ASSAULT W/ OBJECT</td>\n",
       "      <td>N</td>\n",
       "      <td>500 BLOCK E OLTORF ST</td>\n",
       "      <td>78704</td>\n",
       "      <td>DAVID</td>\n",
       "      <td>2006-08-07 22:28:00</td>\n",
       "    </tr>\n",
       "  </tbody>\n",
       "</table>\n",
       "</div>"
      ],
      "text/plain": [
       "   ucr_code                      crime_type family_violence  \\\n",
       "8      1707  SEXUAL ASSAULT OF CHILD/OBJECT               Y   \n",
       "9       204                 RAPE OF A CHILD               Y   \n",
       "10      200                            RAPE               Y   \n",
       "11      200                            RAPE               N   \n",
       "12     1700        SEXUAL ASSAULT W/ OBJECT               N   \n",
       "\n",
       "                     address zip_code sector  occurred_date_time  \n",
       "8        900 BLOCK E 32ND ST    78705  BAKER 2009-01-01 00:01:00  \n",
       "9   6900 BLOCK BRANCHWOOD DR    78744  FRANK 2016-06-28 01:05:00  \n",
       "10    400 BLOCK ANGEL OAK ST    78748  FRANK 2010-03-04 19:15:00  \n",
       "11      1700 BLOCK WOOTEN DR    78757    IDA 2007-07-01 12:00:00  \n",
       "12     500 BLOCK E OLTORF ST    78704  DAVID 2006-08-07 22:28:00  "
      ]
     },
     "execution_count": 29,
     "metadata": {},
     "output_type": "execute_result"
    }
   ],
   "source": [
    "df_eda_sectors_clean.head()"
   ]
  },
  {
   "cell_type": "code",
   "execution_count": 137,
   "id": "e06ecb66",
   "metadata": {},
   "outputs": [
    {
     "data": {
      "text/plain": [
       "601     213053\n",
       "600     187767\n",
       "3400    166902\n",
       "1400    115807\n",
       "900     115428\n",
       "500      68768\n",
       "2100     60767\n",
       "2703     57185\n",
       "3401     55358\n",
       "700      45013\n",
       "607      44147\n",
       "902      41898\n",
       "3722     41328\n",
       "3442     36176\n",
       "2716     35756\n",
       "502      33047\n",
       "1803     31411\n",
       "1818     29529\n",
       "1800     29217\n",
       "4022     22664\n",
       "402      22115\n",
       "901      20105\n",
       "609      19444\n",
       "3299     19202\n",
       "2704     17658\n",
       "1199     16139\n",
       "1106     12604\n",
       "1000     12575\n",
       "608      12132\n",
       "3458     12117\n",
       "2400     11941\n",
       "1108     11767\n",
       "2721      9981\n",
       "300       9501\n",
       "603       8845\n",
       "1402      8594\n",
       "2102      8391\n",
       "3211      8154\n",
       "3829      7875\n",
       "2001      7622\n",
       "2707      7607\n",
       "614       7487\n",
       "303       7039\n",
       "610       6890\n",
       "3399      6452\n",
       "3604      5944\n",
       "3296      5881\n",
       "3817      5843\n",
       "410       5828\n",
       "1005      5514\n",
       "Name: ucr_code, dtype: int64"
      ]
     },
     "execution_count": 137,
     "metadata": {},
     "output_type": "execute_result"
    }
   ],
   "source": [
    "df_eda_sectors_clean['ucr_code'].value_counts().head(50)"
   ]
  },
  {
   "cell_type": "code",
   "execution_count": 138,
   "id": "809ada4f",
   "metadata": {},
   "outputs": [],
   "source": [
    "common_crimes = df_eda_sectors_clean['ucr_code'].value_counts().nlargest(50).index"
   ]
  },
  {
   "cell_type": "code",
   "execution_count": 139,
   "id": "3df37682",
   "metadata": {},
   "outputs": [
    {
     "data": {
      "text/plain": [
       "Index(['601', '600', '3400', '1400', '900', '500', '2100', '2703', '3401',\n",
       "       '700', '607', '902', '3722', '3442', '2716', '502', '1803', '1818',\n",
       "       '1800', '4022', '402', '901', '609', '3299', '2704', '1199', '1106',\n",
       "       '1000', '608', '3458', '2400', '1108', '2721', '300', '603', '1402',\n",
       "       '2102', '3211', '3829', '2001', '2707', '614', '303', '610', '3399',\n",
       "       '3604', '3296', '3817', '410', '1005'],\n",
       "      dtype='object')"
      ]
     },
     "execution_count": 139,
     "metadata": {},
     "output_type": "execute_result"
    }
   ],
   "source": [
    "common_crimes"
   ]
  },
  {
   "cell_type": "code",
   "execution_count": 140,
   "id": "980ba61f",
   "metadata": {},
   "outputs": [],
   "source": [
    "df_sec_common_crimes = df_eda_sectors_clean[df_eda_sectors_clean['ucr_code'].isin(common_crimes)] "
   ]
  },
  {
   "cell_type": "code",
   "execution_count": 141,
   "id": "46602acd",
   "metadata": {},
   "outputs": [
    {
     "data": {
      "text/html": [
       "<div>\n",
       "<style scoped>\n",
       "    .dataframe tbody tr th:only-of-type {\n",
       "        vertical-align: middle;\n",
       "    }\n",
       "\n",
       "    .dataframe tbody tr th {\n",
       "        vertical-align: top;\n",
       "    }\n",
       "\n",
       "    .dataframe thead th {\n",
       "        text-align: right;\n",
       "    }\n",
       "</style>\n",
       "<table border=\"1\" class=\"dataframe\">\n",
       "  <thead>\n",
       "    <tr style=\"text-align: right;\">\n",
       "      <th></th>\n",
       "      <th>ucr_code</th>\n",
       "      <th>crime_type</th>\n",
       "      <th>family_violence</th>\n",
       "      <th>address</th>\n",
       "      <th>zip_code</th>\n",
       "      <th>sector</th>\n",
       "      <th>occurred_date_time</th>\n",
       "    </tr>\n",
       "  </thead>\n",
       "  <tbody>\n",
       "    <tr>\n",
       "      <th>14</th>\n",
       "      <td>3829</td>\n",
       "      <td>PROTECTIVE ORDER</td>\n",
       "      <td>N</td>\n",
       "      <td>UNKNOWN</td>\n",
       "      <td>None</td>\n",
       "      <td>ADAM</td>\n",
       "      <td>2018-12-04 14:53:00</td>\n",
       "    </tr>\n",
       "    <tr>\n",
       "      <th>20</th>\n",
       "      <td>902</td>\n",
       "      <td>ASSAULT  CONTACT-SEXUAL NATURE</td>\n",
       "      <td>N</td>\n",
       "      <td>200 BLOCK COMAL ST</td>\n",
       "      <td>78702</td>\n",
       "      <td>CHARLIE</td>\n",
       "      <td>2017-06-13 16:56:00</td>\n",
       "    </tr>\n",
       "    <tr>\n",
       "      <th>21</th>\n",
       "      <td>2703</td>\n",
       "      <td>HARASSMENT</td>\n",
       "      <td>N</td>\n",
       "      <td>11100 BLOCK JOLLYVILLE RD</td>\n",
       "      <td>78759</td>\n",
       "      <td>ADAM</td>\n",
       "      <td>2016-07-01 20:53:00</td>\n",
       "    </tr>\n",
       "    <tr>\n",
       "      <th>38</th>\n",
       "      <td>3829</td>\n",
       "      <td>PROTECTIVE ORDER</td>\n",
       "      <td>N</td>\n",
       "      <td>UNKNOWN</td>\n",
       "      <td>None</td>\n",
       "      <td>FRANK</td>\n",
       "      <td>2015-10-04 10:52:00</td>\n",
       "    </tr>\n",
       "    <tr>\n",
       "      <th>39</th>\n",
       "      <td>3829</td>\n",
       "      <td>PROTECTIVE ORDER</td>\n",
       "      <td>N</td>\n",
       "      <td>UNKNOWN</td>\n",
       "      <td>None</td>\n",
       "      <td>DAVID</td>\n",
       "      <td>2018-10-17 15:24:00</td>\n",
       "    </tr>\n",
       "  </tbody>\n",
       "</table>\n",
       "</div>"
      ],
      "text/plain": [
       "   ucr_code                      crime_type family_violence  \\\n",
       "14     3829                PROTECTIVE ORDER               N   \n",
       "20      902  ASSAULT  CONTACT-SEXUAL NATURE               N   \n",
       "21     2703                      HARASSMENT               N   \n",
       "38     3829                PROTECTIVE ORDER               N   \n",
       "39     3829                PROTECTIVE ORDER               N   \n",
       "\n",
       "                      address zip_code   sector  occurred_date_time  \n",
       "14                    UNKNOWN     None     ADAM 2018-12-04 14:53:00  \n",
       "20         200 BLOCK COMAL ST    78702  CHARLIE 2017-06-13 16:56:00  \n",
       "21  11100 BLOCK JOLLYVILLE RD    78759     ADAM 2016-07-01 20:53:00  \n",
       "38                    UNKNOWN     None    FRANK 2015-10-04 10:52:00  \n",
       "39                    UNKNOWN     None    DAVID 2018-10-17 15:24:00  "
      ]
     },
     "execution_count": 141,
     "metadata": {},
     "output_type": "execute_result"
    }
   ],
   "source": [
    "df_sec_common_crimes.head()"
   ]
  },
  {
   "cell_type": "code",
   "execution_count": 142,
   "id": "66c8aa81",
   "metadata": {},
   "outputs": [
    {
     "data": {
      "text/plain": [
       "(1752468, 7)"
      ]
     },
     "execution_count": 142,
     "metadata": {},
     "output_type": "execute_result"
    }
   ],
   "source": [
    "df_sec_common_crimes.shape"
   ]
  },
  {
   "cell_type": "code",
   "execution_count": 143,
   "id": "7e809032",
   "metadata": {},
   "outputs": [
    {
     "data": {
      "text/plain": [
       "ucr_code                      object\n",
       "crime_type                    object\n",
       "family_violence               object\n",
       "address                       object\n",
       "zip_code                      object\n",
       "sector                        object\n",
       "occurred_date_time    datetime64[ns]\n",
       "dtype: object"
      ]
     },
     "execution_count": 143,
     "metadata": {},
     "output_type": "execute_result"
    }
   ],
   "source": [
    "df_sec_common_crimes.dtypes"
   ]
  },
  {
   "cell_type": "code",
   "execution_count": 144,
   "id": "964a0171",
   "metadata": {},
   "outputs": [],
   "source": [
    "df_sec_common_crimes['occurred_date'] = pd.to_datetime(df_sec_common_crimes['occurred_date_time'], format='%Y-%m-%d').dt.floor('D')"
   ]
  },
  {
   "cell_type": "code",
   "execution_count": 146,
   "id": "d6f4a095",
   "metadata": {},
   "outputs": [
    {
     "data": {
      "text/html": [
       "<div>\n",
       "<style scoped>\n",
       "    .dataframe tbody tr th:only-of-type {\n",
       "        vertical-align: middle;\n",
       "    }\n",
       "\n",
       "    .dataframe tbody tr th {\n",
       "        vertical-align: top;\n",
       "    }\n",
       "\n",
       "    .dataframe thead th {\n",
       "        text-align: right;\n",
       "    }\n",
       "</style>\n",
       "<table border=\"1\" class=\"dataframe\">\n",
       "  <thead>\n",
       "    <tr style=\"text-align: right;\">\n",
       "      <th></th>\n",
       "      <th>ucr_code</th>\n",
       "      <th>crime_type</th>\n",
       "      <th>family_violence</th>\n",
       "      <th>address</th>\n",
       "      <th>zip_code</th>\n",
       "      <th>sector</th>\n",
       "      <th>occurred_date_time</th>\n",
       "      <th>occurred_date</th>\n",
       "    </tr>\n",
       "  </thead>\n",
       "  <tbody>\n",
       "    <tr>\n",
       "      <th>14</th>\n",
       "      <td>3829</td>\n",
       "      <td>PROTECTIVE ORDER</td>\n",
       "      <td>N</td>\n",
       "      <td>UNKNOWN</td>\n",
       "      <td>None</td>\n",
       "      <td>ADAM</td>\n",
       "      <td>2018-12-04 14:53:00</td>\n",
       "      <td>2018-12-04</td>\n",
       "    </tr>\n",
       "    <tr>\n",
       "      <th>20</th>\n",
       "      <td>902</td>\n",
       "      <td>ASSAULT  CONTACT-SEXUAL NATURE</td>\n",
       "      <td>N</td>\n",
       "      <td>200 BLOCK COMAL ST</td>\n",
       "      <td>78702</td>\n",
       "      <td>CHARLIE</td>\n",
       "      <td>2017-06-13 16:56:00</td>\n",
       "      <td>2017-06-13</td>\n",
       "    </tr>\n",
       "    <tr>\n",
       "      <th>21</th>\n",
       "      <td>2703</td>\n",
       "      <td>HARASSMENT</td>\n",
       "      <td>N</td>\n",
       "      <td>11100 BLOCK JOLLYVILLE RD</td>\n",
       "      <td>78759</td>\n",
       "      <td>ADAM</td>\n",
       "      <td>2016-07-01 20:53:00</td>\n",
       "      <td>2016-07-01</td>\n",
       "    </tr>\n",
       "    <tr>\n",
       "      <th>38</th>\n",
       "      <td>3829</td>\n",
       "      <td>PROTECTIVE ORDER</td>\n",
       "      <td>N</td>\n",
       "      <td>UNKNOWN</td>\n",
       "      <td>None</td>\n",
       "      <td>FRANK</td>\n",
       "      <td>2015-10-04 10:52:00</td>\n",
       "      <td>2015-10-04</td>\n",
       "    </tr>\n",
       "    <tr>\n",
       "      <th>39</th>\n",
       "      <td>3829</td>\n",
       "      <td>PROTECTIVE ORDER</td>\n",
       "      <td>N</td>\n",
       "      <td>UNKNOWN</td>\n",
       "      <td>None</td>\n",
       "      <td>DAVID</td>\n",
       "      <td>2018-10-17 15:24:00</td>\n",
       "      <td>2018-10-17</td>\n",
       "    </tr>\n",
       "  </tbody>\n",
       "</table>\n",
       "</div>"
      ],
      "text/plain": [
       "   ucr_code                      crime_type family_violence  \\\n",
       "14     3829                PROTECTIVE ORDER               N   \n",
       "20      902  ASSAULT  CONTACT-SEXUAL NATURE               N   \n",
       "21     2703                      HARASSMENT               N   \n",
       "38     3829                PROTECTIVE ORDER               N   \n",
       "39     3829                PROTECTIVE ORDER               N   \n",
       "\n",
       "                      address zip_code   sector  occurred_date_time  \\\n",
       "14                    UNKNOWN     None     ADAM 2018-12-04 14:53:00   \n",
       "20         200 BLOCK COMAL ST    78702  CHARLIE 2017-06-13 16:56:00   \n",
       "21  11100 BLOCK JOLLYVILLE RD    78759     ADAM 2016-07-01 20:53:00   \n",
       "38                    UNKNOWN     None    FRANK 2015-10-04 10:52:00   \n",
       "39                    UNKNOWN     None    DAVID 2018-10-17 15:24:00   \n",
       "\n",
       "   occurred_date  \n",
       "14    2018-12-04  \n",
       "20    2017-06-13  \n",
       "21    2016-07-01  \n",
       "38    2015-10-04  \n",
       "39    2018-10-17  "
      ]
     },
     "execution_count": 146,
     "metadata": {},
     "output_type": "execute_result"
    }
   ],
   "source": [
    "df_sec_common_crimes.head()"
   ]
  },
  {
   "cell_type": "code",
   "execution_count": 147,
   "id": "ecefd724",
   "metadata": {},
   "outputs": [
    {
     "data": {
      "text/plain": [
       "(1752468, 8)"
      ]
     },
     "execution_count": 147,
     "metadata": {},
     "output_type": "execute_result"
    }
   ],
   "source": [
    "df_sec_common_crimes.shape"
   ]
  },
  {
   "cell_type": "code",
   "execution_count": 148,
   "id": "352b9f91",
   "metadata": {},
   "outputs": [],
   "source": [
    "df_crimes_by_sector=df_sec_common_crimes.groupby(['occurred_date','sector','ucr_code']).agg(\n",
    "    count=('crime_type', 'count')\n",
    "       \n",
    " ).reset_index()\n",
    "\n"
   ]
  },
  {
   "cell_type": "code",
   "execution_count": 149,
   "id": "cbf2683f",
   "metadata": {},
   "outputs": [
    {
     "data": {
      "text/plain": [
       "(962009, 4)"
      ]
     },
     "execution_count": 149,
     "metadata": {},
     "output_type": "execute_result"
    }
   ],
   "source": [
    "df_crimes_by_sector.shape"
   ]
  },
  {
   "cell_type": "code",
   "execution_count": 150,
   "id": "5ebeea03",
   "metadata": {},
   "outputs": [
    {
     "data": {
      "text/html": [
       "<div>\n",
       "<style scoped>\n",
       "    .dataframe tbody tr th:only-of-type {\n",
       "        vertical-align: middle;\n",
       "    }\n",
       "\n",
       "    .dataframe tbody tr th {\n",
       "        vertical-align: top;\n",
       "    }\n",
       "\n",
       "    .dataframe thead th {\n",
       "        text-align: right;\n",
       "    }\n",
       "</style>\n",
       "<table border=\"1\" class=\"dataframe\">\n",
       "  <thead>\n",
       "    <tr style=\"text-align: right;\">\n",
       "      <th></th>\n",
       "      <th>occurred_date</th>\n",
       "      <th>sector</th>\n",
       "      <th>ucr_code</th>\n",
       "      <th>count</th>\n",
       "    </tr>\n",
       "  </thead>\n",
       "  <tbody>\n",
       "    <tr>\n",
       "      <th>0</th>\n",
       "      <td>2003-01-01</td>\n",
       "      <td>ADAM</td>\n",
       "      <td>1000</td>\n",
       "      <td>1</td>\n",
       "    </tr>\n",
       "    <tr>\n",
       "      <th>1</th>\n",
       "      <td>2003-01-01</td>\n",
       "      <td>ADAM</td>\n",
       "      <td>1199</td>\n",
       "      <td>1</td>\n",
       "    </tr>\n",
       "    <tr>\n",
       "      <th>2</th>\n",
       "      <td>2003-01-01</td>\n",
       "      <td>ADAM</td>\n",
       "      <td>1400</td>\n",
       "      <td>2</td>\n",
       "    </tr>\n",
       "    <tr>\n",
       "      <th>3</th>\n",
       "      <td>2003-01-01</td>\n",
       "      <td>ADAM</td>\n",
       "      <td>2100</td>\n",
       "      <td>2</td>\n",
       "    </tr>\n",
       "    <tr>\n",
       "      <th>4</th>\n",
       "      <td>2003-01-01</td>\n",
       "      <td>ADAM</td>\n",
       "      <td>2703</td>\n",
       "      <td>2</td>\n",
       "    </tr>\n",
       "  </tbody>\n",
       "</table>\n",
       "</div>"
      ],
      "text/plain": [
       "  occurred_date sector ucr_code  count\n",
       "0    2003-01-01   ADAM     1000      1\n",
       "1    2003-01-01   ADAM     1199      1\n",
       "2    2003-01-01   ADAM     1400      2\n",
       "3    2003-01-01   ADAM     2100      2\n",
       "4    2003-01-01   ADAM     2703      2"
      ]
     },
     "execution_count": 150,
     "metadata": {},
     "output_type": "execute_result"
    }
   ],
   "source": [
    "df_crimes_by_sector.head()"
   ]
  },
  {
   "cell_type": "code",
   "execution_count": null,
   "id": "3984fbca",
   "metadata": {},
   "outputs": [],
   "source": [
    "#  ['601', '600', '3400', '1400', '900', '500', '2100', '2703', '3401', '700']"
   ]
  },
  {
   "cell_type": "code",
   "execution_count": 151,
   "id": "5cd98a8d",
   "metadata": {},
   "outputs": [],
   "source": [
    "#saving this file\n",
    "csv_name = \"crimes_summary_gp_apd_code.csv\"\n",
    "df_crimes_by_sector.to_csv(csv_name, index=False)"
   ]
  },
  {
   "cell_type": "code",
   "execution_count": 106,
   "id": "4e81e0f1",
   "metadata": {},
   "outputs": [],
   "source": [
    "df_600 = df_crimes_by_sector[df_crimes_by_sector['ucr_code'] == '600']"
   ]
  },
  {
   "cell_type": "code",
   "execution_count": 108,
   "id": "c179aae9",
   "metadata": {},
   "outputs": [
    {
     "data": {
      "text/plain": [
       "THEFT                        61044\n",
       "THEFT-NO SUSPECT/FOLLOWUP      393\n",
       "Name: crime_type, dtype: int64"
      ]
     },
     "execution_count": 108,
     "metadata": {},
     "output_type": "execute_result"
    }
   ],
   "source": [
    "df_600.crime_type.value_counts()"
   ]
  },
  {
   "cell_type": "code",
   "execution_count": 127,
   "id": "4273dd47",
   "metadata": {},
   "outputs": [],
   "source": [
    "df_601 = df_crimes_by_sector[df_crimes_by_sector['ucr_code'] == '601']"
   ]
  },
  {
   "cell_type": "code",
   "execution_count": 128,
   "id": "6483b24b",
   "metadata": {},
   "outputs": [
    {
     "data": {
      "text/plain": [
       "BURGLARY OF VEHICLE              57748\n",
       "BURGLARY OF VEH-NO SUSPECT/FU     3555\n",
       "Name: crime_type, dtype: int64"
      ]
     },
     "execution_count": 128,
     "metadata": {},
     "output_type": "execute_result"
    }
   ],
   "source": [
    "df_601.crime_type.value_counts()"
   ]
  },
  {
   "cell_type": "code",
   "execution_count": 125,
   "id": "024b944e",
   "metadata": {},
   "outputs": [],
   "source": [
    "df_3400 = df_crimes_by_sector[df_crimes_by_sector['ucr_code'] == '3400']"
   ]
  },
  {
   "cell_type": "code",
   "execution_count": 126,
   "id": "52f95f44",
   "metadata": {},
   "outputs": [
    {
     "data": {
      "text/plain": [
       "FAMILY DISTURBANCE    54750\n",
       "Name: crime_type, dtype: int64"
      ]
     },
     "execution_count": 126,
     "metadata": {},
     "output_type": "execute_result"
    }
   ],
   "source": [
    "df_3400.crime_type.value_counts()"
   ]
  },
  {
   "cell_type": "code",
   "execution_count": 123,
   "id": "63cacc9a",
   "metadata": {},
   "outputs": [],
   "source": [
    "df_1400 = df_crimes_by_sector[df_crimes_by_sector['ucr_code'] == '1400']"
   ]
  },
  {
   "cell_type": "code",
   "execution_count": 124,
   "id": "e644c6a1",
   "metadata": {},
   "outputs": [
    {
     "data": {
      "text/plain": [
       "CRIMINAL MISCHIEF               50842\n",
       "CRIMINAL MISCHIEF-NO SUSPECT      825\n",
       "Name: crime_type, dtype: int64"
      ]
     },
     "execution_count": 124,
     "metadata": {},
     "output_type": "execute_result"
    }
   ],
   "source": [
    "df_1400.crime_type.value_counts()"
   ]
  },
  {
   "cell_type": "code",
   "execution_count": 121,
   "id": "24ffa880",
   "metadata": {},
   "outputs": [],
   "source": [
    "df_900 = df_crimes_by_sector[df_crimes_by_sector['ucr_code'] == '900']"
   ]
  },
  {
   "cell_type": "code",
   "execution_count": 122,
   "id": "33485002",
   "metadata": {},
   "outputs": [
    {
     "data": {
      "text/plain": [
       "ASSAULT W/INJURY-FAM/DATE VIOL    39859\n",
       "ASSAULT WITH INJURY               31057\n",
       "Name: crime_type, dtype: int64"
      ]
     },
     "execution_count": 122,
     "metadata": {},
     "output_type": "execute_result"
    }
   ],
   "source": [
    "df_900.crime_type.value_counts()"
   ]
  },
  {
   "cell_type": "code",
   "execution_count": 119,
   "id": "38ad48cd",
   "metadata": {},
   "outputs": [],
   "source": [
    "df_500 = df_crimes_by_sector[df_crimes_by_sector['ucr_code'] == '500']"
   ]
  },
  {
   "cell_type": "code",
   "execution_count": 120,
   "id": "5190104d",
   "metadata": {},
   "outputs": [
    {
     "data": {
      "text/plain": [
       "BURGLARY OF RESIDENCE            36319\n",
       "BURG OF RES - FAM/DATING ASLT      801\n",
       "BURG OF RES - SEXUAL NATURE         80\n",
       "Name: crime_type, dtype: int64"
      ]
     },
     "execution_count": 120,
     "metadata": {},
     "output_type": "execute_result"
    }
   ],
   "source": [
    "df_500.crime_type.value_counts()"
   ]
  },
  {
   "cell_type": "code",
   "execution_count": 117,
   "id": "37677b37",
   "metadata": {},
   "outputs": [],
   "source": [
    "df_2100 = df_crimes_by_sector[df_crimes_by_sector['ucr_code'] == '2100']"
   ]
  },
  {
   "cell_type": "code",
   "execution_count": 118,
   "id": "f9205c14",
   "metadata": {},
   "outputs": [
    {
     "data": {
      "text/plain": [
       "DWI    36345\n",
       "Name: crime_type, dtype: int64"
      ]
     },
     "execution_count": 118,
     "metadata": {},
     "output_type": "execute_result"
    }
   ],
   "source": [
    "df_2100.crime_type.value_counts()"
   ]
  },
  {
   "cell_type": "code",
   "execution_count": 115,
   "id": "c81afa7e",
   "metadata": {},
   "outputs": [],
   "source": [
    "df_3401 = df_crimes_by_sector[df_crimes_by_sector['ucr_code'] == '3401']"
   ]
  },
  {
   "cell_type": "code",
   "execution_count": 116,
   "id": "caf4e174",
   "metadata": {},
   "outputs": [
    {
     "data": {
      "text/plain": [
       "DISTURBANCE - OTHER    35703\n",
       "Name: crime_type, dtype: int64"
      ]
     },
     "execution_count": 116,
     "metadata": {},
     "output_type": "execute_result"
    }
   ],
   "source": [
    "df_3401.crime_type.value_counts()"
   ]
  },
  {
   "cell_type": "code",
   "execution_count": 113,
   "id": "a40a8fea",
   "metadata": {},
   "outputs": [],
   "source": [
    "df_700 = df_crimes_by_sector[df_crimes_by_sector['ucr_code'] == '700']"
   ]
  },
  {
   "cell_type": "code",
   "execution_count": 114,
   "id": "3396ca9f",
   "metadata": {},
   "outputs": [
    {
     "data": {
      "text/plain": [
       "AUTO THEFT    30372\n",
       "Name: crime_type, dtype: int64"
      ]
     },
     "execution_count": 114,
     "metadata": {},
     "output_type": "execute_result"
    }
   ],
   "source": [
    "df_700.crime_type.value_counts()"
   ]
  },
  {
   "cell_type": "code",
   "execution_count": 111,
   "id": "d4e79762",
   "metadata": {},
   "outputs": [],
   "source": [
    "df_2703 = df_crimes_by_sector[df_crimes_by_sector['ucr_code'] == '2703']"
   ]
  },
  {
   "cell_type": "code",
   "execution_count": 112,
   "id": "cdc2121a",
   "metadata": {},
   "outputs": [
    {
     "data": {
      "text/plain": [
       "HARASSMENT    35432\n",
       "Name: crime_type, dtype: int64"
      ]
     },
     "execution_count": 112,
     "metadata": {},
     "output_type": "execute_result"
    }
   ],
   "source": [
    "df_2703.crime_type.value_counts()"
   ]
  },
  {
   "cell_type": "code",
   "execution_count": null,
   "id": "ed5f71cf",
   "metadata": {},
   "outputs": [],
   "source": []
  },
  {
   "cell_type": "code",
   "execution_count": null,
   "id": "3f703057",
   "metadata": {},
   "outputs": [],
   "source": []
  },
  {
   "cell_type": "code",
   "execution_count": null,
   "id": "32ce0697",
   "metadata": {},
   "outputs": [],
   "source": []
  },
  {
   "cell_type": "code",
   "execution_count": null,
   "id": "cd4d5a40",
   "metadata": {},
   "outputs": [],
   "source": []
  },
  {
   "cell_type": "code",
   "execution_count": null,
   "id": "6c676d10",
   "metadata": {},
   "outputs": [],
   "source": []
  },
  {
   "cell_type": "code",
   "execution_count": null,
   "id": "9e4b4d0a",
   "metadata": {},
   "outputs": [],
   "source": []
  },
  {
   "cell_type": "code",
   "execution_count": null,
   "id": "3c79365a",
   "metadata": {},
   "outputs": [],
   "source": []
  },
  {
   "cell_type": "code",
   "execution_count": null,
   "id": "86e4cd3a",
   "metadata": {},
   "outputs": [],
   "source": []
  },
  {
   "cell_type": "code",
   "execution_count": null,
   "id": "25089a32",
   "metadata": {},
   "outputs": [],
   "source": []
  },
  {
   "cell_type": "code",
   "execution_count": null,
   "id": "b560f5ed",
   "metadata": {},
   "outputs": [],
   "source": [
    "df_eda[df_eda['ucr_code'].isin(['601','600','900'])] #3400-family_disturbance,1400 - criminal_mischief,burglary vehicle-601,theft-600,assault with injurt-900"
   ]
  },
  {
   "cell_type": "code",
   "execution_count": null,
   "id": "357a189d",
   "metadata": {},
   "outputs": [],
   "source": [
    "df_eda['occurred_date'] = pd.to_datetime(df_eda['occurred_date_time'], format='%Y-%m-%d').dt.floor('D')"
   ]
  },
  {
   "cell_type": "code",
   "execution_count": null,
   "id": "670db999",
   "metadata": {},
   "outputs": [],
   "source": [
    "df_eda['year'] = df_eda['occurred_date'].dt.year"
   ]
  },
  {
   "cell_type": "code",
   "execution_count": null,
   "id": "1daf4801",
   "metadata": {},
   "outputs": [],
   "source": [
    "df_eda['month'] = df_eda['occurred_date'].dt.year"
   ]
  },
  {
   "cell_type": "code",
   "execution_count": null,
   "id": "8adce447",
   "metadata": {},
   "outputs": [],
   "source": [
    "df_eda['day'] = df_eda['occurred_date'].dt.year"
   ]
  },
  {
   "cell_type": "code",
   "execution_count": null,
   "id": "3c40f882",
   "metadata": {},
   "outputs": [],
   "source": [
    "df_eda['hour'] = df_eda['occurred_date'].dt.year"
   ]
  },
  {
   "cell_type": "code",
   "execution_count": null,
   "id": "e03a99b4",
   "metadata": {},
   "outputs": [],
   "source": [
    "df_eda.dtypes"
   ]
  },
  {
   "cell_type": "code",
   "execution_count": null,
   "id": "ce860f98",
   "metadata": {},
   "outputs": [],
   "source": [
    "df_eda['year'] = df_eda['year'].astype('Int64')"
   ]
  },
  {
   "cell_type": "code",
   "execution_count": null,
   "id": "5c1fc139",
   "metadata": {},
   "outputs": [],
   "source": [
    "df_eda.head(3)"
   ]
  },
  {
   "cell_type": "code",
   "execution_count": null,
   "id": "35434d6d",
   "metadata": {},
   "outputs": [],
   "source": [
    "crimes_per_year = df_eda['year'].value_counts().sort_index()\n",
    "\n",
    "import matplotlib.pyplot as plt\n",
    "import seaborn as sns\n",
    "sns.set(style=\"whitegrid\")\n",
    "sns.set_color_codes(\"pastel\")\n",
    "\n",
    "g = sns.barplot(x=crimes_per_year.index, y=crimes_per_year.values,color='b')\n",
    "g.set_xticklabels(g.get_xticklabels(),rotation=90)\n",
    "g.set(xlabel='Year', ylabel='# crimes occurred')\n",
    "plt.title('Number of occurred crimes per year')\n",
    "plt.show()"
   ]
  },
  {
   "cell_type": "markdown",
   "id": "12c677ee",
   "metadata": {},
   "source": [
    "### Choosing years 2013 to 2023 for EDA<a id='choose_years'>"
   ]
  },
  {
   "cell_type": "code",
   "execution_count": null,
   "id": "e1ff14e5",
   "metadata": {},
   "outputs": [],
   "source": [
    "df_13_22 = df_eda[df_eda.year.between(2013, 2024)]"
   ]
  },
  {
   "cell_type": "code",
   "execution_count": null,
   "id": "c0641cca",
   "metadata": {},
   "outputs": [],
   "source": [
    "df_13_22.head()"
   ]
  },
  {
   "cell_type": "code",
   "execution_count": null,
   "id": "a41097ce",
   "metadata": {},
   "outputs": [],
   "source": [
    "df_13_22.shape"
   ]
  },
  {
   "cell_type": "code",
   "execution_count": null,
   "id": "a5b4748c",
   "metadata": {},
   "outputs": [],
   "source": [
    "df_13_22.info()"
   ]
  },
  {
   "cell_type": "code",
   "execution_count": null,
   "id": "5aed7263",
   "metadata": {},
   "outputs": [],
   "source": [
    "msno.bar(df_13_22)"
   ]
  },
  {
   "cell_type": "markdown",
   "id": "4876c405",
   "metadata": {},
   "source": [
    "### EDA on Council Districts<a id='council_districts'>\n",
    "    \n",
    "    Which Council district has highest number of crime incidents in Austin?"
   ]
  },
  {
   "cell_type": "code",
   "execution_count": null,
   "id": "4def711f",
   "metadata": {},
   "outputs": [],
   "source": [
    "df_13_22.council_district.unique()"
   ]
  },
  {
   "cell_type": "code",
   "execution_count": null,
   "id": "806315f9",
   "metadata": {},
   "outputs": [],
   "source": [
    "df_13_22.council_district.value_counts()"
   ]
  },
  {
   "cell_type": "code",
   "execution_count": null,
   "id": "b55ec3d7",
   "metadata": {},
   "outputs": [],
   "source": [
    "df_13_22.council_district.value_counts().info()"
   ]
  },
  {
   "cell_type": "markdown",
   "id": "80fe58c3",
   "metadata": {},
   "source": [
    "### Aggregations on council_district using .agg()<a id='council_district_agg'>"
   ]
  },
  {
   "cell_type": "code",
   "execution_count": null,
   "id": "018616b5",
   "metadata": {},
   "outputs": [],
   "source": [
    "df_13_22.groupby([\"year\",\"council_district\"]).agg(\n",
    "    count=('council_district', 'count')\n",
    "    \n",
    " ).sort_values(by = ['year', 'count'], ascending = [True, False])"
   ]
  },
  {
   "cell_type": "code",
   "execution_count": null,
   "id": "6d21f2d8",
   "metadata": {},
   "outputs": [],
   "source": [
    "\n",
    "df_13_22['day'] = df_13_22['occurred_date_time'].apply(lambda x: x.strftime('%A')) "
   ]
  },
  {
   "cell_type": "code",
   "execution_count": null,
   "id": "e200e8ac",
   "metadata": {},
   "outputs": [],
   "source": [
    "df_13_22.head(2)"
   ]
  },
  {
   "cell_type": "code",
   "execution_count": null,
   "id": "e06c7b2e",
   "metadata": {},
   "outputs": [],
   "source": [
    "df_13_22['month'] = df_13_22['occurred_date'].dt.month"
   ]
  },
  {
   "cell_type": "code",
   "execution_count": null,
   "id": "e4afa435",
   "metadata": {},
   "outputs": [],
   "source": [
    "df_13_22['day'] = df_13_22['occurred_date'].dt.day"
   ]
  },
  {
   "cell_type": "code",
   "execution_count": null,
   "id": "8eec14ca",
   "metadata": {},
   "outputs": [],
   "source": [
    "df_13_22['hour'] = df_13_22['occurred_date_time'].dt.hour"
   ]
  },
  {
   "cell_type": "markdown",
   "id": "c54b47b7",
   "metadata": {},
   "source": [
    "### Visualizing Number of Crime(NOC) Distributions<a id='viz_nocs'>"
   ]
  },
  {
   "cell_type": "code",
   "execution_count": null,
   "id": "a6c5f3ba",
   "metadata": {},
   "outputs": [],
   "source": [
    "# Specifying the values to plot (year, month, day, hour, district, sector)\n",
    "noc_year = pd.DataFrame(data = df_13_22[\"year\"].value_counts().reset_index().values,\n",
    "                        columns = [\"year\", \"noc\"]).sort_values(\"year\").reset_index(drop = True)\n",
    "noc_month = pd.DataFrame(data = df_13_22[\"month\"].value_counts().reset_index().values,\n",
    "                        columns = [\"month\", \"noc\"]).sort_values(\"month\").reset_index(drop = True)\n",
    "noc_day = pd.DataFrame(data = df_13_22[\"day\"].value_counts().reset_index().values,\n",
    "                        columns = [\"day\", \"noc\"]).sort_values(\"day\").reset_index(drop = True)\n",
    "noc_hour = pd.DataFrame(data = df_13_22[\"hour\"].value_counts().reset_index().values,\n",
    "                        columns = [\"hour\", \"noc\"]).sort_values(\"hour\").reset_index(drop = True)\n",
    "noc_district = pd.DataFrame(data = df_13_22[\"council_district\"].value_counts().reset_index().values,\n",
    "                        columns = [\"district\", \"noc\"])\n",
    "noc_sector = pd.DataFrame(data = df_13_22[\"sector\"].value_counts().reset_index().values,\n",
    "                        columns = [\"sector\", \"noc\"]).sort_values(\"noc\", ascending = False).reset_index(drop = True).head(30)\n",
    "\n",
    "# Create a subplot with 3 rows and 2 cols\n",
    "fig = make_subplots(rows = 3, cols = 2,\n",
    "                   specs = [[{\"type\" : \"scatter\"}, {\"type\" : \"scatter\"}], [{\"type\" : \"scatter\"},\n",
    "                             {\"type\" : \"scatter\"}], [{\"type\" : \"bar\"}, {\"type\" : \"bar\"}]],\n",
    "                   subplot_titles = (\"NOC per Year\", \"NOC per Month\", \"NOC per Day\", \"NOC per Hour\", \"NOC per District\", \"NOC per Sector\"))\n",
    "\n",
    "# Plot the values\n",
    "fig.add_trace(go.Scatter(x = noc_year[\"year\"],\n",
    "                        y = noc_year[\"noc\"]), row = 1, col = 1)\n",
    "fig.add_trace(go.Scatter(x = noc_month[\"month\"],\n",
    "                        y = noc_month[\"noc\"]), row = 1, col = 2)\n",
    "fig.add_trace(go.Scatter(x = noc_day[\"day\"],\n",
    "                        y = noc_day[\"noc\"]), row = 2, col = 1)\n",
    "fig.add_trace(go.Scatter(x = noc_hour[\"hour\"],\n",
    "                        y = noc_hour[\"noc\"]), row = 2, col = 2)\n",
    "fig.add_trace(go.Bar(x = noc_district[\"district\"],\n",
    "                        y = noc_district[\"noc\"]), row = 3, col = 1)\n",
    "fig.add_trace(go.Bar(x = noc_sector[\"sector\"],\n",
    "                        y = noc_month[\"noc\"]), row = 3, col = 2)\n",
    "\n",
    "# Update x axes parameters\n",
    "fig.update_xaxes(title_text=\"Year\", row=1, col=1)\n",
    "fig.update_xaxes(title_text=\"Month\", range=[0, 13], row=1, col=2)\n",
    "fig.update_xaxes(title_text=\"Day\", row=2, col=1)\n",
    "fig.update_xaxes(title_text=\"Hour\",row=2, col=2)\n",
    "fig.update_xaxes(title_text=\"District\", row=3, col=1)\n",
    "fig.update_xaxes(title_text=\"Sector\", row=3, col=2)\n",
    "\n",
    "# Update y axes parameters\n",
    "fig.update_yaxes(title_text=\"Crime Count\", row=1, col=1)\n",
    "fig.update_yaxes(title_text=\"Crime Count\",row=1, col=2)\n",
    "fig.update_yaxes(title_text=\"Crime Count\", row=2, col=1)\n",
    "fig.update_yaxes(title_text=\"Crime Count\", row=2, col=2)\n",
    "fig.update_yaxes(title_text=\"Crime Count\", row=3, col=1)\n",
    "fig.update_yaxes(title_text=\"Crime Count\", row=3, col=2)\n",
    "\n",
    "fig.update_layout(showlegend=False,title_text=\"Distributions of Total NOC Between 2013-2022\", height=900)\n"
   ]
  },
  {
   "cell_type": "markdown",
   "id": "4a0276e4",
   "metadata": {},
   "source": [
    "### Council District #9 on map<a id='council_9_map'>\n",
    "    \n",
    "    I got this image from source: https://www.austinmonitor.com/wp-content/uploads/2014/12/map.jpg"
   ]
  },
  {
   "cell_type": "code",
   "execution_count": null,
   "id": "d2e7e474",
   "metadata": {},
   "outputs": [],
   "source": [
    "from IPython.display import Image\n",
    "Image(filename='austin_council_districts.png') \n"
   ]
  },
  {
   "cell_type": "markdown",
   "id": "3bb5ede1",
   "metadata": {},
   "source": [
    "### Observations:\n",
    "\n",
    "1. Crime rate is declining. From 2103 to 2018 it decline but some spike is noted in 2019 but declining since then.  <br/>\n",
    "2. Big dip in the crime rate in the months of February and November<br/>\n",
    "3. Crime rate is very low on Sunday and Prakes on Friday<br />\n",
    "4. Hourly crime rate is high at noon and midnight. Very low around 5 am. <br />\n",
    "5. For council_district 9, 3, 4 there seems to be high crime rates.\n",
    "6. APD sector Baker, Henry, George shows high crime reported cases. \n"
   ]
  },
  {
   "cell_type": "markdown",
   "id": "1c429f2f",
   "metadata": {},
   "source": [
    "### Visualizing council district 9 on the Austin map"
   ]
  },
  {
   "cell_type": "code",
   "execution_count": null,
   "id": "422ea87e",
   "metadata": {},
   "outputs": [],
   "source": [
    "# import folium package\n",
    "import folium\n",
    "from folium import plugins\n",
    "# Map method of folium return Map object\n",
    " \n",
    "# Here we pass coordinates of Gfg\n",
    "# and starting Zoom level = 12\n",
    "my_map1 = folium.Map(location = [30.27536, -97.73221],zoom_start = 12 )\n",
    "# CircleMarker with radius\n",
    "folium.CircleMarker(location = [30.27536, -97.73221],\n",
    "                    radius = 80, popup = ' district_9 ').add_to(my_map1)\n",
    "\n",
    "my_map1"
   ]
  },
  {
   "cell_type": "markdown",
   "id": "5d40d6e5",
   "metadata": {},
   "source": [
    "### Choosing council district 9 to analyze  "
   ]
  },
  {
   "cell_type": "code",
   "execution_count": null,
   "id": "974c4798",
   "metadata": {},
   "outputs": [],
   "source": [
    "df_13_22_dist9 = df_13_22[df_13_22.council_district == '9']"
   ]
  },
  {
   "cell_type": "code",
   "execution_count": null,
   "id": "7fd5ca3a",
   "metadata": {},
   "outputs": [],
   "source": [
    "df_13_22_dist9.shape"
   ]
  },
  {
   "cell_type": "code",
   "execution_count": null,
   "id": "ee165d09",
   "metadata": {},
   "outputs": [],
   "source": [
    "df_13_22_dist9.head()"
   ]
  },
  {
   "cell_type": "code",
   "execution_count": null,
   "id": "68a8402e",
   "metadata": {},
   "outputs": [],
   "source": [
    "df_13_22_dist9['category_description'].value_counts().head(10)"
   ]
  },
  {
   "cell_type": "code",
   "execution_count": null,
   "id": "b27abd13",
   "metadata": {},
   "outputs": [],
   "source": [
    "df_13_22_dist9['zip_code'].value_counts()"
   ]
  },
  {
   "cell_type": "code",
   "execution_count": null,
   "id": "77862d0f",
   "metadata": {},
   "outputs": [],
   "source": [
    "df_13_22_dist9['sector'].value_counts()"
   ]
  },
  {
   "cell_type": "markdown",
   "id": "c56a407d",
   "metadata": {},
   "source": [
    "### EDA on APD sectors<a id='apd_sectors'>"
   ]
  },
  {
   "cell_type": "markdown",
   "id": "60b7fe57",
   "metadata": {},
   "source": [
    "### APD sectors in Austin<a id='apd_sectors_map'>\n",
    "    \n",
    "    I got this image from the source: https://www.austintexas.gov/edims/document.cfm?id=168703"
   ]
  },
  {
   "cell_type": "code",
   "execution_count": null,
   "id": "6a631718",
   "metadata": {},
   "outputs": [],
   "source": [
    "Image(filename='apd_sectors.png') "
   ]
  },
  {
   "cell_type": "markdown",
   "id": "139b14e6",
   "metadata": {},
   "source": [
    "### Aggregations on APD Sectors<a id='apd_sector_agg'>"
   ]
  },
  {
   "cell_type": "code",
   "execution_count": null,
   "id": "69162f90",
   "metadata": {},
   "outputs": [],
   "source": [
    "sector_year=df_13_22_dist9.groupby([\"year\",\"sector\"]).agg(\n",
    "    count=('crime_type', 'count')\n",
    "       \n",
    " ).reset_index().rename(\n",
    "    columns={'year':'year','sector' : 'sector','count' : 'noc'})\n",
    "\n",
    "sector_year.head(10)\n"
   ]
  },
  {
   "cell_type": "code",
   "execution_count": null,
   "id": "ceb5d421",
   "metadata": {},
   "outputs": [],
   "source": [
    "px.bar(sector_year, x = \"year\", y = \"noc\", color = \"sector\", title = \"APD Sectors under council district(9)- NOC(2013-2022) \", text = \"noc\")"
   ]
  },
  {
   "cell_type": "code",
   "execution_count": null,
   "id": "7f1be5d0",
   "metadata": {},
   "outputs": [],
   "source": [
    "sector_year.head(20)"
   ]
  },
  {
   "cell_type": "code",
   "execution_count": null,
   "id": "010585f0",
   "metadata": {},
   "outputs": [],
   "source": [
    "fig = px.line(sector_year, x = \"year\", y = \"noc\", color = \"sector\", labels =  {\"noc\" : \"Number of Crime\",\n",
    "                                                                       \"year\" : \"Year\",\n",
    "                                                                       \"sector\" : \"APD Sector\"}, title = \"Crimes per Year under these APD sectors\")\n",
    "\n",
    "fig.update_layout(\n",
    "    font_color=\"#5642C5\",\n",
    "    title_font_color=\"#5642C5\",\n",
    "    legend_title_font_color=\"#5642C5\",\n",
    "    font_size = 14\n",
    ")"
   ]
  },
  {
   "cell_type": "code",
   "execution_count": null,
   "id": "33659d2a",
   "metadata": {},
   "outputs": [],
   "source": [
    "\n",
    "sector_hour = pd.DataFrame(data = (df_13_22_dist9.groupby([\"hour\",\"sector\"]).count()[['crime_type']]).reset_index().values,\n",
    "                        columns= [\"hour\",\"sector\",\"noc\"]).sort_values('hour').reset_index(drop=True)\n",
    "\n",
    "fig = px.line(sector_hour, x = \"hour\", y = \"noc\", color = \"sector\", labels =  {\"noc\" : \"Number of Crime\",\n",
    "                                                                       \"hour\" : \"Hour\",\n",
    "                                                                       \"sector\" : \"APD Sector\"}, title = \"Crimes per hour under these APD sectors\")\n",
    "\n",
    "fig.update_layout(\n",
    "    font_color=\"#5642C5\",\n",
    "    title_font_color=\"#5642C5\",\n",
    "    legend_title_font_color=\"#5642C5\",\n",
    "    font_size = 14\n",
    ")"
   ]
  },
  {
   "cell_type": "markdown",
   "id": "e77ca530",
   "metadata": {},
   "source": [
    "### EDA on Census_tract<a id='census_tract'>"
   ]
  },
  {
   "cell_type": "markdown",
   "id": "ec36464e",
   "metadata": {},
   "source": [
    "Census Tracts are small, relatively permanent statistical subdivisions of a county or statistically equivalent entity that can be updated by local participants prior to each decennial census as part of the Census Bureau's Participant Statistical Areas Program (PSAP)"
   ]
  },
  {
   "cell_type": "code",
   "execution_count": null,
   "id": "29698c05",
   "metadata": {},
   "outputs": [],
   "source": [
    "df_13_22_dist9.census_tract.value_counts()"
   ]
  },
  {
   "cell_type": "markdown",
   "id": "d2e8e12d",
   "metadata": {},
   "source": [
    "#### Choosing censust tract 11 as it has highest number of crimes reported"
   ]
  },
  {
   "cell_type": "code",
   "execution_count": null,
   "id": "6b0c8755",
   "metadata": {},
   "outputs": [],
   "source": [
    "df_13_22_dist9[df_13_22_dist9.census_tract == '11']"
   ]
  },
  {
   "cell_type": "markdown",
   "id": "bc55b767",
   "metadata": {},
   "source": [
    "### Council District 9  ---> Census Tract 11"
   ]
  },
  {
   "cell_type": "code",
   "execution_count": null,
   "id": "1cba3b26",
   "metadata": {},
   "outputs": [],
   "source": [
    "df_11_census= df_13_22_dist9[df_13_22_dist9.census_tract == '11']"
   ]
  },
  {
   "cell_type": "code",
   "execution_count": null,
   "id": "829c772b",
   "metadata": {},
   "outputs": [],
   "source": [
    "df_11_census.shape"
   ]
  },
  {
   "cell_type": "code",
   "execution_count": null,
   "id": "0e250738",
   "metadata": {},
   "outputs": [],
   "source": [
    "df_11_census.sector.value_counts()"
   ]
  },
  {
   "cell_type": "code",
   "execution_count": null,
   "id": "259a275e",
   "metadata": {},
   "outputs": [],
   "source": [
    "df_11_census.zip_code.value_counts()"
   ]
  },
  {
   "cell_type": "markdown",
   "id": "e57a71f3",
   "metadata": {},
   "source": [
    "##### To visualize census tract which is under council district 9, I made use ot Tableau and took the screen shot and circled the area to highlight  the area for better depiction"
   ]
  },
  {
   "cell_type": "markdown",
   "id": "05e1bee3",
   "metadata": {},
   "source": [
    "This is my public tableau where I had saved this file: https://public.tableau.com/app/profile/anita.durg"
   ]
  },
  {
   "cell_type": "code",
   "execution_count": null,
   "id": "4012a16c",
   "metadata": {},
   "outputs": [],
   "source": [
    "Image(filename='78701_zip.png') "
   ]
  },
  {
   "cell_type": "markdown",
   "id": "e1e3b2f6",
   "metadata": {},
   "source": [
    "### Council District 9 ---> Census Tract 11 ----> Zip_code 78701"
   ]
  },
  {
   "cell_type": "code",
   "execution_count": null,
   "id": "db1af3c0",
   "metadata": {},
   "outputs": [],
   "source": [
    "df_78701= df_11_census[df_11_census.zip_code == '78701']"
   ]
  },
  {
   "cell_type": "code",
   "execution_count": null,
   "id": "245a3034",
   "metadata": {},
   "outputs": [],
   "source": [
    "df_78701.shape"
   ]
  },
  {
   "cell_type": "code",
   "execution_count": null,
   "id": "51c522e2",
   "metadata": {},
   "outputs": [],
   "source": [
    "df_all_78701 = df_13_22[df_13_22.zip_code == '78701']"
   ]
  },
  {
   "cell_type": "code",
   "execution_count": null,
   "id": "89f8303c",
   "metadata": {},
   "outputs": [],
   "source": [
    "df_all_78701.shape"
   ]
  },
  {
   "cell_type": "code",
   "execution_count": null,
   "id": "67b80ffc",
   "metadata": {},
   "outputs": [],
   "source": [
    "df_sector_ge_ba = df_13_22[df_13_22.sector.isin(['GE','BA'])]"
   ]
  },
  {
   "cell_type": "code",
   "execution_count": null,
   "id": "97979067",
   "metadata": {},
   "outputs": [],
   "source": [
    "df_sector_ge_ba.shape"
   ]
  },
  {
   "cell_type": "markdown",
   "id": "a68f4922",
   "metadata": {},
   "source": [
    "### EDA on zip_codes <a id='zip_codes'>"
   ]
  },
  {
   "cell_type": "markdown",
   "id": "f03fde53",
   "metadata": {},
   "source": [
    "### Crime Count Visualization(yearly,monthly,daily, hourly)<a id='daily_crime'>"
   ]
  },
  {
   "cell_type": "code",
   "execution_count": null,
   "id": "5686ad3e",
   "metadata": {},
   "outputs": [],
   "source": [
    "crime_cnt_year = pd.DataFrame(data = df_78701[\"year\"].value_counts().reset_index().values,\n",
    "                        columns = [\"year\", \"crime_cnt\"]).sort_values(\"year\").reset_index(drop = True)"
   ]
  },
  {
   "cell_type": "code",
   "execution_count": null,
   "id": "ca34ba53",
   "metadata": {},
   "outputs": [],
   "source": [
    "crime_cnt_year.head(10)"
   ]
  },
  {
   "cell_type": "code",
   "execution_count": null,
   "id": "6453c3d9",
   "metadata": {},
   "outputs": [],
   "source": [
    "crime_cnt_month = pd.DataFrame(data = df_78701[\"month\"].value_counts().reset_index().values,\n",
    "                        columns = [\"month\", \"crime_cnt\"]).sort_values(\"month\").reset_index(drop = True)"
   ]
  },
  {
   "cell_type": "code",
   "execution_count": null,
   "id": "5799847c",
   "metadata": {},
   "outputs": [],
   "source": [
    "crime_cnt_month.head(12)"
   ]
  },
  {
   "cell_type": "code",
   "execution_count": null,
   "id": "8d324dfa",
   "metadata": {},
   "outputs": [],
   "source": [
    "crime_cnt_day = pd.DataFrame(data = df_78701[\"day\"].value_counts().reset_index().values,\n",
    "                        columns = [\"day\", \"crime_cnt\"]).sort_values(\"day\").reset_index(drop = True)"
   ]
  },
  {
   "cell_type": "code",
   "execution_count": null,
   "id": "8c9f0a32",
   "metadata": {},
   "outputs": [],
   "source": [
    "crime_cnt_day.head(7)"
   ]
  },
  {
   "cell_type": "markdown",
   "id": "55bb5ed5",
   "metadata": {},
   "source": [
    "#### Crime rates are high during weekends for this area. Thsi area is a donwtown area and very active and busy. "
   ]
  },
  {
   "cell_type": "code",
   "execution_count": null,
   "id": "5a04c353",
   "metadata": {},
   "outputs": [],
   "source": [
    "crime_cnt_hour = pd.DataFrame(data = df_78701[\"hour\"].value_counts().reset_index().values,\n",
    "                        columns = [\"hour\", \"crime_cnt\"]).sort_values(\"hour\").reset_index(drop = True)"
   ]
  },
  {
   "cell_type": "code",
   "execution_count": null,
   "id": "c2ea4ee4",
   "metadata": {},
   "outputs": [],
   "source": [
    "crime_cnt_hour.head(3)"
   ]
  },
  {
   "cell_type": "code",
   "execution_count": null,
   "id": "9971eedc",
   "metadata": {
    "scrolled": true
   },
   "outputs": [],
   "source": [
    "fig = make_subplots(rows=2,cols=2, specs = [[{\"type\" : \"scatter\"}, {\"type\" : \"scatter\"}], [{\"type\" : \"scatter\"},\n",
    "                             {\"type\" : \"scatter\"}]],\n",
    "                   subplot_titles = (\"# Crimes per Year\", \"# Crimes per Month\", \"# Crimes per Day\", \"# Crimes per Hour\"))"
   ]
  },
  {
   "cell_type": "code",
   "execution_count": null,
   "id": "2a59d1a4",
   "metadata": {
    "scrolled": true
   },
   "outputs": [],
   "source": [
    "\n",
    "fig.add_trace(\n",
    "    go.Scatter(x=crime_cnt_year.year, y=crime_cnt_year.crime_cnt), row = 1, col = 1)\n",
    "fig.add_trace(\n",
    "    go.Scatter(x=crime_cnt_month.month, y=crime_cnt_month.crime_cnt), row = 1, col = 2)\n",
    "fig.add_trace(\n",
    "    go.Scatter(x=crime_cnt_day.day, y=crime_cnt_day.crime_cnt), row = 2, col = 1)\n",
    "fig.add_trace(\n",
    "    go.Scatter(x=crime_cnt_hour.hour, y=crime_cnt_hour.crime_cnt), row = 2, col = 2)\n",
    "\n",
    "# Update x axes parameters\n",
    "fig.update_xaxes(title_text=\"Year\", row=1, col=1)\n",
    "fig.update_xaxes(title_text=\"Month\", range=[0, 13], row=1, col=2)\n",
    "fig.update_xaxes(title_text=\"Day\", row=2, col=1)\n",
    "fig.update_xaxes(title_text=\"Hour\",row=2, col=2)\n",
    "\n",
    "# Update y axes parameters\n",
    "fig.update_yaxes(title_text=\"# of Crimes\", row=1, col=1)\n",
    "fig.update_yaxes(title_text=\"# of Crimes\",row=1, col=2)\n",
    "fig.update_yaxes(title_text=\"# of Crimes\", row=2, col=1)\n",
    "fig.update_yaxes(title_text=\"# of Crimes\", row=2, col=2)\n",
    "\n",
    "fig.update_layout(showlegend=False,title_text=\"Distributions of Total Crimes Between 2018-2022\", height=900)"
   ]
  },
  {
   "cell_type": "markdown",
   "id": "43ae1b8f",
   "metadata": {},
   "source": [
    "#### EDA on Clearance Status<a id='clearance_status'>"
   ]
  },
  {
   "cell_type": "code",
   "execution_count": null,
   "id": "3d8ae634",
   "metadata": {
    "scrolled": true
   },
   "outputs": [],
   "source": [
    "df_78701['clearance_status'].value_counts()"
   ]
  },
  {
   "cell_type": "code",
   "execution_count": null,
   "id": "84748cf4",
   "metadata": {},
   "outputs": [],
   "source": [
    "df_78701[\"family_violence\"].value_counts()"
   ]
  },
  {
   "cell_type": "code",
   "execution_count": null,
   "id": "5596af0b",
   "metadata": {},
   "outputs": [],
   "source": [
    "crime_family_violence = pd.DataFrame(data = df_78701[\"family_violence\"].value_counts().reset_index().values,\n",
    "                        columns = [\"family_violence\", \"crime_cnt\"]).sort_values(\"family_violence\").reset_index(drop = True)"
   ]
  },
  {
   "cell_type": "code",
   "execution_count": null,
   "id": "69abebae",
   "metadata": {},
   "outputs": [],
   "source": [
    "crime_family_violence.head()"
   ]
  },
  {
   "cell_type": "code",
   "execution_count": null,
   "id": "41897af1",
   "metadata": {},
   "outputs": [],
   "source": [
    "df_78701.head()"
   ]
  },
  {
   "cell_type": "code",
   "execution_count": null,
   "id": "47c1ea49",
   "metadata": {},
   "outputs": [],
   "source": [
    "df_78701.shape"
   ]
  },
  {
   "cell_type": "code",
   "execution_count": null,
   "id": "ef81b23a",
   "metadata": {},
   "outputs": [],
   "source": [
    "df_78701.columns"
   ]
  },
  {
   "cell_type": "code",
   "execution_count": null,
   "id": "75c69191",
   "metadata": {},
   "outputs": [],
   "source": [
    "df_78701['week'] = df_78701['occurred_date'].dt.week"
   ]
  },
  {
   "cell_type": "code",
   "execution_count": null,
   "id": "1eadbd91",
   "metadata": {},
   "outputs": [],
   "source": [
    "df_78701['weekday'] = df_78701['occurred_date'].dt.dayofweek"
   ]
  },
  {
   "cell_type": "code",
   "execution_count": null,
   "id": "21ee643d",
   "metadata": {},
   "outputs": [],
   "source": [
    "df_78701['quarter'] = df_78701['occurred_date'].dt.quarter"
   ]
  },
  {
   "cell_type": "code",
   "execution_count": null,
   "id": "ff1968d1",
   "metadata": {},
   "outputs": [],
   "source": [
    "df_78701.head(3)"
   ]
  },
  {
   "cell_type": "markdown",
   "id": "a748bf94",
   "metadata": {},
   "source": [
    "### TOP TEN CRIMES which occur in the area of 78701"
   ]
  },
  {
   "cell_type": "code",
   "execution_count": null,
   "id": "c7553baf",
   "metadata": {},
   "outputs": [],
   "source": [
    "df_78701['crime_type'].value_counts().head(10)"
   ]
  },
  {
   "cell_type": "code",
   "execution_count": null,
   "id": "e720d47a",
   "metadata": {},
   "outputs": [],
   "source": [
    "df_sector_ge_ba['crime_type'].value_counts().head(10)"
   ]
  },
  {
   "cell_type": "code",
   "execution_count": null,
   "id": "33585c41",
   "metadata": {},
   "outputs": [],
   "source": [
    "df_78701.shape"
   ]
  },
  {
   "cell_type": "code",
   "execution_count": null,
   "id": "ca568f2d",
   "metadata": {},
   "outputs": [],
   "source": [
    "df_sector_ge_ba.shape"
   ]
  },
  {
   "cell_type": "code",
   "execution_count": null,
   "id": "75f90789",
   "metadata": {},
   "outputs": [],
   "source": [
    "common_crime_type = df_78701['crime_type'].value_counts().head(10)\n",
    "sns.set(rc={'figure.figsize':(12,8)},style=\"whitegrid\")\n",
    "g = sns.barplot(y=common_crime_type.index, x=common_crime_type.values,color='b')\n",
    "g.set(xlabel='# crimes reported', ylabel='Crime Types')\n",
    "plt.title('Common Crime Types for zip code 78701')\n",
    "plt.show()"
   ]
  },
  {
   "cell_type": "markdown",
   "id": "975f6086",
   "metadata": {},
   "source": [
    "I will take the top ten crimes from this zip_code 78701 data and will store this a list. Later I would like to analyze the occurance of these top ten crimes per month"
   ]
  },
  {
   "cell_type": "code",
   "execution_count": null,
   "id": "7a2c80d0",
   "metadata": {},
   "outputs": [],
   "source": [
    "top_ten_crimes = df_78701['crime_type'].value_counts(dropna=False).head(10).keys().tolist()"
   ]
  },
  {
   "cell_type": "code",
   "execution_count": null,
   "id": "9a3109ce",
   "metadata": {},
   "outputs": [],
   "source": [
    "top_ten_crimes"
   ]
  },
  {
   "cell_type": "code",
   "execution_count": null,
   "id": "5acc22a2",
   "metadata": {},
   "outputs": [],
   "source": [
    "df_crimes_summary = df_78701[df_78701['crime_type'].isin(top_ten_crimes)]"
   ]
  },
  {
   "cell_type": "code",
   "execution_count": null,
   "id": "57cdd4bd",
   "metadata": {},
   "outputs": [],
   "source": [
    "df_crimes_summary.shape"
   ]
  },
  {
   "cell_type": "code",
   "execution_count": null,
   "id": "89ed1da8",
   "metadata": {},
   "outputs": [],
   "source": [
    "top_ten_crimes_apd = df_sector_ge_ba['crime_type'].value_counts(dropna=False).head(10).keys().tolist()"
   ]
  },
  {
   "cell_type": "code",
   "execution_count": null,
   "id": "07d8c6a9",
   "metadata": {},
   "outputs": [],
   "source": [
    "top_ten_crimes_apd"
   ]
  },
  {
   "cell_type": "code",
   "execution_count": null,
   "id": "c803f69e",
   "metadata": {},
   "outputs": [],
   "source": [
    "df_apd_crimes_summary = df_sector_ge_ba[df_sector_ge_ba['crime_type'].isin(top_ten_crimes_apd)]"
   ]
  },
  {
   "cell_type": "code",
   "execution_count": null,
   "id": "c0ff59f5",
   "metadata": {},
   "outputs": [],
   "source": [
    "df_apd_crimes_summary.shape"
   ]
  },
  {
   "cell_type": "code",
   "execution_count": null,
   "id": "85a62df5",
   "metadata": {},
   "outputs": [],
   "source": [
    "#saving this file\n",
    "csv_name = \"apd_crimes_summary.csv\"\n",
    "df_apd_crimes_summary.to_csv(csv_name, index=False)"
   ]
  },
  {
   "cell_type": "code",
   "execution_count": null,
   "id": "ba4a916d",
   "metadata": {},
   "outputs": [],
   "source": [
    "df_crimes_summary.head()"
   ]
  },
  {
   "cell_type": "code",
   "execution_count": null,
   "id": "4eb57a83",
   "metadata": {},
   "outputs": [],
   "source": [
    "#load dataset\n",
    "df_crimes_summary_orig = pd.read_csv('crimes_summary.csv', parse_dates=['occurred_date_time'])"
   ]
  },
  {
   "cell_type": "code",
   "execution_count": null,
   "id": "918eab1e",
   "metadata": {},
   "outputs": [],
   "source": [
    "df_crimes_summary_orig.shape"
   ]
  },
  {
   "cell_type": "code",
   "execution_count": null,
   "id": "772b38a3",
   "metadata": {},
   "outputs": [],
   "source": [
    "df_crimes_summary_orig.head()"
   ]
  },
  {
   "cell_type": "code",
   "execution_count": null,
   "id": "4c0f5df3",
   "metadata": {},
   "outputs": [],
   "source": []
  },
  {
   "cell_type": "code",
   "execution_count": null,
   "id": "4199fc15",
   "metadata": {},
   "outputs": [],
   "source": [
    "#load dataset\n",
    "df_crimes_summary_gp_apd_code = pd.read_csv('crimes_summary_gp_apd_code.csv', parse_dates=['occurred_date'])"
   ]
  },
  {
   "cell_type": "code",
   "execution_count": null,
   "id": "4daa47fa",
   "metadata": {},
   "outputs": [],
   "source": []
  },
  {
   "cell_type": "code",
   "execution_count": null,
   "id": "c84891c2",
   "metadata": {},
   "outputs": [],
   "source": []
  },
  {
   "cell_type": "code",
   "execution_count": null,
   "id": "fab7a53d",
   "metadata": {},
   "outputs": [],
   "source": []
  },
  {
   "cell_type": "code",
   "execution_count": null,
   "id": "53e314c9",
   "metadata": {},
   "outputs": [],
   "source": []
  },
  {
   "cell_type": "code",
   "execution_count": null,
   "id": "3efcb62c",
   "metadata": {},
   "outputs": [],
   "source": []
  },
  {
   "cell_type": "markdown",
   "id": "4e6f8e92",
   "metadata": {},
   "source": [
    "### Summary of EDA<a id='summary'>"
   ]
  },
  {
   "cell_type": "markdown",
   "id": "15ca5112",
   "metadata": {},
   "source": [
    "Explored data by applying heiarchial method. Chose Council District with high crime cases. From that data, I chose Austin Census Tract under that which has high crime cases followed by the zip code whichis 78701 .\n",
    "\n",
    "<br/>78701 is a downtown area where we see high crimes\n",
    "<br/>Applied Tableau and plotly for visualizations\n",
    "<br/>I am using top ten crimes as the dataset's  features and using year_month as the Time factor. \n",
    "<br />Looks like Assault with injury and Burglary of vehicle, there seems to be slight rise. \n"
   ]
  }
 ],
 "metadata": {
  "kernelspec": {
   "display_name": "Python 3 (ipykernel)",
   "language": "python",
   "name": "python3"
  },
  "language_info": {
   "codemirror_mode": {
    "name": "ipython",
    "version": 3
   },
   "file_extension": ".py",
   "mimetype": "text/x-python",
   "name": "python",
   "nbconvert_exporter": "python",
   "pygments_lexer": "ipython3",
   "version": "3.9.13"
  }
 },
 "nbformat": 4,
 "nbformat_minor": 5
}
